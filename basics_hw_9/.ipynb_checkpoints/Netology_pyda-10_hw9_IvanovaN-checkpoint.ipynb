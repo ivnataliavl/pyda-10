{
 "cells": [
  {
   "cell_type": "markdown",
   "metadata": {},
   "source": [
    "Задание 1.\n",
    "Напишите функцию, которая принимает на вход строку и проверяет является ли она валидным транспортным номером. Если да, то функция должна возвращать отдельно номер и регион.\n"
   ]
  },
  {
   "cell_type": "code",
   "execution_count": 1,
   "metadata": {},
   "outputs": [],
   "source": [
    "import re"
   ]
  },
  {
   "cell_type": "markdown",
   "metadata": {},
   "source": [
    "Условия:\n",
    "тип 1 (однострочный):\n",
    "М 000 MM 55 или М 000 MM 555;\n",
    "\n",
    "- буква \n",
    "- 3 цифры \n",
    "- 2 буквы ()\n",
    "- код региона (от 2 до 3 цифр)\n",
    "\n",
    "Допустимые буквы:  А, В, Е, К, М, Н, О, Р, С, Т, У, Х. "
   ]
  },
  {
   "cell_type": "code",
   "execution_count": 2,
   "metadata": {},
   "outputs": [],
   "source": [
    "car_plates = ['М000ММ55', 'М000ММ555', 'А 000 BC555', 'А 000 ВС555']"
   ]
  },
  {
   "cell_type": "code",
   "execution_count": 3,
   "metadata": {},
   "outputs": [],
   "source": [
    "valid_car_plates = r'([АВЕКМНОРСТУХABEKMHOPCTYX]{1})(?:\\s)*(\\d{3})(?:\\s)*([АВЕКМНОРСТУХABEKMHOPCTYX]{2})(?:\\s)*(\\d{2,3})'\n",
    "spl_num = r'^([АВЕКМНОРСТУХABEKMHOPCTYX]{1})(?:\\s)*(\\d{3})(?:\\s)*([АВЕКМНОРСТУХABEKMHOPCTYX]{2})'\n",
    "spl_reg = r'\\d{2,3}$'"
   ]
  },
  {
   "cell_type": "code",
   "execution_count": 4,
   "metadata": {},
   "outputs": [],
   "source": [
    "def validate_car_plates(plates):\n",
    "    \"\"\"\n",
    "    Функция валидирует госномер транспорта.\n",
    "    На вход принимает список строк с номерами. \n",
    "    Отдает каждый номер в формате кортежа строк: (\"номер\", \"регион\")\n",
    "    \n",
    "    Допустимые символы: пробельные, цифры, буквы верхнего регистра из списка АВЕКМНОРСТУХABEKMHOPCTYX (англ и рус)\n",
    "    \n",
    "    1.Валидирует по правилу:\n",
    "        1 буква, 3 цифры, 2 буквы, 2 или 3 цифры + пробельные символы между буквами и цифрами;\n",
    "    2. Разделяет на \n",
    "        номер: 1 буква, 3 цифры, 2 буквы; \n",
    "        и регион: 2 или 3 цифры;\n",
    "    3. Помещает в кортеж каждую пару\n",
    "    \n",
    "    'А 000 BC555' --> ('А000ВС', '555')\n",
    "    \"\"\"\n",
    "    \n",
    "    splited = [(''.join(list(re.findall(spl_num, pl)[0])), re.findall(spl_reg, pl)[0]) \n",
    "               for pl in car_plates if re.findall(valid_car_plates, pl)]\n",
    "    return splited\n",
    "\n"
   ]
  },
  {
   "cell_type": "code",
   "execution_count": 5,
   "metadata": {},
   "outputs": [
    {
     "data": {
      "text/plain": [
       "[('М000ММ', '55'), ('М000ММ', '555'), ('А000BC', '555'), ('А000ВС', '555')]"
      ]
     },
     "execution_count": 5,
     "metadata": {},
     "output_type": "execute_result"
    }
   ],
   "source": [
    "validate_car_plates(car_plates)"
   ]
  },
  {
   "cell_type": "markdown",
   "metadata": {},
   "source": [
    "Задание 2.\n",
    "Постарайтесь написать (в крайнем случае найти) самый полный шаблон для проверки e-mail адресов через регулярное выражение, которая проверяет e-mail адрес на валидность. Можно руководствоваться следующими минимальными требованиями:\n",
    "\n",
    "• + адрес должен содержать специальный символ “@”, который отделяет имя пользователя почтовой системы от доменного имени;\n",
    "\n",
    "• + адрес не должен содержать следующие символы: “пробел”, “,”, “:”, “;”, “!”, “#”, “%”, “*”, “(”, “)”, “=”, “+”, “{”, “}”, \" \" \", \" ’ \", \" / \", \" \\ \" и “|”;\n",
    "\n",
    "• + адрес должен состоять только из латинских символов;\n",
    "\n",
    "• + после символа “@” должна быть как минимум одна “.”;\n",
    "\n",
    "• + после последней точки должно быть не менее 2-х и не более 4-х символов, причем наличие цифр не допускается;\n",
    "\n",
    "• + между последней точкой и символом “@” должно быть не менее 2-х символов\n",
    "\n",
    "• + слева от “@” должно быть не менее четырех символов"
   ]
  },
  {
   "cell_type": "code",
   "execution_count": 6,
   "metadata": {},
   "outputs": [],
   "source": [
    "sample_emails = ['wobuzhidao@mail.ru', 'wobuzhidao@mail.ru.en', ' wobuzhidao@mail.ru', \n",
    "                 'wobuzhidaomail.ru.en', 'wobuzhida +-=,:;!#%*()=+{}’/\\|;o@mail.ru', \n",
    "                 'wobuzhidaoф@mail.ru.en', 'wobuzhidao@maiф.ru', 'wobuzhidao@mail.ку', \n",
    "                 'wobuzhidao@mailru', 'wobuzhidao@mail.ru.ru.ruuui', 'wobuzhidao@mail.r.ruu', \n",
    "                 'wobuzhidao@m.ru', 'wob@mail.ru']\n",
    "validated_emails = {}"
   ]
  },
  {
   "cell_type": "code",
   "execution_count": 7,
   "metadata": {},
   "outputs": [],
   "source": [
    "email_validation = r'^([a-zA-Z0-9\\._]{4,})@(([a-z0-9]+\\.)*[a-z0-9]{2,}\\.)+[a-z]{2,4}$'"
   ]
  },
  {
   "cell_type": "code",
   "execution_count": 8,
   "metadata": {},
   "outputs": [
    {
     "name": "stdout",
     "output_type": "stream",
     "text": [
      "email \"wobuzhidao@mail.ru\" is valid\n",
      "email \"wobuzhidao@mail.ru.en\" is valid\n",
      "email \" wobuzhidao@mail.ru\" is invalid\n",
      "email \"wobuzhidaomail.ru.en\" is invalid\n",
      "email \"wobuzhida +-=,:;!#%*()=+{}’/\\|;o@mail.ru\" is invalid\n",
      "email \"wobuzhidaoф@mail.ru.en\" is invalid\n",
      "email \"wobuzhidao@maiф.ru\" is invalid\n",
      "email \"wobuzhidao@mail.ку\" is invalid\n",
      "email \"wobuzhidao@mailru\" is invalid\n",
      "email \"wobuzhidao@mail.ru.ru.ruuui\" is invalid\n",
      "email \"wobuzhidao@mail.r.ruu\" is invalid\n",
      "email \"wobuzhidao@m.ru\" is invalid\n",
      "email \"wob@mail.ru\" is invalid\n"
     ]
    }
   ],
   "source": [
    "for mail in sample_emails:\n",
    "    if re.findall(email_validation, mail):\n",
    "        validated_emails[mail]= 'valid'\n",
    "        print(f'email \"{mail}\" is {validated_emails[mail]}')\n",
    "    else:\n",
    "        validated_emails[mail]= 'invalid'\n",
    "        print(f'email \"{mail}\" is {validated_emails[mail]}')\n"
   ]
  },
  {
   "cell_type": "markdown",
   "metadata": {},
   "source": [
    "**Задание 3. **\n",
    "Напишите функцию, которая будет удалять все последовательные повторы слов из заданной строки при помощи регулярных выражений."
   ]
  },
  {
   "cell_type": "code",
   "execution_count": 9,
   "metadata": {},
   "outputs": [],
   "source": [
    "words = 'Что Что такое регулярные регулярные регулярные выражения и и как как их использовать? Напишите Напишите функцию, которая будет будет будет удалять все все последовательные повторы повторы повторы слов из из заданной строки при помощи регулярных выражений.'"
   ]
  },
  {
   "cell_type": "code",
   "execution_count": 10,
   "metadata": {},
   "outputs": [],
   "source": [
    "check_duplicates = r'\\b(\\w+)(?:\\W+\\1\\b)+'\n",
    "replace = r'\\1'"
   ]
  },
  {
   "cell_type": "code",
   "execution_count": 11,
   "metadata": {},
   "outputs": [],
   "source": [
    "def words_duplicates(txt):\n",
    "    no_duplicates = ''\n",
    "    \n",
    "    no_duplicates = re.sub(check_duplicates, replace, txt)\n",
    "    print(no_duplicates)"
   ]
  },
  {
   "cell_type": "code",
   "execution_count": 12,
   "metadata": {},
   "outputs": [
    {
     "name": "stdout",
     "output_type": "stream",
     "text": [
      "Что такое регулярные выражения и как их использовать? Напишите функцию, которая будет удалять все последовательные повторы слов из заданной строки при помощи регулярных выражений.\n"
     ]
    }
   ],
   "source": [
    "words_duplicates(words)"
   ]
  },
  {
   "cell_type": "markdown",
   "metadata": {},
   "source": [
    "Задание 4.\n",
    "Напишите функцию, которая будет проверять номер сотового телефона на валидность, если он валиден, то переводить его в формат:\n",
    "+7(xxx)-xxx-xx-xx\n",
    "\n",
    "\n",
    "Постарайтесь предусмотреть как можно больше адекватных форматов изначального ввода номера. Примеры валидных форматов:\n",
    "\n",
    "\n",
    "• +7 955 555-55-55;\n",
    "\n",
    "• 9555555555;\n",
    "\n",
    "• 8(955)555-55-55;\n",
    "\n",
    "• +7 955 555 55 55;\n",
    "\n",
    "• 7(955) 555-55-55;\n",
    "\n",
    "• '7 (955) 555-55-55'\n",
    "\n",
    "• +7 955+555+55+55."
   ]
  },
  {
   "cell_type": "code",
   "execution_count": 13,
   "metadata": {},
   "outputs": [],
   "source": [
    "phones = ['+7 955 555-55-55', '9555555555', '8(955)555-55-55', \n",
    "          '+7 955 555 55 55', '7(955) 555-55-55', '7 (955) 555-55-55', \n",
    "          '+7 955+555+55+55', '+00000', '68273873618719816', '86 982 989 9827', 'aaaaa']"
   ]
  },
  {
   "cell_type": "code",
   "execution_count": 14,
   "metadata": {},
   "outputs": [],
   "source": [
    "def clean_phones(phones):\n",
    "    \"\"\"\n",
    "    Убирает все символы кроме цифр.\n",
    "    Получает на вход номера список строк с номерами телефонов введенных в произвольном формате.\n",
    "    Отдает список строк.\n",
    "    \n",
    "    ['+7 955 555-55-55', '9555555555', '86 982 989 9827', 'aaaaa'] --> ['79555555555', '9555555555', '869829899827']\n",
    "    \"\"\"\n",
    "    phone_nums = []\n",
    "    \n",
    "    for phone in phones:\n",
    "        phone_nums.append(''.join(re.findall(r'\\d', phone)))\n",
    "    return phone_nums"
   ]
  },
  {
   "cell_type": "code",
   "execution_count": 15,
   "metadata": {},
   "outputs": [],
   "source": [
    "def validate_phones(phone_nums):\n",
    "    \"\"\"\n",
    "    Валидирует номера российских сотовых телефонов.\n",
    "    Получает на вход список строк с номерами, состоящими из цифр.\n",
    "    Если есть невальдные номера, выводит их на экран.\n",
    "    Отдает список строк с валидными номерами.\n",
    "    \n",
    "    Валидирует номера по правилу: \n",
    "        - начинается на 7 или 8, третья цифра - 9, содержит 11 цифр\n",
    "        - начинается на 9, содержит 10 цифр\n",
    "    \n",
    "    '79555555555' -- помещает в список valid\n",
    "    '869829899827' -- помещает в список invalid\n",
    "    \"\"\"\n",
    "\n",
    "    phone_validation = r'^((7|8)(9\\d{9})|(9)\\d{9})'\n",
    "    \n",
    "    valid_phones = []\n",
    "    invalid_phones = []\n",
    "    \n",
    "    for phone in phone_nums:\n",
    "        if re.findall(phone_validation, phone):\n",
    "            valid_phones.append(phone)\n",
    "        else: \n",
    "            invalid_phones.append(phone)\n",
    "    if invalid_phones:\n",
    "        print(f'These phones are invalid: {\", \".join(invalid_phones, )}.')\n",
    "    return valid_phones\n",
    "    "
   ]
  },
  {
   "cell_type": "code",
   "execution_count": 16,
   "metadata": {},
   "outputs": [],
   "source": [
    "def format_phones(valid_phones):\n",
    "    \"\"\"\n",
    "    Форматирует номера российских сотовых телефонов.\n",
    "    Получает на вход список строк с валидными номерами телефонов, состоящими из цифр.\n",
    "    Отдает список строк с отформатированными валидыми номерами телефонов.\n",
    "    \n",
    "    Форматирует к виду: +7(xxx)-xxx-xx-xx\n",
    "    \n",
    "    '79555555555' --> '+7(955)-555-55-55'\n",
    "    '9555555555' --> '+7(955)-555-55-55'\n",
    "    \"\"\"\n",
    "    formatted_phones = []\n",
    "    raw_nums = r'(7|8)*(9\\d{2})(\\d{3})(\\d{2})(\\d{2})'\n",
    "    replacement = r'+7(\\2)-\\3-\\4-\\5'\n",
    "    \n",
    "    for phone in valid_phones:\n",
    "        formatted_phones.append(re.sub(raw_nums, replacement, phone))\n",
    "    return formatted_phones"
   ]
  },
  {
   "cell_type": "code",
   "execution_count": 17,
   "metadata": {},
   "outputs": [
    {
     "name": "stdout",
     "output_type": "stream",
     "text": [
      "These phones are invalid: 00000, 68273873618719816, 869829899827, .\n"
     ]
    },
    {
     "data": {
      "text/plain": [
       "['+7(955)-555-55-55',\n",
       " '+7(955)-555-55-55',\n",
       " '+7(955)-555-55-55',\n",
       " '+7(955)-555-55-55',\n",
       " '+7(955)-555-55-55',\n",
       " '+7(955)-555-55-55',\n",
       " '+7(955)-555-55-55']"
      ]
     },
     "execution_count": 17,
     "metadata": {},
     "output_type": "execute_result"
    }
   ],
   "source": [
    "format_phones(validate_phones(clean_phones(phones)))"
   ]
  }
 ],
 "metadata": {
  "kernelspec": {
   "display_name": "Python 3",
   "language": "python",
   "name": "python3"
  },
  "language_info": {
   "codemirror_mode": {
    "name": "ipython",
    "version": 3
   },
   "file_extension": ".py",
   "mimetype": "text/x-python",
   "name": "python",
   "nbconvert_exporter": "python",
   "pygments_lexer": "ipython3",
   "version": "3.7.6"
  }
 },
 "nbformat": 4,
 "nbformat_minor": 4
}
