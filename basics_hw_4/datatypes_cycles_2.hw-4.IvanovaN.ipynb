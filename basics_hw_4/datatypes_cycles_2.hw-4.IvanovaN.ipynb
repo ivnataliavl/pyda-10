{
 "cells": [
  {
   "cell_type": "markdown",
   "metadata": {},
   "source": [
    "**Задание 1**. Дан список с визитами по городам и странам. \n",
    "Напишите код, который возвращает отфильтрованный список geo_logs, содержащий только визиты из России."
   ]
  },
  {
   "cell_type": "code",
   "execution_count": 1,
   "metadata": {},
   "outputs": [],
   "source": [
    "geo_logs = [\n",
    "    {'visit1': ['Москва', 'Россия']},\n",
    "    {'visit2': ['Дели', 'Индия']},\n",
    "    {'visit3': ['Владимир', 'Россия']},\n",
    "    {'visit4': ['Лиссабон', 'Португалия']},\n",
    "    {'visit5': ['Париж', 'Франция']},\n",
    "    {'visit6': ['Лиссабон', 'Португалия']},\n",
    "    {'visit7': ['Тула', 'Россия']},\n",
    "    {'visit8': ['Тула', 'Россия']},\n",
    "    {'visit9': ['Курск', 'Россия']},\n",
    "    {'visit10': ['Архангельск', 'Россия']}\n",
    "]"
   ]
  },
  {
   "cell_type": "code",
   "execution_count": 3,
   "metadata": {},
   "outputs": [
    {
     "name": "stdout",
     "output_type": "stream",
     "text": [
      "[{'visit1': ['Москва', 'Россия']},\n",
      " {'visit3': ['Владимир', 'Россия']},\n",
      " {'visit7': ['Тула', 'Россия']},\n",
      " {'visit8': ['Тула', 'Россия']},\n",
      " {'visit9': ['Курск', 'Россия']},\n",
      " {'visit10': ['Архангельск', 'Россия']}]\n"
     ]
    }
   ],
   "source": [
    "# Вариант 1\n",
    "\n",
    "from pprint import pprint\n",
    "\n",
    "\n",
    "filtered_geo_logs = []\n",
    "\n",
    "for item in geo_logs:\n",
    "    for key, value in item.items():\n",
    "        if value[1] == 'Россия':\n",
    "            filtered_geo_logs.append(item)\n",
    "            \n",
    "pprint(filtered_geo_logs)"
   ]
  },
  {
   "cell_type": "code",
   "execution_count": 4,
   "metadata": {},
   "outputs": [
    {
     "name": "stdout",
     "output_type": "stream",
     "text": [
      "[{'visit1': ['Москва', 'Россия']},\n",
      " {'visit3': ['Владимир', 'Россия']},\n",
      " {'visit7': ['Тула', 'Россия']},\n",
      " {'visit8': ['Тула', 'Россия']},\n",
      " {'visit9': ['Курск', 'Россия']},\n",
      " {'visit10': ['Архангельск', 'Россия']}]\n"
     ]
    }
   ],
   "source": [
    "# Вариант 2\n",
    "\n",
    "filtered = [log for log in geo_logs if list(log.values())[0][1] == 'Россия']\n",
    "pprint(filtered)"
   ]
  },
  {
   "cell_type": "markdown",
   "metadata": {},
   "source": [
    "**Задание 2**. Выведите на экран все уникальные гео-ID из значений словаря ids. Т. е. список вида [213, 15, 54, 119, 98, 35]"
   ]
  },
  {
   "cell_type": "code",
   "execution_count": 5,
   "metadata": {},
   "outputs": [],
   "source": [
    "ids = {'user1': [213, 213, 213, 15, 213], \n",
    "       'user2': [54, 54, 119, 119, 119], \n",
    "       'user3': [213, 98, 98, 35]}"
   ]
  },
  {
   "cell_type": "code",
   "execution_count": 6,
   "metadata": {},
   "outputs": [
    {
     "name": "stdout",
     "output_type": "stream",
     "text": [
      "[98, 35, 15, 213, 54, 119]\n"
     ]
    }
   ],
   "source": [
    "unique_ids = set()\n",
    "\n",
    "for value in ids.values():\n",
    "    unique_ids.update(value)\n",
    "print(list(unique_ids))"
   ]
  },
  {
   "cell_type": "markdown",
   "metadata": {},
   "source": [
    "**Задание 3**. Дан список поисковых запросов. Получить распределение количества слов в них. \n",
    "Т. е. поисковых запросов из одного - слова 5%, из двух - 7%, из трех - 3% и т.д."
   ]
  },
  {
   "cell_type": "code",
   "execution_count": 7,
   "metadata": {},
   "outputs": [],
   "source": [
    "queries = [\n",
    "    'смотреть сериалы онлайн',\n",
    "    'новости спорта',\n",
    "    'афиша кино',\n",
    "    'курс доллара',\n",
    "    'сериалы этим летом',\n",
    "    'курс по питону',\n",
    "    'сериалы про спорт',\n",
    "]"
   ]
  },
  {
   "cell_type": "code",
   "execution_count": 9,
   "metadata": {},
   "outputs": [
    {
     "name": "stdout",
     "output_type": "stream",
     "text": [
      "Доля поисковых запросов длинной в 2 слова - 42.9 %. Доля поисковых запросов длинной в 3 слова - 57.1 %.\n"
     ]
    }
   ],
   "source": [
    "# Вариант 1\n",
    "\n",
    "queries_length = []\n",
    "for query in queries:\n",
    "    queries_length.append(query.count(' ') + 1)\n",
    "\n",
    "# для проверки решения\n",
    "# print(queries_length)     \n",
    "# print(round(queries_length.count(2)/len(queries_length)*100, 1))\n",
    "# print(round(queries_length.count(3)/len(queries_length)*100, 1))\n",
    "\n",
    "print(f'Доля поисковых запросов длинной в 2 слова - {round(queries_length.count(2)/len(queries_length)*100, 1)} %. Доля поисковых запросов длинной в 3 слова - {round(queries_length.count(3)/len(queries_length)*100, 1)} %.')"
   ]
  },
  {
   "cell_type": "code",
   "execution_count": 11,
   "metadata": {},
   "outputs": [
    {
     "name": "stdout",
     "output_type": "stream",
     "text": [
      "Доля поисковых запросов длинной в 2 слова - 42.9 %. Доля поисковых запросов длинной в 3 слова - 57.1 %.\n"
     ]
    }
   ],
   "source": [
    "# Вариант 2\n",
    "\n",
    "queries_length = [query.count(' ') + 1 for query in queries]\n",
    "\n",
    "# для проверки решения\n",
    "# print(queries_length)     \n",
    "# print(round(queries_length.count(2)/len(queries_length)*100, 1))\n",
    "# print(round(queries_length.count(3)/len(queries_length)*100, 1))\n",
    "\n",
    "print(f'Доля поисковых запросов длинной в 2 слова - {round(queries_length.count(2)/len(queries_length)*100, 1)} %. Доля поисковых запросов длинной в 3 слова - {round(queries_length.count(3)/len(queries_length)*100, 1)} %.')"
   ]
  },
  {
   "cell_type": "markdown",
   "metadata": {},
   "source": [
    "**Задание 4**. Дана статистика рекламных каналов по объемам продаж. Напишите скрипт, который возвращает название канала с максимальным объемом.\n",
    "Т. е. в данном примере скрипт должен возвращать 'yandex'."
   ]
  },
  {
   "cell_type": "code",
   "execution_count": 12,
   "metadata": {},
   "outputs": [],
   "source": [
    "stats = {'facebook': 55, 'yandex': 120, 'vk': 115, 'google': 99, 'email': 42, 'ok': 98}"
   ]
  },
  {
   "cell_type": "code",
   "execution_count": 15,
   "metadata": {},
   "outputs": [
    {
     "name": "stdout",
     "output_type": "stream",
     "text": [
      "yandex\n"
     ]
    }
   ],
   "source": [
    "# Вариант 1\n",
    "\n",
    "max_sales = []\n",
    "\n",
    "for item in stats.items():\n",
    "    if max_sales == [] or max_sales[1] < item[1]:\n",
    "        max_sales = item\n",
    "    \n",
    "print(max_sales[0])"
   ]
  },
  {
   "cell_type": "code",
   "execution_count": 17,
   "metadata": {},
   "outputs": [
    {
     "name": "stdout",
     "output_type": "stream",
     "text": [
      "['yandex']\n"
     ]
    }
   ],
   "source": [
    "# Вариант 2\n",
    "\n",
    "print(str([k for k,v in stats.items() if v == max(stats.values())]))"
   ]
  },
  {
   "cell_type": "markdown",
   "metadata": {},
   "source": [
    "**Задание 5**. Напишите код для преобразования произвольного списка вида ['2018-01-01', 'yandex', 'cpc', 100] (он может быть любой длины) в словарь {'2018-01-01': {'yandex': {'cpc': 100}}}"
   ]
  },
  {
   "cell_type": "code",
   "execution_count": 18,
   "metadata": {},
   "outputs": [
    {
     "name": "stdout",
     "output_type": "stream",
     "text": [
      "{'2018-01-01': {'yandex': {'cpc': 100}}}\n",
      "[]\n"
     ]
    }
   ],
   "source": [
    "# Вариант 1\n",
    "\n",
    "list_var =  ['2018-01-01', 'yandex', 'cpc', 100] \n",
    "\n",
    "dict_var = {}\n",
    "i = -1\n",
    "\n",
    "while len(list_var) > 0:\n",
    "    if dict_var == {}:\n",
    "        value = list_var.pop(i)\n",
    "        key = list_var.pop(i)\n",
    "        dict_var = {key:value}\n",
    "    else:\n",
    "        key = list_var.pop(i)\n",
    "        dict_var = {key:dict_var}\n",
    "\n",
    "print(dict_var)\n",
    "print(list_var)\n"
   ]
  },
  {
   "cell_type": "code",
   "execution_count": 19,
   "metadata": {},
   "outputs": [
    {
     "name": "stdout",
     "output_type": "stream",
     "text": [
      "{'2018-01-01': {'yandex': {'cpc': 100}}}\n"
     ]
    }
   ],
   "source": [
    "# Вариант 2\n",
    "\n",
    "list_var =  ['2018-01-01', 'yandex', 'cpc', 100] \n",
    "dict_var = {}\n",
    "\n",
    "dict_var = {list_var[-2]:list_var[-1]}\n",
    "for elem in list(reversed(list_var[0:-2])):\n",
    "    dict_var = {elem:dict_var}\n",
    "\n",
    "print(dict_var)"
   ]
  }
 ],
 "metadata": {
  "kernelspec": {
   "display_name": "Python 3",
   "language": "python",
   "name": "python3"
  },
  "language_info": {
   "codemirror_mode": {
    "name": "ipython",
    "version": 3
   },
   "file_extension": ".py",
   "mimetype": "text/x-python",
   "name": "python",
   "nbconvert_exporter": "python",
   "pygments_lexer": "ipython3",
   "version": "3.7.6"
  }
 },
 "nbformat": 4,
 "nbformat_minor": 4
}
