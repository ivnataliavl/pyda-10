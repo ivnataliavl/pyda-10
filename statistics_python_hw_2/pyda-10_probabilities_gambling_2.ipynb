{
 "cells": [
  {
   "cell_type": "markdown",
   "metadata": {
    "collapsed": true,
    "pycharm": {
     "name": "#%% md\n"
    }
   },
   "source": [
    "Смоделировать игру против лотерейного автомата типа “777”. Игрок платит 1 руб.,\n",
    "после чего выпадает случайное целое число, равномерно распределенное от 0 до 999.\n",
    "При некоторых значениях числа игрок получает выигрыш (см. справа)\n",
    "\n",
    "Выгодна ли игра игроку?\n",
    "\n",
    "Сколько в среднем приобретает\n",
    "или теряет игрок за одну игру?\n",
    "\n",
    "- 777: 200 руб.\n",
    "- 999: 100 руб.\n",
    "- 555: 50 руб.\n",
    "- 333: 15 руб.\n",
    "- 111: 10 руб.\n",
    "- *77: 5 руб.\n",
    "- **7: 3 руб.\n",
    "- *00: 2 руб.\n",
    "- **0: 1 руб.\n",
    "\n",
    "* – любая цифра\n",
    "\n",
    "\n",
    "**Дополнительное задание повышенной сложности.**\n",
    "\n",
    "Теоретически рассчитать средний выигрыш (проигрыш) и сравнить с результатами моделирования"
   ]
  },
  {
   "cell_type": "code",
   "execution_count": 32,
   "outputs": [],
   "source": [
    "import random\n",
    "\n"
   ],
   "metadata": {
    "collapsed": false,
    "pycharm": {
     "name": "#%%\n"
    }
   }
  },
  {
   "cell_type": "code",
   "execution_count": 31,
   "outputs": [],
   "source": [
    "from typing import Iterator\n",
    "class Gambler:\n",
    "    __winning_nums =  {\n",
    "        777: 200,\n",
    "        999: 100,\n",
    "        555: 50,\n",
    "        333: 15,\n",
    "        111: 10\n",
    "    }\n",
    "\n",
    "    __winning_lookups = [\n",
    "        (lambda s: s.endswith(\"77\"), 5), # *77\n",
    "        (lambda s: s.endswith(\"7\"), 3), # **7\n",
    "        (lambda s: s.endswith(\"00\"), 2), # *00\n",
    "        (lambda s: s.endswith(\"0\"), 1), # **0\n",
    "    ]\n",
    "\n",
    "    def __init__(self) -> None:\n",
    "        self._randomizer = random.SystemRandom()\n",
    "\n",
    "    def __iter__(self) -> Iterator[int]:\n",
    "        for _ in iter(int, 1):\n",
    "            combination = self._randomizer.randint(0, 1000)\n",
    "            if combination in self.__winning_nums:\n",
    "                yield self.__winning_nums[combination]\n",
    "                continue\n",
    "\n",
    "            combination_str = str(combination).rjust(3, '0')\n",
    "            for test_func, value in self.__winning_lookups:\n",
    "                if test_func(combination_str):\n",
    "                    yield value\n",
    "                    continue\n",
    "\n",
    "            yield 0"
   ],
   "metadata": {
    "collapsed": false,
    "pycharm": {
     "name": "#%%\n"
    }
   }
  },
  {
   "cell_type": "code",
   "execution_count": 35,
   "outputs": [
    {
     "name": "stdout",
     "output_type": "stream",
     "text": [
      "Игр: 100000 \n",
      "Потрачено денег: 100000 \n",
      "Выиграно денег: 69353\n",
      "Игрок приобретает в среднем за 1 игру: -0.30647 денег\n",
      "Игр: 100000 \n",
      "Потрачено денег: 100000 \n",
      "Выиграно денег: 69909\n",
      "Игрок приобретает в среднем за 1 игру: -0.30091 денег\n",
      "Игр: 100000 \n",
      "Потрачено денег: 100000 \n",
      "Выиграно денег: 68327\n",
      "Игрок приобретает в среднем за 1 игру: -0.31673 денег\n",
      "Игр: 100000 \n",
      "Потрачено денег: 100000 \n",
      "Выиграно денег: 69282\n",
      "Игрок приобретает в среднем за 1 игру: -0.30718 денег\n",
      "Игр: 100000 \n",
      "Потрачено денег: 100000 \n",
      "Выиграно денег: 68453\n",
      "Игрок приобретает в среднем за 1 игру: -0.31547 денег\n",
      "Игр: 100000 \n",
      "Потрачено денег: 100000 \n",
      "Выиграно денег: 69520\n",
      "Игрок приобретает в среднем за 1 игру: -0.3048 денег\n",
      "Игр: 100000 \n",
      "Потрачено денег: 100000 \n",
      "Выиграно денег: 67296\n",
      "Игрок приобретает в среднем за 1 игру: -0.32704 денег\n",
      "Игр: 100000 \n",
      "Потрачено денег: 100000 \n",
      "Выиграно денег: 69499\n",
      "Игрок приобретает в среднем за 1 игру: -0.30501 денег\n",
      "1.35 s ± 105 ms per loop (mean ± std. dev. of 7 runs, 1 loop each)\n"
     ]
    }
   ],
   "source": [
    "%%timeit\n",
    "gambler = Gambler()\n",
    "gambler_iter = iter(gambler)\n",
    "\n",
    "iterations = 100000\n",
    "gamer_won = 0\n",
    "\n",
    "for snatch in range(0, iterations):\n",
    "    gamer_won += next(gambler_iter)\n",
    "\n",
    "print(\n",
    "    f\"Игр: {iterations} \\n\"\n",
    "    f\"Потрачено денег: {iterations} \\n\"\n",
    "    f\"Выиграно денег: {gamer_won}\\n\"\n",
    "    f\"Игрок приобретает в среднем за 1 игру: {(gamer_won - iterations) / iterations} денег\"\n",
    ")\n",
    "\n",
    "# Игра не выгодна, при увеличении количества интераций средний проигрыш колеблется в диапозоне 0,3 - 0,32 рублей\n",
    "# При итерациях меньше 1000 игра иногда может быть выгодной"
   ],
   "metadata": {
    "collapsed": false,
    "pycharm": {
     "name": "#%%\n"
    }
   }
  },
  {
   "cell_type": "markdown",
   "source": [
    "## Теоретический расчет среднего выигрыша"
   ],
   "metadata": {
    "collapsed": false,
    "pycharm": {
     "name": "#%% md\n"
    }
   }
  },
  {
   "cell_type": "markdown",
   "source": [
    "События:\n",
    "\n",
    "- P(выигрыша) = количество всех выигрышных комбинаций/ все возможные комбинации\n",
    "- P(проигрыша) = 1 - P(выигрыша)\n",
    "\n",
    "- P(любая цифра) = 1 или 100%\n",
    "\n",
    "- P(конкретная цифра) = 0,1 - 10%, один шанс из 10\n",
    "- P(все кроме конкретной цифры) = 1- P(конкретная цифра) = 1 - 0,1\n",
    "\n",
    "- P(&lowast;&lowast;7) = 1&lowast;1&lowast;0,1\n",
    "- P(&lowast;77) =  = 1&lowast;0,1&lowast;0,1\n",
    "- P(777)= P(конкретная цифра) &lowast; P(конкретная цифра) &lowast; P(конкретная цифра) = 0,1&lowast;0,1&lowast;0,1"
   ],
   "metadata": {
    "collapsed": false,
    "pycharm": {
     "name": "#%% md\n"
    }
   }
  },
  {
   "cell_type": "code",
   "execution_count": 38,
   "outputs": [
    {
     "name": "stdout",
     "output_type": "stream",
     "text": [
      "Теоретический чистый средний выигрыш: 0.8 \n",
      "Теоретический чистый средний проигрыш: -1 \n",
      "Выгода: -0.2\n"
     ]
    }
   ],
   "source": [
    "prob_777 = 0.1*0.1*0.1 #вероятность получения 200р\n",
    "prob_999 = 0.1*0.1*0.1 #вероятность получения 100р\n",
    "prob_555 = 0.1*0.1*0.1 #вероятность получения 50р\n",
    "prob_333 = 0.1*0.1*0.1 #вероятность получения 15р\n",
    "prob_111 = 0.1*0.1*0.1 #вероятность получения 10р\n",
    "prob_x77 = (1*0.1*0.1) - prob_777 #вероятность получения 5р\n",
    "prob_xx7 = (1*1*0.1) - prob_777 - prob_x77 #вероятность получения 3р\n",
    "prob_x00 = 1*0.1*0.1 #вероятность получения 2р\n",
    "prob_xx0 = (1*1*0.1) - prob_x00 #вероятность получения 1р\n",
    "\n",
    "prob_winning = (prob_777+ prob_999+ prob_555 + prob_333 +\n",
    "                prob_111 + prob_x77 + prob_xx7 + prob_x00 + prob_xx0) # вероятность получения выигрыша\n",
    "\n",
    "average_winning = (\n",
    "    (prob_777*200)+\n",
    "    (prob_999*100)+\n",
    "    (prob_555*50)+\n",
    "    (prob_333*15)+\n",
    "    (prob_111*10)+\n",
    "    (prob_x77*5)+\n",
    "    (prob_xx7*3)+\n",
    "    (prob_x00*2)+\n",
    "    (prob_xx0*1) )\n",
    "\n",
    "average_losing = -1\n",
    "\n",
    "\n",
    "print(f\"Теоретический чистый средний выигрыш: {average_winning} \\n\"\n",
    "      f\"Теоретический чистый средний проигрыш: {average_losing} \\n\"\n",
    "      f\"Выгода: {round(average_winning+average_losing, 3)}\")"
   ],
   "metadata": {
    "collapsed": false,
    "pycharm": {
     "name": "#%%\n"
    }
   }
  },
  {
   "cell_type": "markdown",
   "source": [
    "Теоретический расчет среднего выигрыша имеет близкое значение с результатами моделирования.\n",
    "Хотя, погрешность достаточно большая"
   ],
   "metadata": {
    "collapsed": false,
    "pycharm": {
     "name": "#%% md\n"
    }
   }
  }
 ],
 "metadata": {
  "kernelspec": {
   "display_name": "Python 3",
   "language": "python",
   "name": "python3"
  },
  "language_info": {
   "codemirror_mode": {
    "name": "ipython",
    "version": 2
   },
   "file_extension": ".py",
   "mimetype": "text/x-python",
   "name": "python",
   "nbconvert_exporter": "python",
   "pygments_lexer": "ipython2",
   "version": "2.7.6"
  }
 },
 "nbformat": 4,
 "nbformat_minor": 0
}