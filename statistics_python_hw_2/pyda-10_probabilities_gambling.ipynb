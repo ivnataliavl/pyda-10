{
 "cells": [
  {
   "cell_type": "markdown",
   "metadata": {
    "collapsed": true,
    "pycharm": {
     "name": "#%% md\n"
    }
   },
   "source": [
    "Смоделировать игру против лотерейного автомата типа “777”. Игрок платит 1 руб.,\n",
    "после чего выпадает случайное целое число, равномерно распределенное от 0 до 999.\n",
    "При некоторых значениях числа игрок получает выигрыш (см. справа)\n",
    "\n",
    "Выгодна ли игра игроку?\n",
    "\n",
    "Сколько в среднем приобретает\n",
    "или теряет игрок за одну игру?\n",
    "\n",
    "- 777: 200 руб.\n",
    "- 999: 100 руб.\n",
    "- 555: 50 руб.\n",
    "- 333: 15 руб.\n",
    "- 111: 10 руб.\n",
    "- *77: 5 руб.\n",
    "- **7: 3 руб.\n",
    "- *00: 2 руб.\n",
    "- **0: 1 руб.\n",
    "\n",
    "* – любая цифра\n",
    "\n",
    "\n",
    "**Дополнительное задание повышенной сложности.**\n",
    "\n",
    "Теоретически рассчитать средний выигрыш (проигрыш) и сравнить с результатами моделирования"
   ]
  },
  {
   "cell_type": "code",
   "execution_count": 1,
   "outputs": [],
   "source": [
    "import numpy as np\n",
    "import re\n"
   ],
   "metadata": {
    "collapsed": false,
    "pycharm": {
     "name": "#%%\n"
    }
   }
  },
  {
   "cell_type": "code",
   "execution_count": 84,
   "outputs": [],
   "source": [
    "iterations = 1000000\n",
    "gamer_payed = 0\n",
    "gamer_won = 0"
   ],
   "metadata": {
    "collapsed": false,
    "pycharm": {
     "name": "#%%\n"
    }
   }
  },
  {
   "cell_type": "code",
   "execution_count": 79,
   "outputs": [],
   "source": [
    "winning_nums =  {\n",
    "    '777': 200, '999': 100, '555': 50, '333': 15, '111': 10\n",
    "}\n",
    "\n",
    "winning_lookups = [\n",
    "    (r'([012345689]{0,2})(?<!7)77$', 5), # *77\n",
    "    (r'([012345689]{1,2})(?<!7)7$', 3), # **7\n",
    "    (r'[0-9]{0,2}00$', 2),  # *00\n",
    "    (r'[0-9]{0,2}(?<!0)0$', 1)  # **0\n",
    "]\n",
    "\n",
    "def gamble():\n",
    "    global gamer_payed\n",
    "    global gamer_won\n",
    "\n",
    "    gamer_payed += 1\n",
    "    result = \"\"\n",
    "\n",
    "    for i in range(3):\n",
    "        result += str(np.random.randint(0, 10))\n",
    "\n",
    "    # print(f\"Your numbers are: {result}\")\n",
    "\n",
    "    if result in winning_nums:\n",
    "        gamer_won += winning_nums[result]\n",
    "        # print(f\"Congrats! You won: {winning_nums[result]}. Total: {gamer_won}\")\n",
    "        return gamer_won, gamer_payed\n",
    "    else:\n",
    "        for pattern, value in winning_lookups:\n",
    "            if re.match(pattern, result):\n",
    "                gamer_won += value\n",
    "                # print(f\"Congrats! You won: {value}. Total: {gamer_won}\")\n",
    "                return gamer_won, gamer_payed\n",
    "\n",
    "        # print(f'Sorry, you lost. '\n",
    "        #       f'You spent: {gamer_payed}, you won: {gamer_won}')\n",
    "    return gamer_won, gamer_payed"
   ],
   "metadata": {
    "collapsed": false,
    "pycharm": {
     "name": "#%%\n"
    }
   }
  },
  {
   "cell_type": "markdown",
   "source": [
    "### Комментарий к домашней работе от преподавателя:\n",
    "оказываются неверные выигрыши для комбинаций 000, 007, * 70, 7 * 0\n",
    "\n",
    "Выигрыш для комбинации:\n",
    "- 000 = 2 рубля\n",
    "- 007 = 3 рубля\n",
    "- *70 = 1 рубль\n",
    "- 7*0 = 1 рубль\n",
    "\n",
    "Кроме этого, вы задаёте диапазон случайных чисел до 998, а не 999 - исправлено"
   ],
   "metadata": {
    "collapsed": false,
    "pycharm": {
     "name": "#%% md\n"
    }
   }
  },
  {
   "cell_type": "markdown",
   "source": [
    "Были исправлены регулярные выражения для *00 и **0, регулярные выражения для **7 и *77 - корректны.\n",
    "В ходе тестирования ошибок обнаружения для 007, * 70, 7 * 0 обнаружено не было.\n",
    "\n",
    "Был полностью изменен механизм формирования комбинации -\n",
    "каждая цифра в числе формируется по отдельности последовательно, так же как это происходит в игровом автомате.\n",
    "Таким образом, теперь могут появляться числовые комбинации состоящие из 0 или начинающиеся на один или два 0."
   ],
   "metadata": {
    "collapsed": false,
    "pycharm": {
     "name": "#%% md\n"
    }
   }
  },
  {
   "cell_type": "code",
   "execution_count": 61,
   "outputs": [
    {
     "name": "stdout",
     "output_type": "stream",
     "text": [
      "Your numbers are: 000\n",
      "Congrats! You won: 2. Total: 15\n"
     ]
    },
    {
     "data": {
      "text/plain": "(15, 20)"
     },
     "execution_count": 61,
     "metadata": {},
     "output_type": "execute_result"
    }
   ],
   "source": [
    "# Проверка для 000\n",
    "# Регулярное выражение отрабатывает корректно, проблема была в том, что в переменную result записывалось число 000,\n",
    "# которое после конвертации в строку преобразовывалось в 0, что и давало некорректный результат.\n",
    "\n",
    "gamble()"
   ],
   "metadata": {
    "collapsed": false,
    "pycharm": {
     "name": "#%%\n"
    }
   }
  },
  {
   "cell_type": "code",
   "execution_count": 68,
   "outputs": [
    {
     "name": "stdout",
     "output_type": "stream",
     "text": [
      "Your numbers are: 007\n",
      "Congrats! You won: 3. Total: 3\n"
     ]
    },
    {
     "data": {
      "text/plain": "(3, 1)"
     },
     "execution_count": 68,
     "metadata": {},
     "output_type": "execute_result"
    }
   ],
   "source": [
    "# Проверка для 007\n",
    "\n",
    "gamble()"
   ],
   "metadata": {
    "collapsed": false,
    "pycharm": {
     "name": "#%%\n"
    }
   }
  },
  {
   "cell_type": "code",
   "execution_count": 73,
   "outputs": [
    {
     "name": "stdout",
     "output_type": "stream",
     "text": [
      "Your numbers are: 170\n",
      "Congrats! You won: 1. Total: 1\n"
     ]
    },
    {
     "data": {
      "text/plain": "(1, 1)"
     },
     "execution_count": 73,
     "metadata": {},
     "output_type": "execute_result"
    }
   ],
   "source": [
    "# Проверка для *70\n",
    "\n",
    "gamble()\n"
   ],
   "metadata": {
    "collapsed": false,
    "pycharm": {
     "name": "#%%\n"
    }
   }
  },
  {
   "cell_type": "code",
   "execution_count": 75,
   "outputs": [
    {
     "name": "stdout",
     "output_type": "stream",
     "text": [
      "Your numbers are: 710\n",
      "Congrats! You won: 1. Total: 2\n"
     ]
    },
    {
     "data": {
      "text/plain": "(2, 2)"
     },
     "execution_count": 75,
     "metadata": {},
     "output_type": "execute_result"
    }
   ],
   "source": [
    "# Проверка для 7*0\n",
    "\n",
    "gamble()"
   ],
   "metadata": {
    "collapsed": false,
    "pycharm": {
     "name": "#%%\n"
    }
   }
  },
  {
   "cell_type": "code",
   "execution_count": 85,
   "outputs": [
    {
     "name": "stdout",
     "output_type": "stream",
     "text": [
      "Игр: 1000000 \n",
      "Потрачено денег: 1000000 \n",
      "Выиграно денег: 786824\n",
      "Игрок приобретает в среднем за 1 игру: -0.213176 денег\n"
     ]
    }
   ],
   "source": [
    "for i in range(iterations):\n",
    "    gamble()\n",
    "\n",
    "print(\n",
    "    f\"Игр: {iterations} \\n\"\n",
    "    f\"Потрачено денег: {gamer_payed} \\n\"\n",
    "    f\"Выиграно денег: {gamer_won}\\n\"\n",
    "    f\"Игрок приобретает в среднем за 1 игру: {(gamer_won-gamer_payed)/ iterations} денег\"\n",
    ")\n",
    "\n",
    "# Игра не выгодна, при увеличении количества интераций средний проигрыш колеблется в районе -0,2 рублей\n",
    "# При итерациях меньше 1000 игра иногда может быть выгодной"
   ],
   "metadata": {
    "collapsed": false,
    "pycharm": {
     "name": "#%%\n"
    }
   }
  },
  {
   "cell_type": "markdown",
   "source": [
    "## Теоретический расчет среднего выигрыша"
   ],
   "metadata": {
    "collapsed": false,
    "pycharm": {
     "name": "#%% md\n"
    }
   }
  },
  {
   "cell_type": "markdown",
   "source": [
    "События:\n",
    "\n",
    "- P(выигрыша) = количество всех выигрышных комбинаций/ все возможные комбинации\n",
    "- P(проигрыша) = 1 - P(выигрыша)\n",
    "\n",
    "- P(любая цифра) = 1 или 100%\n",
    "\n",
    "- P(конкретная цифра) = 0,1 - 10%, один шанс из 10\n",
    "- P(все кроме конкретной цифры) = 1- P(конкретная цифра) = 1 - 0,1\n",
    "\n",
    "- P(&lowast;&lowast;7) = 1&lowast;1&lowast;0,1\n",
    "- P(&lowast;77) =  = 1&lowast;0,1&lowast;0,1\n",
    "- P(777)= P(конкретная цифра) &lowast; P(конкретная цифра) &lowast; P(конкретная цифра) = 0,1&lowast;0,1&lowast;0,1"
   ],
   "metadata": {
    "collapsed": false,
    "pycharm": {
     "name": "#%% md\n"
    }
   }
  },
  {
   "cell_type": "code",
   "execution_count": 4,
   "outputs": [
    {
     "name": "stdout",
     "output_type": "stream",
     "text": [
      "Теоретический чистый средний выигрыш: 0.5960000000000001 \n",
      "Теоретический чистый средний проигрыш: -0.796 \n",
      "Выгода: -0.2\n"
     ]
    }
   ],
   "source": [
    "prob_777 = 0.1*0.1*0.1 #вероятность получения 200р\n",
    "prob_999 = 0.1*0.1*0.1 #вероятность получения 100р\n",
    "prob_555 = 0.1*0.1*0.1 #вероятность получения 50р\n",
    "prob_333 = 0.1*0.1*0.1 #вероятность получения 15р\n",
    "prob_111 = 0.1*0.1*0.1 #вероятность получения 10р\n",
    "prob_x77 = (1*0.1*0.1) - prob_777 #вероятность получения 5р\n",
    "prob_xx7 = (1*1*0.1) - prob_777 - prob_x77 #вероятность получения 3р\n",
    "prob_x00 = 1*0.1*0.1 #вероятность получения 2р\n",
    "prob_xx0 = (1*1*0.1) - prob_x00 #вероятность получения 1р\n",
    "\n",
    "prob_winning = (prob_777+ prob_999+ prob_555 + prob_333 +\n",
    "                prob_111 + prob_x77 + prob_xx7 + prob_x00 + prob_xx0) # вероятность получения выигрыша\n",
    "\n",
    "average_winning = (\n",
    "    (prob_777*(200-1))+  # из суммы выигрыша вычитаем затраты на игру\n",
    "    (prob_999*(100-1))+\n",
    "    (prob_555*(50-1))+\n",
    "    (prob_333*(15-1))+\n",
    "    (prob_111*(10-1))+\n",
    "    (prob_x77*(5-1))+\n",
    "    (prob_xx7*(3-1))+\n",
    "    (prob_x00*(2-1))+\n",
    "    (prob_xx0*(1-1)) )\n",
    "\n",
    "average_losing = (1-prob_winning)*(0-1)\n",
    "\n",
    "\n",
    "print(f\"Теоретический чистый средний выигрыш: {average_winning} \\n\"\n",
    "      f\"Теоретический чистый средний проигрыш: {average_losing} \\n\"\n",
    "      f\"Выгода: {round(average_winning+average_losing, 3)}\")"
   ],
   "metadata": {
    "collapsed": false,
    "pycharm": {
     "name": "#%%\n"
    }
   }
  },
  {
   "cell_type": "markdown",
   "source": [
    "(после исправления)\n",
    "\n",
    "Теоретический расчет среднего выигрыша имеет практически такое же значение с разельтатами моделирования,\n",
    "разница в 0,01 - 0,02.\n",
    "Вывод однозначный - игра не выгодная.\n"
   ],
   "metadata": {
    "collapsed": false,
    "pycharm": {
     "name": "#%% md\n"
    }
   }
  }
 ],
 "metadata": {
  "kernelspec": {
   "display_name": "Python 3",
   "language": "python",
   "name": "python3"
  },
  "language_info": {
   "codemirror_mode": {
    "name": "ipython",
    "version": 2
   },
   "file_extension": ".py",
   "mimetype": "text/x-python",
   "name": "python",
   "nbconvert_exporter": "python",
   "pygments_lexer": "ipython2",
   "version": "2.7.6"
  }
 },
 "nbformat": 4,
 "nbformat_minor": 0
}