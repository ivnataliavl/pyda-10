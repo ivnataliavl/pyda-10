{
 "cells": [
  {
   "cell_type": "markdown",
   "metadata": {},
   "source": [
    "Задание 1\n",
    "Печатные газеты использовали свой формат дат для каждого выпуска. Для каждой газеты из списка напишите формат указанной даты для перевода в объект datetime:\n",
    "The Moscow Times - Wednesday, October 2, 2002\n",
    "The Guardian - Friday, 11.10.13\n",
    "Daily News - Thursday, 18 August 1977\n"
   ]
  },
  {
   "cell_type": "code",
   "execution_count": 3,
   "metadata": {},
   "outputs": [],
   "source": [
    "from datetime import datetime \n",
    "from datetime import timedelta"
   ]
  },
  {
   "cell_type": "code",
   "execution_count": null,
   "metadata": {},
   "outputs": [],
   "source": [
    "the_moscow_times_date = 'Wednesday, October 2, 2002'\n",
    "the_guardian_date = 'Friday, 11.10.13'\n",
    "daily_news_date = '18 August 1977'"
   ]
  },
  {
   "cell_type": "code",
   "execution_count": null,
   "metadata": {},
   "outputs": [],
   "source": [
    "datetime.strptime(the_moscow_times_date, '%A, %B %d, %Y')"
   ]
  },
  {
   "cell_type": "code",
   "execution_count": null,
   "metadata": {},
   "outputs": [],
   "source": [
    "datetime.strptime(the_guardian_date, '%A, %d.%m.%y') #Нельзя однозначно интерпретировать дату, но т.к. на сайте газеты даты указана в формате день-месяц-год, использую именно эту последовательность\n"
   ]
  },
  {
   "cell_type": "code",
   "execution_count": null,
   "metadata": {},
   "outputs": [],
   "source": [
    "datetime.strptime(daily_news_date, '%d %B %Y')"
   ]
  },
  {
   "cell_type": "markdown",
   "metadata": {},
   "source": [
    "Задание 2\n",
    "Дан поток дат в формате YYYY-MM-DD, в которых встречаются некорректные значения:\n",
    "stream = [‘2018-04-02’, ‘2018-02-29’, ‘2018-19-02’]\n",
    "\n",
    "Напишите функцию, которая проверяет эти даты на корректность. Т. е. для каждой даты возвращает True (дата корректна) или False (некорректная дата)."
   ]
  },
  {
   "cell_type": "code",
   "execution_count": null,
   "metadata": {},
   "outputs": [],
   "source": [
    "def check_dates(dates_stream):\n",
    "    dates = {}\n",
    "    for date in dates_stream:\n",
    "        dates[date] = True\n",
    "        try:\n",
    "            interpreted_date = datetime.strptime(date, '%Y-%m-%d')\n",
    "        except:\n",
    "            dates[date] = False\n",
    "    print(dates)\n",
    "    return dates"
   ]
  },
  {
   "cell_type": "code",
   "execution_count": null,
   "metadata": {},
   "outputs": [],
   "source": [
    "stream = ['2018-04-02', '2018-02-29', '2018-19-02']"
   ]
  },
  {
   "cell_type": "code",
   "execution_count": null,
   "metadata": {},
   "outputs": [],
   "source": [
    "check_dates(stream)"
   ]
  },
  {
   "cell_type": "markdown",
   "metadata": {},
   "source": [
    "Задание 3\n",
    "Напишите функцию date_range, которая возвращает список дат за период от start_date до end_date. Даты должны вводиться в формате YYYY-MM-DD. В случае неверного формата или при start_date > end_date должен возвращаться пустой список."
   ]
  },
  {
   "cell_type": "code",
   "execution_count": 34,
   "metadata": {},
   "outputs": [],
   "source": [
    "def date_range():\n",
    "    return request_dates()\n",
    "    "
   ]
  },
  {
   "cell_type": "code",
   "execution_count": 35,
   "metadata": {},
   "outputs": [],
   "source": [
    "def request_dates():\n",
    "    start_date = input('Введите дату начала в формате YYYY-MM-DD: ')\n",
    "    end_date = input('Введите дату окончания в формате YYYY-MM-DD: ')\n",
    "    try:\n",
    "        start_date = datetime.strptime(start_date, '%Y-%m-%d').date()\n",
    "        end_date = datetime.strptime(end_date, '%Y-%m-%d').date()\n",
    "        if start_date > end_date:\n",
    "            print('Дата начала позже даты окончания')\n",
    "            dates = []\n",
    "            return dates\n",
    "    except:\n",
    "        print('Вы ввели даты в неверном формате')\n",
    "        dates = []\n",
    "        return dates\n",
    "    return make_dates_list(start_date, end_date)"
   ]
  },
  {
   "cell_type": "code",
   "execution_count": 32,
   "metadata": {},
   "outputs": [],
   "source": [
    "def make_dates_list(start, end):\n",
    "    dates = [start.strftime('%Y-%m-%d')]\n",
    "    date = start + timedelta(days=1)\n",
    "    while date <= end:\n",
    "        dates.append(date.strftime('%Y-%m-%d'))\n",
    "        date = date + timedelta(days=1)\n",
    "    return dates"
   ]
  },
  {
   "cell_type": "code",
   "execution_count": 36,
   "metadata": {},
   "outputs": [
    {
     "name": "stdout",
     "output_type": "stream",
     "text": [
      "Введите дату начала в формате YYYY-MM-DD: 2020-08-10\n",
      "Введите дату окончания в формате YYYY-MM-DD: 2020-08-15\n"
     ]
    },
    {
     "data": {
      "text/plain": [
       "['2020-08-10',\n",
       " '2020-08-11',\n",
       " '2020-08-12',\n",
       " '2020-08-13',\n",
       " '2020-08-14',\n",
       " '2020-08-15']"
      ]
     },
     "execution_count": 36,
     "metadata": {},
     "output_type": "execute_result"
    }
   ],
   "source": [
    "date_range()"
   ]
  },
  {
   "cell_type": "markdown",
   "metadata": {},
   "source": [
    "Задание 4 (бонусное)\n",
    "Ваш коллега прислал код функции:\n",
    "\n",
    "DEFAULT_USER_COUNT = 3\n",
    "\n",
    "def delete_and_return_last_user(region, default_list=['A100', 'A101, 'A102']):\n",
    "\n",
    "\"\"\"\n",
    "Удаляет из списка default_list последнего пользователя\n",
    "и возвращает ID нового последнего пользователя.\n",
    "\"\"\"\n",
    "\n",
    "element_to_delete = default_list[-1]\n",
    "default_list.remove(element_to_delete)\n",
    "\n",
    "return default_list[DEFAULT_USER_COUNT-2]\n",
    "При однократном вызове этой функции все работает корректно:\n",
    "delete_and_return_last_user(1)\n",
    "‘A101’\n",
    "\n",
    "Однако, при повторном вызове получается ошибка IndexError: list index out of range.\n",
    "\n",
    "Задание:\n",
    "\n",
    "Что значит ошибка list index out of range?\n",
    "Почему при первом запуске функция работает корректно, а при втором - нет?"
   ]
  },
  {
   "cell_type": "markdown",
   "metadata": {},
   "source": [
    "1. list index out of range - значит в объекте нет элемента с таким индексом.\n",
    "\n",
    "\n",
    "2. Функция в целом работает некорректно, первый результат оказывается правильным - случайно. Так же логика функции привязана к изначальным данным, но при этом их меняет. Кроме того, DEFAULT_USER_COUNT - очевидно означает количество пользователей, но для расчета индексов эту переменную использовать нельзя, так как индекс первого элемента 0, а не 1.\n",
    "    В чем именно ошибки:\n",
    "    - default_list в процессе выполнения функции меняется, это не учтено\n",
    "    - логика возврата нового последнего пользователя некорректна и привязана к изначальным данным\n",
    "    - индекс элемента в списке не равен порядковому номеру элемента\n",
    "    - функция всегда будет возвращать элемент с индексом 1, т.е. второй по порядку вне зависимости от фактической длинны списка\n",
    "    \n",
    "    При втором запуске был удален элемент А101, остался только элемент А100 с индексом 0, функция попыталась вернуть элемент с индексом 1 и упала с ошибкой list index out of range"
   ]
  }
 ],
 "metadata": {
  "kernelspec": {
   "display_name": "Python 3",
   "language": "python",
   "name": "python3"
  },
  "language_info": {
   "codemirror_mode": {
    "name": "ipython",
    "version": 3
   },
   "file_extension": ".py",
   "mimetype": "text/x-python",
   "name": "python",
   "nbconvert_exporter": "python",
   "pygments_lexer": "ipython3",
   "version": "3.7.6"
  }
 },
 "nbformat": 4,
 "nbformat_minor": 4
}
