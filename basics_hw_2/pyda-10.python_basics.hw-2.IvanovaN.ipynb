{
 "cells": [
  {
   "cell_type": "markdown",
   "metadata": {},
   "source": [
    "**Задание 1**. Даны 2 строки: *long_phrase* и *short_phrase*. \n",
    "Напишите код, который проверяет действительно ли длинная фраза *long_phrase* длиннее короткой *short_phrase*. И выводит *True* или *False* в зависимости от результата сравнения."
   ]
  },
  {
   "cell_type": "code",
   "execution_count": 1,
   "metadata": {},
   "outputs": [],
   "source": [
    "long_phrase = 'Насколько проще было бы писать программы, если бы не заказчики'\n",
    "short_phrase = '640Кб должно хватить для любых задач. Билл Гейтс (по легенде)'"
   ]
  },
  {
   "cell_type": "code",
   "execution_count": 2,
   "metadata": {},
   "outputs": [
    {
     "name": "stdout",
     "output_type": "stream",
     "text": [
      "True\n"
     ]
    }
   ],
   "source": [
    "print(len(long_phrase) > len(short_phrase))"
   ]
  },
  {
   "cell_type": "markdown",
   "metadata": {},
   "source": [
    "**Задание 2**. Дано значение объема файла в байтах (*в мегабайте 2^20 байт*). Напишите перевод этого значения в мегабайты в формате: \"*Объем файла равен 213.68Mb*\"."
   ]
  },
  {
   "cell_type": "code",
   "execution_count": 4,
   "metadata": {},
   "outputs": [
    {
     "name": "stdout",
     "output_type": "stream",
     "text": [
      "Enter file size in bites5000000\n",
      "Объем файла равен 4.77Mb\n"
     ]
    }
   ],
   "source": [
    "\n",
    "file_size_bites = int(input('Enter file size in bites'))\n",
    "file_size_mbts = file_size_bites/2**20\n",
    "file_size_mbts = round(file_size_mbts, 2)\n",
    "print(f'Объем файла равен {file_size_mbts}Mb')"
   ]
  },
  {
   "cell_type": "markdown",
   "metadata": {},
   "source": [
    "**Задание 3**. Разработать приложение для определения знака зодиака по дате рождения. Пример:\n",
    "\n",
    "Введите месяц: март\n",
    "\n",
    "Введите число: 6\n",
    "\n",
    "Вывод:\n",
    "Рыбы"
   ]
  },
  {
   "cell_type": "code",
   "execution_count": 22,
   "metadata": {},
   "outputs": [
    {
     "name": "stdout",
     "output_type": "stream",
     "text": [
      "Enter your birthday month 5\n",
      "Enter your birth day 7\n",
      "Телец\n"
     ]
    }
   ],
   "source": [
    "# Овен (21.3 – 20.4)\n",
    "# Телец (21.4 – 21.5) \n",
    "# Близнецы (22.5 – 21.6) \n",
    "# Рак (22.6 – 22.7) \n",
    "# Лев (23.7 – 23.8) \n",
    "# Дева (24.8 – 23.9) \n",
    "# Весы (24.9 – 23.10)\n",
    "# Скорпион (24.10 – 22.11)\n",
    "# Стрелец (23.11 – 21.12)\n",
    "# Козерог (22.12 – 20.1)\n",
    "# Водолей (21.1 – 18.2)\n",
    "# Рыбы (19.2 – 20.3)\n",
    "\n",
    "month = int(input('Enter your birthday month '))\n",
    "day = int(input('Enter your birth day '))\n",
    "if (month == 1 and day >= 21) or (month == 2 and day <= 18):\n",
    "    print('Водолей')\n",
    "elif (month == 2 and day >= 19) or (month == 3 and day <= 20):\n",
    "    print('Рыбы')\n",
    "elif (month == 3 and day >= 21) or (month == 4 and day <= 20):\n",
    "    print('Овен')\n",
    "elif (month == 4 and day >= 21) or (month == 5 and day <= 21):\n",
    "    print('Телец')\n",
    "elif (month == 5 and day <= 31) or (month == 6 and day <= 21):\n",
    "    print('Близнецы')\n",
    "elif (month == 6 and day <= 30) or (month == 7 and day <= 22):\n",
    "    print('Рак')\n",
    "elif (month == 7 and day <= 31) or (month == 8 and day <= 23):\n",
    "    print('Лев')\n",
    "elif (month == 8 and day <= 31) or (month == 9 and day <= 23):\n",
    "    print('Дева')\n",
    "elif (month == 9 and day <= 30) or (month == 10 and day <= 23):\n",
    "    print('Весы')\n",
    "elif (month == 10 and day <= 31) or (month == 11 and day <= 22):\n",
    "    print('Скорпион')\n",
    "elif (month == 11 and day >= 23) or (month == 12 and day <= 21):\n",
    "    print('Стрелец')\n",
    "else:\n",
    "    print('Козерог')"
   ]
  },
  {
   "cell_type": "markdown",
   "metadata": {},
   "source": [
    "**Задание 4**. Нужно разработать приложение для финансового планирования.\n",
    "Приложение учитывает сколько уходит на ипотеку, \"на жизнь\" и сколько нужно отложить на пенсию.\n",
    "Пользователь вводит:\n",
    "- заработанную плату в месяц.\n",
    "- сколько процентов от ЗП уходит на ипотеку.\n",
    "- сколько процентов от ЗП уходит \"на жизнь\".\n",
    "- сколько раз приходит премия в год.\n",
    "\n",
    "Остальная часть заработанной платы откладывается на пенсию.\n",
    "\n",
    "Также пользователю приходит премия в размере зарплаты, от которой половина уходит на отпуск, а вторая половина откладывается.\n",
    "\n",
    "Программа должна учитывать сколько премий было в год.\n",
    "\n",
    "Нужно вывести сколько денег тратит пользователь на ипотеку и сколько он накопит за год.\n",
    "\n",
    "Пример:\n",
    "\n",
    "Введите заработанную плату в месяц: 100000\n",
    "\n",
    "Введите сколько процентов уходит на ипотеку: 30\n",
    "\n",
    "Введите сколько процентов уходит на жизнь: 50\n",
    "\n",
    "Введите количество премий за год: 2\n",
    "\n",
    "Вывод:\n",
    "На ипотеку было потрачено: 360000 рублей\n",
    "Было накоплено: 340000 рублей"
   ]
  },
  {
   "cell_type": "code",
   "execution_count": 24,
   "metadata": {},
   "outputs": [
    {
     "name": "stdout",
     "output_type": "stream",
     "text": [
      "Enter your month salary: 100000\n",
      "How much in % do you spend on mortgage? 20\n",
      "How much in % do you spend (excluding mortgage)? 50\n",
      "How often do you get bonus per year? 2\n",
      "На ипотеку было потрачено: 240000.0 рублей. Было накоплено:460000.0 рублей\n"
     ]
    }
   ],
   "source": [
    "salary_monthly_amount = int(input('Enter your month salary: '))\n",
    "mortgage_monthly_ratio = int(input('How much in % do you spend on mortgage? '))/100\n",
    "expenditures_monthly_ratio = int(input('How much in % do you spend (excluding mortgage)? '))/100\n",
    "bonus_yearly = int(input('How often do you get bonus per year? '))\n",
    "pension_yearly_sum = 12*(salary_monthly_amount - (mortgage_monthly_ratio*salary_monthly_amount) - (expenditures_monthly_ratio*salary_monthly_amount)) + bonus_yearly*(0.5*salary_monthly_amount)\n",
    "mortgage_yearly_sum = 12*(mortgage_monthly_ratio * salary_monthly_amount)\n",
    "print(f'На ипотеку было потрачено: {mortgage_yearly_sum} рублей. Было накоплено:{pension_yearly_sum} рублей')"
   ]
  },
  {
   "cell_type": "code",
   "execution_count": null,
   "metadata": {},
   "outputs": [],
   "source": []
  }
 ],
 "metadata": {
  "kernelspec": {
   "display_name": "Python 3",
   "language": "python",
   "name": "python3"
  },
  "language_info": {
   "codemirror_mode": {
    "name": "ipython",
    "version": 3
   },
   "file_extension": ".py",
   "mimetype": "text/x-python",
   "name": "python",
   "nbconvert_exporter": "python",
   "pygments_lexer": "ipython3",
   "version": "3.7.6"
  }
 },
 "nbformat": 4,
 "nbformat_minor": 2
}
