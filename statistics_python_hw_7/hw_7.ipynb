{
 "cells": [
  {
   "cell_type": "code",
   "execution_count": 1,
   "outputs": [],
   "source": [
    "import pandas as pd\n",
    "from nltk.corpus import stopwords\n",
    "from scipy import stats as st\n",
    "import seaborn as sns\n",
    "from matplotlib import pyplot as plt\n",
    "from statsmodels.stats.multicomp import pairwise_tukeyhsd\n",
    "import numpy as np\n"
   ],
   "metadata": {
    "collapsed": false,
    "pycharm": {
     "name": "#%%\n"
    }
   }
  },
  {
   "cell_type": "markdown",
   "source": [
    "# Домашнее задание к лекции \"Статистика. Практика\""
   ],
   "metadata": {
    "collapsed": false
   }
  },
  {
   "cell_type": "markdown",
   "source": [
    "## Задание 1"
   ],
   "metadata": {
    "collapsed": false
   }
  },
  {
   "cell_type": "markdown",
   "source": [
    "Вернемся к [набору данных о видеоиграх](https://github.com/obulygin/pyda_homeworks/blob/master/stat_case_study/video_games_sales.csv).\n",
    "\n",
    "Ответьте на следующие вопросы:\n",
    "\n",
    "1) Как критики относятся к спортивным играм?\n",
    "2) Критикам нравятся больше игры на PC или на PS4?\n",
    "3) Критикам больше нравятся стрелялки или стратегии?\n",
    "\n",
    "Для каждого вопроса:\n",
    "- сформулируйте нулевую и альтернативную гипотезы;\n",
    "- выберите пороговый уровень статистической значимости;\n",
    "- опишите полученные результаты статистического теста."
   ],
   "metadata": {
    "collapsed": false
   }
  },
  {
   "cell_type": "code",
   "execution_count": 2,
   "outputs": [
    {
     "data": {
      "text/plain": "        Rank                           Name                      basename  \\\n0          1                     Wii Sports                    wii-sports   \n1          2              Super Mario Bros.              super-mario-bros   \n2          3                 Mario Kart Wii                mario-kart-wii   \n3          4  PlayerUnknown's Battlegrounds  playerunknowns-battlegrounds   \n4          5              Wii Sports Resort             wii-sports-resort   \n...      ...                            ...                           ...   \n55787  55788                    Indivisible                   indivisible   \n55788  55789                     Lost Ember                    lost-amber   \n55789  55790                     Lost Ember                    lost-amber   \n55790  55791                     Lost Ember                    lost-amber   \n55791  55792                     Falcon Age                    falcon-age   \n\n                  Genre ESRB_Rating Platform         Publisher  \\\n0                Sports           E      Wii          Nintendo   \n1              Platform         NaN      NES          Nintendo   \n2                Racing           E      Wii          Nintendo   \n3               Shooter         NaN       PC  PUBG Corporation   \n4                Sports           E      Wii          Nintendo   \n...                 ...         ...      ...               ...   \n55787      Role-Playing         NaN       PC         505 Games   \n55788         Adventure          RP       PC   Mooneye Studios   \n55789         Adventure          RP      PS4   Mooneye Studios   \n55790         Adventure          RP     XOne   Mooneye Studios   \n55791  Action-Adventure         NaN      PS4           Unknown   \n\n              Developer  VGChartz_Score  Critic_Score  ...  NA_Sales  \\\n0          Nintendo EAD             NaN           7.7  ...       NaN   \n1          Nintendo EAD             NaN          10.0  ...       NaN   \n2          Nintendo EAD             NaN           8.2  ...       NaN   \n3      PUBG Corporation             NaN           NaN  ...       NaN   \n4          Nintendo EAD             NaN           8.0  ...       NaN   \n...                 ...             ...           ...  ...       ...   \n55787    Lab Zero Games             NaN           NaN  ...       NaN   \n55788   Mooneye Studios             NaN           NaN  ...       NaN   \n55789   Mooneye Studios             NaN           NaN  ...       NaN   \n55790   Mooneye Studios             NaN           NaN  ...       NaN   \n55791   Outerloop Games             NaN           NaN  ...       NaN   \n\n       PAL_Sales  JP_Sales  Other_Sales    Year  Last_Update  \\\n0            NaN       NaN          NaN  2006.0          NaN   \n1            NaN       NaN          NaN  1985.0          NaN   \n2            NaN       NaN          NaN  2008.0  11th Apr 18   \n3            NaN       NaN          NaN  2017.0  13th Nov 18   \n4            NaN       NaN          NaN  2009.0          NaN   \n...          ...       ...          ...     ...          ...   \n55787        NaN       NaN          NaN  2019.0  11th Apr 19   \n55788        NaN       NaN          NaN  2019.0  11th Apr 19   \n55789        NaN       NaN          NaN  2019.0  11th Apr 19   \n55790        NaN       NaN          NaN  2019.0  11th Apr 19   \n55791        NaN       NaN          NaN     NaN  12th Apr 19   \n\n                                                     url  status  \\\n0      http://www.vgchartz.com/game/2667/wii-sports/?...       1   \n1      http://www.vgchartz.com/game/6455/super-mario-...       1   \n2      http://www.vgchartz.com/game/6968/mario-kart-w...       1   \n3      http://www.vgchartz.com/game/215988/playerunkn...       1   \n4      http://www.vgchartz.com/game/24656/wii-sports-...       1   \n...                                                  ...     ...   \n55787  http://www.vgchartz.com/game/224682/indivisibl...       1   \n55788  http://www.vgchartz.com/games/game.php?id=2246...       1   \n55789  http://www.vgchartz.com/game/224690/lost-ember...       1   \n55790  http://www.vgchartz.com/game/224688/lost-ember...       1   \n55791  http://www.vgchartz.com/game/224692/falcon-age...       1   \n\n      Vgchartzscore                                        img_url  \n0               NaN  /games/boxart/full_2258645AmericaFrontccc.jpg  \n1               NaN                   /games/boxart/8972270ccc.jpg  \n2               8.7  /games/boxart/full_8932480AmericaFrontccc.jpg  \n3               NaN  /games/boxart/full_8052843AmericaFrontccc.jpg  \n4               8.8  /games/boxart/full_7295041AmericaFrontccc.jpg  \n...             ...                                            ...  \n55787           NaN  /games/boxart/full_6339426AmericaFrontccc.jpg  \n55788           NaN  /games/boxart/full_8893129AmericaFrontccc.jpg  \n55789           NaN  /games/boxart/full_6514293AmericaFrontccc.jpg  \n55790           NaN  /games/boxart/full_6799693AmericaFrontccc.jpg  \n55791           NaN                      /games/boxart/default.jpg  \n\n[55792 rows x 23 columns]",
      "text/html": "<div>\n<style scoped>\n    .dataframe tbody tr th:only-of-type {\n        vertical-align: middle;\n    }\n\n    .dataframe tbody tr th {\n        vertical-align: top;\n    }\n\n    .dataframe thead th {\n        text-align: right;\n    }\n</style>\n<table border=\"1\" class=\"dataframe\">\n  <thead>\n    <tr style=\"text-align: right;\">\n      <th></th>\n      <th>Rank</th>\n      <th>Name</th>\n      <th>basename</th>\n      <th>Genre</th>\n      <th>ESRB_Rating</th>\n      <th>Platform</th>\n      <th>Publisher</th>\n      <th>Developer</th>\n      <th>VGChartz_Score</th>\n      <th>Critic_Score</th>\n      <th>...</th>\n      <th>NA_Sales</th>\n      <th>PAL_Sales</th>\n      <th>JP_Sales</th>\n      <th>Other_Sales</th>\n      <th>Year</th>\n      <th>Last_Update</th>\n      <th>url</th>\n      <th>status</th>\n      <th>Vgchartzscore</th>\n      <th>img_url</th>\n    </tr>\n  </thead>\n  <tbody>\n    <tr>\n      <th>0</th>\n      <td>1</td>\n      <td>Wii Sports</td>\n      <td>wii-sports</td>\n      <td>Sports</td>\n      <td>E</td>\n      <td>Wii</td>\n      <td>Nintendo</td>\n      <td>Nintendo EAD</td>\n      <td>NaN</td>\n      <td>7.7</td>\n      <td>...</td>\n      <td>NaN</td>\n      <td>NaN</td>\n      <td>NaN</td>\n      <td>NaN</td>\n      <td>2006.0</td>\n      <td>NaN</td>\n      <td>http://www.vgchartz.com/game/2667/wii-sports/?...</td>\n      <td>1</td>\n      <td>NaN</td>\n      <td>/games/boxart/full_2258645AmericaFrontccc.jpg</td>\n    </tr>\n    <tr>\n      <th>1</th>\n      <td>2</td>\n      <td>Super Mario Bros.</td>\n      <td>super-mario-bros</td>\n      <td>Platform</td>\n      <td>NaN</td>\n      <td>NES</td>\n      <td>Nintendo</td>\n      <td>Nintendo EAD</td>\n      <td>NaN</td>\n      <td>10.0</td>\n      <td>...</td>\n      <td>NaN</td>\n      <td>NaN</td>\n      <td>NaN</td>\n      <td>NaN</td>\n      <td>1985.0</td>\n      <td>NaN</td>\n      <td>http://www.vgchartz.com/game/6455/super-mario-...</td>\n      <td>1</td>\n      <td>NaN</td>\n      <td>/games/boxart/8972270ccc.jpg</td>\n    </tr>\n    <tr>\n      <th>2</th>\n      <td>3</td>\n      <td>Mario Kart Wii</td>\n      <td>mario-kart-wii</td>\n      <td>Racing</td>\n      <td>E</td>\n      <td>Wii</td>\n      <td>Nintendo</td>\n      <td>Nintendo EAD</td>\n      <td>NaN</td>\n      <td>8.2</td>\n      <td>...</td>\n      <td>NaN</td>\n      <td>NaN</td>\n      <td>NaN</td>\n      <td>NaN</td>\n      <td>2008.0</td>\n      <td>11th Apr 18</td>\n      <td>http://www.vgchartz.com/game/6968/mario-kart-w...</td>\n      <td>1</td>\n      <td>8.7</td>\n      <td>/games/boxart/full_8932480AmericaFrontccc.jpg</td>\n    </tr>\n    <tr>\n      <th>3</th>\n      <td>4</td>\n      <td>PlayerUnknown's Battlegrounds</td>\n      <td>playerunknowns-battlegrounds</td>\n      <td>Shooter</td>\n      <td>NaN</td>\n      <td>PC</td>\n      <td>PUBG Corporation</td>\n      <td>PUBG Corporation</td>\n      <td>NaN</td>\n      <td>NaN</td>\n      <td>...</td>\n      <td>NaN</td>\n      <td>NaN</td>\n      <td>NaN</td>\n      <td>NaN</td>\n      <td>2017.0</td>\n      <td>13th Nov 18</td>\n      <td>http://www.vgchartz.com/game/215988/playerunkn...</td>\n      <td>1</td>\n      <td>NaN</td>\n      <td>/games/boxart/full_8052843AmericaFrontccc.jpg</td>\n    </tr>\n    <tr>\n      <th>4</th>\n      <td>5</td>\n      <td>Wii Sports Resort</td>\n      <td>wii-sports-resort</td>\n      <td>Sports</td>\n      <td>E</td>\n      <td>Wii</td>\n      <td>Nintendo</td>\n      <td>Nintendo EAD</td>\n      <td>NaN</td>\n      <td>8.0</td>\n      <td>...</td>\n      <td>NaN</td>\n      <td>NaN</td>\n      <td>NaN</td>\n      <td>NaN</td>\n      <td>2009.0</td>\n      <td>NaN</td>\n      <td>http://www.vgchartz.com/game/24656/wii-sports-...</td>\n      <td>1</td>\n      <td>8.8</td>\n      <td>/games/boxart/full_7295041AmericaFrontccc.jpg</td>\n    </tr>\n    <tr>\n      <th>...</th>\n      <td>...</td>\n      <td>...</td>\n      <td>...</td>\n      <td>...</td>\n      <td>...</td>\n      <td>...</td>\n      <td>...</td>\n      <td>...</td>\n      <td>...</td>\n      <td>...</td>\n      <td>...</td>\n      <td>...</td>\n      <td>...</td>\n      <td>...</td>\n      <td>...</td>\n      <td>...</td>\n      <td>...</td>\n      <td>...</td>\n      <td>...</td>\n      <td>...</td>\n      <td>...</td>\n    </tr>\n    <tr>\n      <th>55787</th>\n      <td>55788</td>\n      <td>Indivisible</td>\n      <td>indivisible</td>\n      <td>Role-Playing</td>\n      <td>NaN</td>\n      <td>PC</td>\n      <td>505 Games</td>\n      <td>Lab Zero Games</td>\n      <td>NaN</td>\n      <td>NaN</td>\n      <td>...</td>\n      <td>NaN</td>\n      <td>NaN</td>\n      <td>NaN</td>\n      <td>NaN</td>\n      <td>2019.0</td>\n      <td>11th Apr 19</td>\n      <td>http://www.vgchartz.com/game/224682/indivisibl...</td>\n      <td>1</td>\n      <td>NaN</td>\n      <td>/games/boxart/full_6339426AmericaFrontccc.jpg</td>\n    </tr>\n    <tr>\n      <th>55788</th>\n      <td>55789</td>\n      <td>Lost Ember</td>\n      <td>lost-amber</td>\n      <td>Adventure</td>\n      <td>RP</td>\n      <td>PC</td>\n      <td>Mooneye Studios</td>\n      <td>Mooneye Studios</td>\n      <td>NaN</td>\n      <td>NaN</td>\n      <td>...</td>\n      <td>NaN</td>\n      <td>NaN</td>\n      <td>NaN</td>\n      <td>NaN</td>\n      <td>2019.0</td>\n      <td>11th Apr 19</td>\n      <td>http://www.vgchartz.com/games/game.php?id=2246...</td>\n      <td>1</td>\n      <td>NaN</td>\n      <td>/games/boxart/full_8893129AmericaFrontccc.jpg</td>\n    </tr>\n    <tr>\n      <th>55789</th>\n      <td>55790</td>\n      <td>Lost Ember</td>\n      <td>lost-amber</td>\n      <td>Adventure</td>\n      <td>RP</td>\n      <td>PS4</td>\n      <td>Mooneye Studios</td>\n      <td>Mooneye Studios</td>\n      <td>NaN</td>\n      <td>NaN</td>\n      <td>...</td>\n      <td>NaN</td>\n      <td>NaN</td>\n      <td>NaN</td>\n      <td>NaN</td>\n      <td>2019.0</td>\n      <td>11th Apr 19</td>\n      <td>http://www.vgchartz.com/game/224690/lost-ember...</td>\n      <td>1</td>\n      <td>NaN</td>\n      <td>/games/boxart/full_6514293AmericaFrontccc.jpg</td>\n    </tr>\n    <tr>\n      <th>55790</th>\n      <td>55791</td>\n      <td>Lost Ember</td>\n      <td>lost-amber</td>\n      <td>Adventure</td>\n      <td>RP</td>\n      <td>XOne</td>\n      <td>Mooneye Studios</td>\n      <td>Mooneye Studios</td>\n      <td>NaN</td>\n      <td>NaN</td>\n      <td>...</td>\n      <td>NaN</td>\n      <td>NaN</td>\n      <td>NaN</td>\n      <td>NaN</td>\n      <td>2019.0</td>\n      <td>11th Apr 19</td>\n      <td>http://www.vgchartz.com/game/224688/lost-ember...</td>\n      <td>1</td>\n      <td>NaN</td>\n      <td>/games/boxart/full_6799693AmericaFrontccc.jpg</td>\n    </tr>\n    <tr>\n      <th>55791</th>\n      <td>55792</td>\n      <td>Falcon Age</td>\n      <td>falcon-age</td>\n      <td>Action-Adventure</td>\n      <td>NaN</td>\n      <td>PS4</td>\n      <td>Unknown</td>\n      <td>Outerloop Games</td>\n      <td>NaN</td>\n      <td>NaN</td>\n      <td>...</td>\n      <td>NaN</td>\n      <td>NaN</td>\n      <td>NaN</td>\n      <td>NaN</td>\n      <td>NaN</td>\n      <td>12th Apr 19</td>\n      <td>http://www.vgchartz.com/game/224692/falcon-age...</td>\n      <td>1</td>\n      <td>NaN</td>\n      <td>/games/boxart/default.jpg</td>\n    </tr>\n  </tbody>\n</table>\n<p>55792 rows × 23 columns</p>\n</div>"
     },
     "execution_count": 2,
     "metadata": {},
     "output_type": "execute_result"
    }
   ],
   "source": [
    "videogames_df = pd.read_csv('video_games_sales.csv')\n",
    "videogames_df"
   ],
   "metadata": {
    "collapsed": false,
    "pycharm": {
     "name": "#%%\n"
    }
   }
  },
  {
   "cell_type": "code",
   "execution_count": 3,
   "outputs": [
    {
     "name": "stdout",
     "output_type": "stream",
     "text": [
      "<class 'pandas.core.frame.DataFrame'>\n",
      "RangeIndex: 55792 entries, 0 to 55791\n",
      "Data columns (total 23 columns):\n",
      " #   Column          Non-Null Count  Dtype  \n",
      "---  ------          --------------  -----  \n",
      " 0   Rank            55792 non-null  int64  \n",
      " 1   Name            55792 non-null  object \n",
      " 2   basename        55792 non-null  object \n",
      " 3   Genre           55792 non-null  object \n",
      " 4   ESRB_Rating     23623 non-null  object \n",
      " 5   Platform        55792 non-null  object \n",
      " 6   Publisher       55792 non-null  object \n",
      " 7   Developer       55775 non-null  object \n",
      " 8   VGChartz_Score  0 non-null      float64\n",
      " 9   Critic_Score    6536 non-null   float64\n",
      " 10  User_Score      335 non-null    float64\n",
      " 11  Total_Shipped   1827 non-null   float64\n",
      " 12  Global_Sales    19415 non-null  float64\n",
      " 13  NA_Sales        12964 non-null  float64\n",
      " 14  PAL_Sales       13189 non-null  float64\n",
      " 15  JP_Sales        7043 non-null   float64\n",
      " 16  Other_Sales     15522 non-null  float64\n",
      " 17  Year            54813 non-null  float64\n",
      " 18  Last_Update     9186 non-null   object \n",
      " 19  url             55792 non-null  object \n",
      " 20  status          55792 non-null  int64  \n",
      " 21  Vgchartzscore   799 non-null    float64\n",
      " 22  img_url         55792 non-null  object \n",
      "dtypes: float64(11), int64(2), object(10)\n",
      "memory usage: 7.7+ MB\n"
     ]
    }
   ],
   "source": [
    "videogames_df.info()\n",
    "# В данных есть пропуски, для получения более точных статистик лучше всего будет не заполнять пропуски, а удалить\n",
    "# (хотя, конечно, любые манипуляции с пропусками понижают точность данных)"
   ],
   "metadata": {
    "collapsed": false,
    "pycharm": {
     "name": "#%%\n"
    }
   }
  },
  {
   "cell_type": "markdown",
   "source": [
    "### Как критики относятся к спортивным играм?\n",
    "\n",
    "Можно сравнить со средней оценкой по всем играм или провести дисперсионный анализ, сравнив все распределения между собой."
   ],
   "metadata": {
    "collapsed": false
   }
  },
  {
   "cell_type": "markdown",
   "source": [
    "#Вариант 1. One-sample t-test.\n",
    "\n",
    "Н0: среднее оценки спортивных игр = общее среднее\n",
    "Н1: среднее оценки спортивных игры != общее среднее\n",
    "\n",
    "Пороговый уровень статистической значимости = 0,05"
   ],
   "metadata": {
    "collapsed": false
   }
  },
  {
   "cell_type": "code",
   "execution_count": 4,
   "outputs": [
    {
     "data": {
      "text/plain": "7.214"
     },
     "execution_count": 4,
     "metadata": {},
     "output_type": "execute_result"
    }
   ],
   "source": [
    "videogames_all_mean = round(videogames_df['Critic_Score'].mean(), 3)\n",
    "videogames_all_mean\n",
    "# средняя оценка критиками всех игр вне зависимости от жанра"
   ],
   "metadata": {
    "collapsed": false,
    "pycharm": {
     "name": "#%%\n"
    }
   }
  },
  {
   "cell_type": "code",
   "execution_count": 5,
   "outputs": [
    {
     "data": {
      "text/plain": "0        7.7\n4        8.0\n16       7.9\n17       8.0\n68       8.3\n        ... \n50561    5.0\n50730    9.2\n50731    3.6\n50840    4.0\n51761    9.1\nName: Critic_Score, Length: 688, dtype: float64"
     },
     "execution_count": 5,
     "metadata": {},
     "output_type": "execute_result"
    }
   ],
   "source": [
    "sport_critic_score = videogames_df[ videogames_df['Genre'] == 'Sports' ]['Critic_Score'].dropna()\n",
    "sport_critic_score\n",
    "\n",
    "# все оценки критиков данные спортивным играм"
   ],
   "metadata": {
    "collapsed": false,
    "pycharm": {
     "name": "#%%\n"
    }
   }
  },
  {
   "cell_type": "code",
   "execution_count": 6,
   "outputs": [
    {
     "name": "stdout",
     "output_type": "stream",
     "text": [
      "Ttest_1sampResult(statistic=1.380758875402541, pvalue=0.16780213107177713)\n"
     ]
    }
   ],
   "source": [
    "result = st.ttest_1samp(sport_critic_score, videogames_all_mean)\n",
    "print(result)"
   ],
   "metadata": {
    "collapsed": false,
    "pycharm": {
     "name": "#%%\n"
    }
   }
  },
  {
   "cell_type": "markdown",
   "source": [
    "Мы не получили статистически значимый результат p-value > 0.05 (0.167), у нас недостаточно оснований отклонить гипотезу Н0.\n",
    "Критики оценивают спортивные игры примерно так же как и все игры.\n",
    "\n",
    "Возможно, это связано с тем, что в среднем по всем играм так же есть оценки по спортивным играм,\n",
    "попробуем сделать аналоничный тест, но исключив из среднего оценки спортивных игр."
   ],
   "metadata": {
    "collapsed": false
   }
  },
  {
   "cell_type": "code",
   "execution_count": 7,
   "outputs": [
    {
     "name": "stdout",
     "output_type": "stream",
     "text": [
      "Ttest_1sampResult(statistic=1.5412615966703354, pvalue=0.12371359463025498)\n"
     ]
    }
   ],
   "source": [
    "videogames_no_sports_mean = round(videogames_df[ videogames_df['Genre'] != 'Sports' ]['Critic_Score'].mean(), 3)\n",
    "result_2 = st.ttest_1samp(sport_critic_score, videogames_no_sports_mean)\n",
    "print(result_2)"
   ],
   "metadata": {
    "collapsed": false,
    "pycharm": {
     "name": "#%%\n"
    }
   }
  },
  {
   "cell_type": "markdown",
   "source": [
    "**Вывод:**\n",
    "Вне зависимости от полученного среднего (по всем играм, по всем играм кроме спортивных),\n",
    "мы не получили статистически значимого результата и не можем отклонить нулевую гипотезу.\n",
    "\n",
    "У нас нет оснований считать, что критики относятся к спортивным играм лучше или хуже, чем к другим играм."
   ],
   "metadata": {
    "collapsed": false
   }
  },
  {
   "cell_type": "code",
   "execution_count": 8,
   "outputs": [
    {
     "data": {
      "text/plain": "<AxesSubplot:xlabel='Genre', ylabel='Critic_Score'>"
     },
     "execution_count": 8,
     "metadata": {},
     "output_type": "execute_result"
    },
    {
     "data": {
      "text/plain": "<Figure size 1728x1296 with 1 Axes>",
      "image/png": "[encoded data removed]"
     },
     "metadata": {
      "needs_background": "light"
     },
     "output_type": "display_data"
    }
   ],
   "source": [
    "# посмотрим на boxplot распределения оценок играм\n",
    "\n",
    "fig, ax = plt.subplots(figsize=(24,18))\n",
    "sns.boxplot(x=\"Genre\", y=\"Critic_Score\",\n",
    "                 data=videogames_df[['Genre', 'Critic_Score']], palette=\"Set3\", ax=ax)\n",
    "\n",
    "# Спортивные игры действительно имеют достаточно \"среднее\" распределение оценок, похожее на большинство."
   ],
   "metadata": {
    "collapsed": false,
    "pycharm": {
     "name": "#%%\n"
    }
   }
  },
  {
   "cell_type": "markdown",
   "source": [
    "#Вариант 2. Tukey HSD test\n",
    "\n",
    "Н0: средние оценки всех жанров игр равны между собой\n",
    "Н1: среднее оценки как минимум двух жанров не равны\n",
    "\n",
    "Пороговый уровень статистической значимости = 0,05"
   ],
   "metadata": {
    "collapsed": false
   }
  },
  {
   "cell_type": "code",
   "execution_count": 9,
   "outputs": [],
   "source": [
    "videogames_filtered =  videogames_df[['Critic_Score','Genre']].dropna()"
   ],
   "metadata": {
    "collapsed": false,
    "pycharm": {
     "name": "#%%\n"
    }
   }
  },
  {
   "cell_type": "code",
   "execution_count": 10,
   "outputs": [],
   "source": [
    "result_3 = pairwise_tukeyhsd(endog=videogames_filtered['Critic_Score'], groups=videogames_filtered['Genre'], alpha=0.05)"
   ],
   "metadata": {
    "collapsed": false,
    "pycharm": {
     "name": "#%%\n"
    }
   }
  },
  {
   "cell_type": "code",
   "execution_count": 11,
   "outputs": [],
   "source": [
    "tukey_result_df = pd.DataFrame(result_3.summary(), columns=['group1','group2','meandiff','p-adj','lower','upper','reject'])\n",
    "\n",
    "tukey_result_df = tukey_result_df.iloc[1:]"
   ],
   "metadata": {
    "collapsed": false,
    "pycharm": {
     "name": "#%%\n"
    }
   }
  },
  {
   "cell_type": "code",
   "execution_count": 12,
   "outputs": [],
   "source": [
    "tukey_result_df = tukey_result_df.astype(str)\n",
    "tukey_result_df[['meandiff','p-adj','lower','upper']] = tukey_result_df[['meandiff','p-adj','lower','upper']].astype(float)"
   ],
   "metadata": {
    "collapsed": false,
    "pycharm": {
     "name": "#%%\n"
    }
   }
  },
  {
   "cell_type": "code",
   "execution_count": 13,
   "outputs": [
    {
     "data": {
      "text/plain": "               group1        group2  meandiff   p-adj   lower   upper reject\n17             Action        Sports    0.4512  0.0010  0.2001  0.7022   True\n35   Action-Adventure        Sports   -0.4025  0.5001 -0.9499  0.1449  False\n52          Adventure        Sports   -0.0378  0.9000 -0.3595  0.2840  False\n68         Board Game        Sports    1.9914  0.9000 -3.1049  7.0877  False\n83          Education        Sports   -0.2086  0.9000 -5.3049  4.8877  False\n97           Fighting        Sports   -0.0970  0.9000 -0.4387  0.2447  False\n110               MMO        Sports   -0.5186  0.9000 -2.1407  1.1035  False\n122              Misc        Sports    0.4056  0.0035  0.0674  0.7439   True\n133             Music        Sports   -0.6206  0.8200 -1.6574  0.4163  False\n143             Party        Sports    1.2381  0.1055 -0.0911  2.5672  False\n152          Platform        Sports   -0.0169  0.9000 -0.3062  0.2724  False\n160            Puzzle        Sports    0.0914  0.9000 -0.2673  0.4502  False\n167            Racing        Sports    0.2003  0.6896 -0.1058  0.5064  False\n173      Role-Playing        Sports   -0.1702  0.6929 -0.4309  0.0905  False\n178           Sandbox        Sports   -1.9086  0.9000 -7.0049  3.1877  False\n182           Shooter        Sports    0.0046  0.9000 -0.2571  0.2662  False\n185        Simulation        Sports    0.3652  0.0963 -0.0233  0.7537  False\n188            Sports      Strategy    0.1378  0.9000 -0.1908  0.4664  False\n189            Sports  Visual Novel    1.2086  0.9000 -2.3977  4.8148  False",
      "text/html": "<div>\n<style scoped>\n    .dataframe tbody tr th:only-of-type {\n        vertical-align: middle;\n    }\n\n    .dataframe tbody tr th {\n        vertical-align: top;\n    }\n\n    .dataframe thead th {\n        text-align: right;\n    }\n</style>\n<table border=\"1\" class=\"dataframe\">\n  <thead>\n    <tr style=\"text-align: right;\">\n      <th></th>\n      <th>group1</th>\n      <th>group2</th>\n      <th>meandiff</th>\n      <th>p-adj</th>\n      <th>lower</th>\n      <th>upper</th>\n      <th>reject</th>\n    </tr>\n  </thead>\n  <tbody>\n    <tr>\n      <th>17</th>\n      <td>Action</td>\n      <td>Sports</td>\n      <td>0.4512</td>\n      <td>0.0010</td>\n      <td>0.2001</td>\n      <td>0.7022</td>\n      <td>True</td>\n    </tr>\n    <tr>\n      <th>35</th>\n      <td>Action-Adventure</td>\n      <td>Sports</td>\n      <td>-0.4025</td>\n      <td>0.5001</td>\n      <td>-0.9499</td>\n      <td>0.1449</td>\n      <td>False</td>\n    </tr>\n    <tr>\n      <th>52</th>\n      <td>Adventure</td>\n      <td>Sports</td>\n      <td>-0.0378</td>\n      <td>0.9000</td>\n      <td>-0.3595</td>\n      <td>0.2840</td>\n      <td>False</td>\n    </tr>\n    <tr>\n      <th>68</th>\n      <td>Board Game</td>\n      <td>Sports</td>\n      <td>1.9914</td>\n      <td>0.9000</td>\n      <td>-3.1049</td>\n      <td>7.0877</td>\n      <td>False</td>\n    </tr>\n    <tr>\n      <th>83</th>\n      <td>Education</td>\n      <td>Sports</td>\n      <td>-0.2086</td>\n      <td>0.9000</td>\n      <td>-5.3049</td>\n      <td>4.8877</td>\n      <td>False</td>\n    </tr>\n    <tr>\n      <th>97</th>\n      <td>Fighting</td>\n      <td>Sports</td>\n      <td>-0.0970</td>\n      <td>0.9000</td>\n      <td>-0.4387</td>\n      <td>0.2447</td>\n      <td>False</td>\n    </tr>\n    <tr>\n      <th>110</th>\n      <td>MMO</td>\n      <td>Sports</td>\n      <td>-0.5186</td>\n      <td>0.9000</td>\n      <td>-2.1407</td>\n      <td>1.1035</td>\n      <td>False</td>\n    </tr>\n    <tr>\n      <th>122</th>\n      <td>Misc</td>\n      <td>Sports</td>\n      <td>0.4056</td>\n      <td>0.0035</td>\n      <td>0.0674</td>\n      <td>0.7439</td>\n      <td>True</td>\n    </tr>\n    <tr>\n      <th>133</th>\n      <td>Music</td>\n      <td>Sports</td>\n      <td>-0.6206</td>\n      <td>0.8200</td>\n      <td>-1.6574</td>\n      <td>0.4163</td>\n      <td>False</td>\n    </tr>\n    <tr>\n      <th>143</th>\n      <td>Party</td>\n      <td>Sports</td>\n      <td>1.2381</td>\n      <td>0.1055</td>\n      <td>-0.0911</td>\n      <td>2.5672</td>\n      <td>False</td>\n    </tr>\n    <tr>\n      <th>152</th>\n      <td>Platform</td>\n      <td>Sports</td>\n      <td>-0.0169</td>\n      <td>0.9000</td>\n      <td>-0.3062</td>\n      <td>0.2724</td>\n      <td>False</td>\n    </tr>\n    <tr>\n      <th>160</th>\n      <td>Puzzle</td>\n      <td>Sports</td>\n      <td>0.0914</td>\n      <td>0.9000</td>\n      <td>-0.2673</td>\n      <td>0.4502</td>\n      <td>False</td>\n    </tr>\n    <tr>\n      <th>167</th>\n      <td>Racing</td>\n      <td>Sports</td>\n      <td>0.2003</td>\n      <td>0.6896</td>\n      <td>-0.1058</td>\n      <td>0.5064</td>\n      <td>False</td>\n    </tr>\n    <tr>\n      <th>173</th>\n      <td>Role-Playing</td>\n      <td>Sports</td>\n      <td>-0.1702</td>\n      <td>0.6929</td>\n      <td>-0.4309</td>\n      <td>0.0905</td>\n      <td>False</td>\n    </tr>\n    <tr>\n      <th>178</th>\n      <td>Sandbox</td>\n      <td>Sports</td>\n      <td>-1.9086</td>\n      <td>0.9000</td>\n      <td>-7.0049</td>\n      <td>3.1877</td>\n      <td>False</td>\n    </tr>\n    <tr>\n      <th>182</th>\n      <td>Shooter</td>\n      <td>Sports</td>\n      <td>0.0046</td>\n      <td>0.9000</td>\n      <td>-0.2571</td>\n      <td>0.2662</td>\n      <td>False</td>\n    </tr>\n    <tr>\n      <th>185</th>\n      <td>Simulation</td>\n      <td>Sports</td>\n      <td>0.3652</td>\n      <td>0.0963</td>\n      <td>-0.0233</td>\n      <td>0.7537</td>\n      <td>False</td>\n    </tr>\n    <tr>\n      <th>188</th>\n      <td>Sports</td>\n      <td>Strategy</td>\n      <td>0.1378</td>\n      <td>0.9000</td>\n      <td>-0.1908</td>\n      <td>0.4664</td>\n      <td>False</td>\n    </tr>\n    <tr>\n      <th>189</th>\n      <td>Sports</td>\n      <td>Visual Novel</td>\n      <td>1.2086</td>\n      <td>0.9000</td>\n      <td>-2.3977</td>\n      <td>4.8148</td>\n      <td>False</td>\n    </tr>\n  </tbody>\n</table>\n</div>"
     },
     "execution_count": 13,
     "metadata": {},
     "output_type": "execute_result"
    }
   ],
   "source": [
    "tukey_result_df[\n",
    "    (tukey_result_df['group1'] == 'Sports') |\n",
    "    (tukey_result_df['group2'] == 'Sports')\n",
    "]"
   ],
   "metadata": {
    "collapsed": false,
    "pycharm": {
     "name": "#%%\n"
    }
   }
  },
  {
   "cell_type": "code",
   "execution_count": 14,
   "outputs": [
    {
     "name": "stderr",
     "output_type": "stream",
     "text": [
      "c:\\users\\ivnat\\projects\\netology\\pyda-10\\statistics_python_hw_7\\venv\\lib\\site-packages\\statsmodels\\sandbox\\stats\\multicomp.py:775: UserWarning: FixedFormatter should only be used together with FixedLocator\n",
      "  ax1.set_yticklabels(np.insert(self.groupsunique.astype(str), 0, ''))\n"
     ]
    },
    {
     "data": {
      "text/plain": "<Figure size 720x432 with 1 Axes>",
      "image/png": "[encoded data removed]"
     },
     "metadata": {
      "needs_background": "light"
     },
     "output_type": "display_data"
    }
   ],
   "source": [
    "result_3.plot_simultaneous(comparison_name='Sports', ax=None, figsize=(10, 6), xlabel='Critic Score', ylabel='Genre name')\n",
    "plt.show()"
   ],
   "metadata": {
    "collapsed": false,
    "pycharm": {
     "name": "#%%\n"
    }
   }
  },
  {
   "cell_type": "markdown",
   "source": [
    "**Вывод:**\n",
    "\n",
    "С помощью теста Тьюки мы смогли установить,\n",
    "что есть статистически значимые различия между оценкой критиками спортивных игр и Party и Action.\n",
    "\n",
    "В паре Action - Sport (p-value = 0.0010), игры жанра Action в среднем оцениваются ниже Sport.\n",
    "\n",
    "В паре Party-Sports (p-value =0.0035), игры жанра Party в среднем оцениваются ниже Sport.\n",
    "\n",
    "Разница в оценке между спортивными играми и другими жанрами не является статистически значимой.\n",
    "\n",
    "Таким образом можно сказать, что критики относятся к спортивным играм лучше, чем Party и Action.\n",
    "Но, скорее не потому что предпочитают спортивные игры (их они оценивают примерно так же как игры других жанров и все игры в среднем),\n",
    "а потому что ниже оценивают жанры Party и Action."
   ],
   "metadata": {
    "collapsed": false
   }
  },
  {
   "cell_type": "markdown",
   "source": [
    "### Критикам нравятся больше игры на PC или на PS4?\n",
    "\n",
    "#Paired t-test for independent samples\n",
    "\n",
    "Н0: средние оценки двух выборок равны\n",
    "Н1: среднее оценки двух выборок не равны\n",
    "\n",
    "Пороговый уровень статистической значимости = 0,05"
   ],
   "metadata": {
    "collapsed": false
   }
  },
  {
   "cell_type": "code",
   "execution_count": 15,
   "outputs": [
    {
     "data": {
      "text/plain": "<AxesSubplot:xlabel='Platform', ylabel='Critic_Score'>"
     },
     "execution_count": 15,
     "metadata": {},
     "output_type": "execute_result"
    },
    {
     "data": {
      "text/plain": "<Figure size 1728x1296 with 1 Axes>",
      "image/png": "[encoded data removed]"
     },
     "metadata": {
      "needs_background": "light"
     },
     "output_type": "display_data"
    }
   ],
   "source": [
    "videogames_pc_ps4 = videogames_df[ (videogames_df['Platform'] == 'PC') |\n",
    "               (videogames_df['Platform'] == 'PS4') ][['Platform', 'Critic_Score']].dropna()\n",
    "\n",
    "fig2, ax2 = plt.subplots(figsize=(24,18))\n",
    "sns.boxplot(x=\"Platform\", y=\"Critic_Score\",\n",
    "                 data=videogames_pc_ps4, palette=\"Set3\", ax=ax2)"
   ],
   "metadata": {
    "collapsed": false,
    "pycharm": {
     "name": "#%%\n"
    }
   }
  },
  {
   "cell_type": "code",
   "execution_count": 16,
   "outputs": [
    {
     "name": "stdout",
     "output_type": "stream",
     "text": [
      "Ttest_indResult(statistic=-2.7394476056351627, pvalue=0.0069318082502542845)\n"
     ]
    }
   ],
   "source": [
    "pc_critic_score = videogames_df[ videogames_df['Platform'] == 'PC' ]['Critic_Score']\n",
    "ps4_critic_score = videogames_df[ videogames_df['Platform'] == 'PS4' ]['Critic_Score']\n",
    "\n",
    "result_4 = st.ttest_ind(pc_critic_score, ps4_critic_score, equal_var=False, nan_policy='omit')\n",
    "print(result_4)"
   ],
   "metadata": {
    "collapsed": false,
    "pycharm": {
     "name": "#%%\n"
    }
   }
  },
  {
   "cell_type": "markdown",
   "source": [
    "**Вывод:**\n",
    "\n",
    "Распределния оценок игр для PC и PS4 отличаются значимо, p-value < 0.05 (p = 0.006).\n",
    "Значение t-value -2.7, что говорит о том, что в среднем критики оценивают игры на PS4 выше игр на PC (на 2,7 в единицах\n",
    "суммарного стандартного отлонения)\n",
    "\n",
    "Но, в данных много выбросов, особенно для PC, а t-test основывается на средних значениях, которые зависимы от выбросов.\n",
    "Стоит проверить не поменяется ли результат, если исключить выбросы."
   ],
   "metadata": {
    "collapsed": false
   }
  },
  {
   "cell_type": "code",
   "execution_count": 17,
   "outputs": [
    {
     "name": "stderr",
     "output_type": "stream",
     "text": [
      "<ipython-input-17-2697e0968fc6>:4: UserWarning: Boolean Series key will be reindexed to match DataFrame index.\n",
      "  videogames_pc = videogames_pc_ps4[ videogames_df['Platform'] == 'PC' ]\n",
      "<ipython-input-17-2697e0968fc6>:5: SettingWithCopyWarning: \n",
      "A value is trying to be set on a copy of a slice from a DataFrame.\n",
      "Try using .loc[row_indexer,col_indexer] = value instead\n",
      "\n",
      "See the caveats in the documentation: https://pandas.pydata.org/pandas-docs/stable/user_guide/indexing.html#returning-a-view-versus-a-copy\n",
      "  videogames_pc['Z-Score'] = pd.Series(pc_z_scores, index=videogames_pc.index)\n"
     ]
    },
    {
     "data": {
      "text/plain": "      Platform  Critic_Score   Z-Score\n9           PC          10.0  1.713759\n36          PC           9.3  1.225737\n55          PC           9.7  1.504607\n64          PC           9.0  1.016585\n75          PC           8.8  0.877150\n...        ...           ...       ...\n54647       PC           8.0  0.319411\n54811       PC           8.0  0.319411\n54915       PC           8.3  0.528563\n55090       PC           7.2  0.238329\n55313       PC           8.5  0.667998\n\n[852 rows x 3 columns]",
      "text/html": "<div>\n<style scoped>\n    .dataframe tbody tr th:only-of-type {\n        vertical-align: middle;\n    }\n\n    .dataframe tbody tr th {\n        vertical-align: top;\n    }\n\n    .dataframe thead th {\n        text-align: right;\n    }\n</style>\n<table border=\"1\" class=\"dataframe\">\n  <thead>\n    <tr style=\"text-align: right;\">\n      <th></th>\n      <th>Platform</th>\n      <th>Critic_Score</th>\n      <th>Z-Score</th>\n    </tr>\n  </thead>\n  <tbody>\n    <tr>\n      <th>9</th>\n      <td>PC</td>\n      <td>10.0</td>\n      <td>1.713759</td>\n    </tr>\n    <tr>\n      <th>36</th>\n      <td>PC</td>\n      <td>9.3</td>\n      <td>1.225737</td>\n    </tr>\n    <tr>\n      <th>55</th>\n      <td>PC</td>\n      <td>9.7</td>\n      <td>1.504607</td>\n    </tr>\n    <tr>\n      <th>64</th>\n      <td>PC</td>\n      <td>9.0</td>\n      <td>1.016585</td>\n    </tr>\n    <tr>\n      <th>75</th>\n      <td>PC</td>\n      <td>8.8</td>\n      <td>0.877150</td>\n    </tr>\n    <tr>\n      <th>...</th>\n      <td>...</td>\n      <td>...</td>\n      <td>...</td>\n    </tr>\n    <tr>\n      <th>54647</th>\n      <td>PC</td>\n      <td>8.0</td>\n      <td>0.319411</td>\n    </tr>\n    <tr>\n      <th>54811</th>\n      <td>PC</td>\n      <td>8.0</td>\n      <td>0.319411</td>\n    </tr>\n    <tr>\n      <th>54915</th>\n      <td>PC</td>\n      <td>8.3</td>\n      <td>0.528563</td>\n    </tr>\n    <tr>\n      <th>55090</th>\n      <td>PC</td>\n      <td>7.2</td>\n      <td>0.238329</td>\n    </tr>\n    <tr>\n      <th>55313</th>\n      <td>PC</td>\n      <td>8.5</td>\n      <td>0.667998</td>\n    </tr>\n  </tbody>\n</table>\n<p>852 rows × 3 columns</p>\n</div>"
     },
     "execution_count": 17,
     "metadata": {},
     "output_type": "execute_result"
    }
   ],
   "source": [
    "#убираем выбросы для PC\n",
    "pc_critic_score = pc_critic_score.dropna()\n",
    "pc_z_scores = np.abs(st.zscore(pc_critic_score))\n",
    "videogames_pc = videogames_pc_ps4[ videogames_df['Platform'] == 'PC' ]\n",
    "videogames_pc['Z-Score'] = pd.Series(pc_z_scores, index=videogames_pc.index)\n",
    "videogames_pc_no_outl = videogames_pc[ videogames_pc['Z-Score'] < 3]\n",
    "videogames_pc_no_outl"
   ],
   "metadata": {
    "collapsed": false,
    "pycharm": {
     "name": "#%%\n"
    }
   }
  },
  {
   "cell_type": "code",
   "execution_count": 18,
   "outputs": [
    {
     "name": "stderr",
     "output_type": "stream",
     "text": [
      "<ipython-input-18-a0bab11396a8>:4: UserWarning: Boolean Series key will be reindexed to match DataFrame index.\n",
      "  videogames_ps4 = videogames_pc_ps4[ videogames_df['Platform'] == 'PS4' ]\n",
      "<ipython-input-18-a0bab11396a8>:5: SettingWithCopyWarning: \n",
      "A value is trying to be set on a copy of a slice from a DataFrame.\n",
      "Try using .loc[row_indexer,col_indexer] = value instead\n",
      "\n",
      "See the caveats in the documentation: https://pandas.pydata.org/pandas-docs/stable/user_guide/indexing.html#returning-a-view-versus-a-copy\n",
      "  videogames_ps4['Z-Score'] = pd.Series(ps4_z_scores, index=videogames_ps4.index)\n"
     ]
    },
    {
     "data": {
      "text/plain": "      Platform  Critic_Score   Z-Score\n20         PS4           9.7  1.403523\n45         PS4           9.8  1.481695\n50         PS4           8.0  0.074587\n68         PS4           8.3  0.309105\n76         PS4           8.9  0.778141\n...        ...           ...       ...\n52999      PS4           8.0  0.074587\n53775      PS4           7.9  0.003586\n54286      PS4           9.0  0.856314\n54659      PS4           8.9  0.778141\n55653      PS4           8.0  0.074587\n\n[107 rows x 3 columns]",
      "text/html": "<div>\n<style scoped>\n    .dataframe tbody tr th:only-of-type {\n        vertical-align: middle;\n    }\n\n    .dataframe tbody tr th {\n        vertical-align: top;\n    }\n\n    .dataframe thead th {\n        text-align: right;\n    }\n</style>\n<table border=\"1\" class=\"dataframe\">\n  <thead>\n    <tr style=\"text-align: right;\">\n      <th></th>\n      <th>Platform</th>\n      <th>Critic_Score</th>\n      <th>Z-Score</th>\n    </tr>\n  </thead>\n  <tbody>\n    <tr>\n      <th>20</th>\n      <td>PS4</td>\n      <td>9.7</td>\n      <td>1.403523</td>\n    </tr>\n    <tr>\n      <th>45</th>\n      <td>PS4</td>\n      <td>9.8</td>\n      <td>1.481695</td>\n    </tr>\n    <tr>\n      <th>50</th>\n      <td>PS4</td>\n      <td>8.0</td>\n      <td>0.074587</td>\n    </tr>\n    <tr>\n      <th>68</th>\n      <td>PS4</td>\n      <td>8.3</td>\n      <td>0.309105</td>\n    </tr>\n    <tr>\n      <th>76</th>\n      <td>PS4</td>\n      <td>8.9</td>\n      <td>0.778141</td>\n    </tr>\n    <tr>\n      <th>...</th>\n      <td>...</td>\n      <td>...</td>\n      <td>...</td>\n    </tr>\n    <tr>\n      <th>52999</th>\n      <td>PS4</td>\n      <td>8.0</td>\n      <td>0.074587</td>\n    </tr>\n    <tr>\n      <th>53775</th>\n      <td>PS4</td>\n      <td>7.9</td>\n      <td>0.003586</td>\n    </tr>\n    <tr>\n      <th>54286</th>\n      <td>PS4</td>\n      <td>9.0</td>\n      <td>0.856314</td>\n    </tr>\n    <tr>\n      <th>54659</th>\n      <td>PS4</td>\n      <td>8.9</td>\n      <td>0.778141</td>\n    </tr>\n    <tr>\n      <th>55653</th>\n      <td>PS4</td>\n      <td>8.0</td>\n      <td>0.074587</td>\n    </tr>\n  </tbody>\n</table>\n<p>107 rows × 3 columns</p>\n</div>"
     },
     "execution_count": 18,
     "metadata": {},
     "output_type": "execute_result"
    }
   ],
   "source": [
    "#убираем выбросы для PS4\n",
    "ps4_critic_score = ps4_critic_score.dropna()\n",
    "ps4_z_scores = np.abs(st.zscore(ps4_critic_score))\n",
    "videogames_ps4 = videogames_pc_ps4[ videogames_df['Platform'] == 'PS4' ]\n",
    "videogames_ps4['Z-Score'] = pd.Series(ps4_z_scores, index=videogames_ps4.index)\n",
    "videogames_ps4_no_outl = videogames_ps4[ videogames_ps4['Z-Score'] < 3]\n",
    "videogames_ps4_no_outl"
   ],
   "metadata": {
    "collapsed": false,
    "pycharm": {
     "name": "#%%\n"
    }
   }
  },
  {
   "cell_type": "code",
   "execution_count": 19,
   "outputs": [
    {
     "name": "stdout",
     "output_type": "stream",
     "text": [
      "Ttest_indResult(statistic=-3.754927086734301, pvalue=0.0002446873584803517)\n"
     ]
    }
   ],
   "source": [
    "pc_no_outl_critic_score = videogames_pc_no_outl['Critic_Score']\n",
    "ps4_no_outl_critic_score = videogames_ps4_no_outl['Critic_Score']\n",
    "\n",
    "result_5 = st.ttest_ind(pc_no_outl_critic_score,ps4_no_outl_critic_score, equal_var=False)\n",
    "print(result_5)\n"
   ],
   "metadata": {
    "collapsed": false,
    "pycharm": {
     "name": "#%%\n"
    }
   }
  },
  {
   "cell_type": "markdown",
   "source": [
    "**Вывод:**\n",
    "После удаления выбросов, результаты предыдущего теста подтвердились.\n",
    "\n",
    "Различия значимы, при p-value < 0.05 (p = 0.0002). Значени p-value уменьшилось еще сильнее,\n",
    "что говорит о больших основаниях в пользу отклонения гипотезы H0.\n",
    "\n",
    "Значение t-value -3,75, что так же подтверждает - критики в среднем выше оценивают игры на PS4.\n"
   ],
   "metadata": {
    "collapsed": false
   }
  },
  {
   "cell_type": "markdown",
   "source": [
    "###Критикам больше нравятся стрелялки или стратегии?\n",
    "\n",
    "#Вариант1. Paired t-test for independent samples\n",
    "\n",
    "Н0: средние оценки двух выборок равны\n",
    "Н1: среднее оценки двух выборок не равны\n",
    "\n",
    "Пороговый уровень статистической значимости = 0,05"
   ],
   "metadata": {
    "collapsed": false
   }
  },
  {
   "cell_type": "code",
   "execution_count": 20,
   "outputs": [
    {
     "data": {
      "text/plain": "<AxesSubplot:xlabel='Genre', ylabel='Critic_Score'>"
     },
     "execution_count": 20,
     "metadata": {},
     "output_type": "execute_result"
    },
    {
     "data": {
      "text/plain": "<Figure size 1728x1296 with 1 Axes>",
      "image/png": "[encoded data removed]"
     },
     "metadata": {
      "needs_background": "light"
     },
     "output_type": "display_data"
    }
   ],
   "source": [
    "shooter_strategy = videogames_df[\n",
    "    ( videogames_df['Genre'] == 'Shooter') |\n",
    "    ( videogames_df['Genre'] == 'Strategy')\n",
    "]\n",
    "\n",
    "fig3, ax3 = plt.subplots(figsize=(24,18))\n",
    "sns.boxplot(x=\"Genre\", y=\"Critic_Score\",\n",
    "                 data=shooter_strategy, palette=\"Set3\", ax=ax3)"
   ],
   "metadata": {
    "collapsed": false,
    "pycharm": {
     "name": "#%%\n"
    }
   }
  },
  {
   "cell_type": "code",
   "execution_count": 21,
   "outputs": [
    {
     "name": "stdout",
     "output_type": "stream",
     "text": [
      "Ttest_indResult(statistic=-1.6073949711166526, pvalue=0.10838786414222695)\n"
     ]
    }
   ],
   "source": [
    "#Т.к. в данных присутстует много выбросов, сделаем два теста - с выбросами и без.\n",
    "\n",
    "shooter_scores = shooter_strategy[ shooter_strategy['Genre'] == 'Shooter' ]['Critic_Score']\n",
    "strategy_scores = shooter_strategy[ shooter_strategy['Genre'] == 'Strategy' ]['Critic_Score']\n",
    "\n",
    "result_6 = st.ttest_ind(shooter_scores,strategy_scores, equal_var=False, nan_policy='omit')\n",
    "print(result_6)"
   ],
   "metadata": {
    "collapsed": false,
    "pycharm": {
     "name": "#%%\n"
    }
   }
  },
  {
   "cell_type": "code",
   "execution_count": 22,
   "outputs": [
    {
     "data": {
      "text/plain": "         Genre  Critic_Score   Z-Score\n36     Shooter           9.3  1.349800\n40     Shooter           8.7  0.947508\n41     Shooter           8.8  1.014557\n43     Shooter           9.6  1.550946\n49     Shooter           9.5  1.483897\n...        ...           ...       ...\n52437  Shooter           6.4  0.594609\n52438  Shooter           6.1  0.795754\n52461  Shooter           6.0  0.862803\n54119  Shooter           7.4  0.075877\n55090  Shooter           7.2  0.058220\n\n[835 rows x 3 columns]",
      "text/html": "<div>\n<style scoped>\n    .dataframe tbody tr th:only-of-type {\n        vertical-align: middle;\n    }\n\n    .dataframe tbody tr th {\n        vertical-align: top;\n    }\n\n    .dataframe thead th {\n        text-align: right;\n    }\n</style>\n<table border=\"1\" class=\"dataframe\">\n  <thead>\n    <tr style=\"text-align: right;\">\n      <th></th>\n      <th>Genre</th>\n      <th>Critic_Score</th>\n      <th>Z-Score</th>\n    </tr>\n  </thead>\n  <tbody>\n    <tr>\n      <th>36</th>\n      <td>Shooter</td>\n      <td>9.3</td>\n      <td>1.349800</td>\n    </tr>\n    <tr>\n      <th>40</th>\n      <td>Shooter</td>\n      <td>8.7</td>\n      <td>0.947508</td>\n    </tr>\n    <tr>\n      <th>41</th>\n      <td>Shooter</td>\n      <td>8.8</td>\n      <td>1.014557</td>\n    </tr>\n    <tr>\n      <th>43</th>\n      <td>Shooter</td>\n      <td>9.6</td>\n      <td>1.550946</td>\n    </tr>\n    <tr>\n      <th>49</th>\n      <td>Shooter</td>\n      <td>9.5</td>\n      <td>1.483897</td>\n    </tr>\n    <tr>\n      <th>...</th>\n      <td>...</td>\n      <td>...</td>\n      <td>...</td>\n    </tr>\n    <tr>\n      <th>52437</th>\n      <td>Shooter</td>\n      <td>6.4</td>\n      <td>0.594609</td>\n    </tr>\n    <tr>\n      <th>52438</th>\n      <td>Shooter</td>\n      <td>6.1</td>\n      <td>0.795754</td>\n    </tr>\n    <tr>\n      <th>52461</th>\n      <td>Shooter</td>\n      <td>6.0</td>\n      <td>0.862803</td>\n    </tr>\n    <tr>\n      <th>54119</th>\n      <td>Shooter</td>\n      <td>7.4</td>\n      <td>0.075877</td>\n    </tr>\n    <tr>\n      <th>55090</th>\n      <td>Shooter</td>\n      <td>7.2</td>\n      <td>0.058220</td>\n    </tr>\n  </tbody>\n</table>\n<p>835 rows × 3 columns</p>\n</div>"
     },
     "execution_count": 22,
     "metadata": {},
     "output_type": "execute_result"
    }
   ],
   "source": [
    "#убираем выбросы для Shooters\n",
    "shooter_scores = shooter_scores.dropna()\n",
    "shooter_z_scores = np.abs(st.zscore(shooter_scores))\n",
    "videogames_shooters = shooter_strategy[ shooter_strategy['Genre'] == 'Shooter' ][['Genre', 'Critic_Score']].dropna()\n",
    "videogames_shooters['Z-Score'] = pd.Series(shooter_z_scores, index=videogames_shooters.index)\n",
    "videogames_shooters_no_outl = videogames_shooters[ videogames_shooters['Z-Score'] < 3]\n",
    "videogames_shooters_no_outl"
   ],
   "metadata": {
    "collapsed": false,
    "pycharm": {
     "name": "#%%\n"
    }
   }
  },
  {
   "cell_type": "code",
   "execution_count": 23,
   "outputs": [
    {
     "data": {
      "text/plain": "          Genre  Critic_Score   Z-Score\n86     Strategy           8.3  0.628821\n92     Strategy           8.7  0.917691\n210    Strategy           7.5  0.051081\n305    Strategy           9.3  1.350996\n306    Strategy           9.3  1.350996\n...         ...           ...       ...\n52481  Strategy           5.2  1.609922\n52511  Strategy           6.7  0.526660\n52514  Strategy           6.1  0.959965\n52884  Strategy           7.0  0.310007\n54915  Strategy           8.3  0.628821\n\n[364 rows x 3 columns]",
      "text/html": "<div>\n<style scoped>\n    .dataframe tbody tr th:only-of-type {\n        vertical-align: middle;\n    }\n\n    .dataframe tbody tr th {\n        vertical-align: top;\n    }\n\n    .dataframe thead th {\n        text-align: right;\n    }\n</style>\n<table border=\"1\" class=\"dataframe\">\n  <thead>\n    <tr style=\"text-align: right;\">\n      <th></th>\n      <th>Genre</th>\n      <th>Critic_Score</th>\n      <th>Z-Score</th>\n    </tr>\n  </thead>\n  <tbody>\n    <tr>\n      <th>86</th>\n      <td>Strategy</td>\n      <td>8.3</td>\n      <td>0.628821</td>\n    </tr>\n    <tr>\n      <th>92</th>\n      <td>Strategy</td>\n      <td>8.7</td>\n      <td>0.917691</td>\n    </tr>\n    <tr>\n      <th>210</th>\n      <td>Strategy</td>\n      <td>7.5</td>\n      <td>0.051081</td>\n    </tr>\n    <tr>\n      <th>305</th>\n      <td>Strategy</td>\n      <td>9.3</td>\n      <td>1.350996</td>\n    </tr>\n    <tr>\n      <th>306</th>\n      <td>Strategy</td>\n      <td>9.3</td>\n      <td>1.350996</td>\n    </tr>\n    <tr>\n      <th>...</th>\n      <td>...</td>\n      <td>...</td>\n      <td>...</td>\n    </tr>\n    <tr>\n      <th>52481</th>\n      <td>Strategy</td>\n      <td>5.2</td>\n      <td>1.609922</td>\n    </tr>\n    <tr>\n      <th>52511</th>\n      <td>Strategy</td>\n      <td>6.7</td>\n      <td>0.526660</td>\n    </tr>\n    <tr>\n      <th>52514</th>\n      <td>Strategy</td>\n      <td>6.1</td>\n      <td>0.959965</td>\n    </tr>\n    <tr>\n      <th>52884</th>\n      <td>Strategy</td>\n      <td>7.0</td>\n      <td>0.310007</td>\n    </tr>\n    <tr>\n      <th>54915</th>\n      <td>Strategy</td>\n      <td>8.3</td>\n      <td>0.628821</td>\n    </tr>\n  </tbody>\n</table>\n<p>364 rows × 3 columns</p>\n</div>"
     },
     "execution_count": 23,
     "metadata": {},
     "output_type": "execute_result"
    }
   ],
   "source": [
    "#убираем выбросы для Strategy\n",
    "strategy_scores = strategy_scores.dropna()\n",
    "strategy_z_scores = np.abs(st.zscore(strategy_scores))\n",
    "videogames_strategy = shooter_strategy[ shooter_strategy['Genre'] == 'Strategy' ][['Genre', 'Critic_Score']].dropna()\n",
    "videogames_strategy['Z-Score'] = pd.Series(strategy_z_scores, index=videogames_strategy.index)\n",
    "videogames_strategy_no_outl = videogames_strategy[ videogames_strategy['Z-Score'] < 3]\n",
    "videogames_strategy_no_outl\n"
   ],
   "metadata": {
    "collapsed": false,
    "pycharm": {
     "name": "#%%\n"
    }
   }
  },
  {
   "cell_type": "code",
   "execution_count": 24,
   "outputs": [
    {
     "name": "stdout",
     "output_type": "stream",
     "text": [
      "Ttest_indResult(statistic=-1.8892702177758738, pvalue=0.059238868874795854)\n"
     ]
    }
   ],
   "source": [
    "shooters_no_outl_critic_score = videogames_shooters_no_outl['Critic_Score']\n",
    "strategy_no_outl_critic_score = videogames_strategy_no_outl['Critic_Score']\n",
    "\n",
    "result_7 = st.ttest_ind(shooters_no_outl_critic_score,strategy_no_outl_critic_score, equal_var=False)\n",
    "print(result_7)"
   ],
   "metadata": {
    "collapsed": false,
    "pycharm": {
     "name": "#%%\n"
    }
   }
  },
  {
   "cell_type": "code",
   "execution_count": 25,
   "outputs": [
    {
     "data": {
      "text/plain": "      group1    group2  meandiff  p-adj   lower   upper reject\n183  Shooter  Strategy    0.1424    0.9 -0.1754  0.4603  False",
      "text/html": "<div>\n<style scoped>\n    .dataframe tbody tr th:only-of-type {\n        vertical-align: middle;\n    }\n\n    .dataframe tbody tr th {\n        vertical-align: top;\n    }\n\n    .dataframe thead th {\n        text-align: right;\n    }\n</style>\n<table border=\"1\" class=\"dataframe\">\n  <thead>\n    <tr style=\"text-align: right;\">\n      <th></th>\n      <th>group1</th>\n      <th>group2</th>\n      <th>meandiff</th>\n      <th>p-adj</th>\n      <th>lower</th>\n      <th>upper</th>\n      <th>reject</th>\n    </tr>\n  </thead>\n  <tbody>\n    <tr>\n      <th>183</th>\n      <td>Shooter</td>\n      <td>Strategy</td>\n      <td>0.1424</td>\n      <td>0.9</td>\n      <td>-0.1754</td>\n      <td>0.4603</td>\n      <td>False</td>\n    </tr>\n  </tbody>\n</table>\n</div>"
     },
     "execution_count": 25,
     "metadata": {},
     "output_type": "execute_result"
    }
   ],
   "source": [
    "tukey_result_df[\n",
    "    (tukey_result_df['group1'] == 'Shooter') &\n",
    "    (tukey_result_df['group2'] == 'Strategy')\n",
    "]"
   ],
   "metadata": {
    "collapsed": false,
    "pycharm": {
     "name": "#%%\n"
    }
   }
  },
  {
   "cell_type": "code",
   "execution_count": 26,
   "outputs": [
    {
     "name": "stderr",
     "output_type": "stream",
     "text": [
      "c:\\users\\ivnat\\projects\\netology\\pyda-10\\statistics_python_hw_7\\venv\\lib\\site-packages\\statsmodels\\sandbox\\stats\\multicomp.py:775: UserWarning: FixedFormatter should only be used together with FixedLocator\n",
      "  ax1.set_yticklabels(np.insert(self.groupsunique.astype(str), 0, ''))\n"
     ]
    },
    {
     "data": {
      "text/plain": "<Figure size 720x432 with 1 Axes>",
      "image/png": "[encoded data removed]"
     },
     "metadata": {
      "needs_background": "light"
     },
     "output_type": "display_data"
    }
   ],
   "source": [
    "result_3.plot_simultaneous(comparison_name='Shooter', ax=None, figsize=(10, 6), xlabel='Critic Score', ylabel='Genre name')\n",
    "plt.show()"
   ],
   "metadata": {
    "collapsed": false,
    "pycharm": {
     "name": "#%%\n"
    }
   }
  },
  {
   "cell_type": "markdown",
   "source": [
    "**Вывод:**\n",
    "Все проведенные тесты говорят о том, что значимых различий между распределением оценок жанров Shooter и Strategy - нет.\n",
    "\n",
    "1. t-test с поправкой на разность дисперсий, с выбросами в данных - p-value=0.1\n",
    "2. t-test с поправкой на разность дисперсий, без выбросов в данных - p-value=0.59\n",
    "3. Tukey HSK, p-value = 0.9\n",
    "\n",
    "Мы можем сказать, что в среднем критики одинаково относятся к шутерам и стратегиям\n"
   ],
   "metadata": {
    "collapsed": false
   }
  },
  {
   "cell_type": "code",
   "execution_count": 27,
   "outputs": [],
   "source": [
    "import pandas as pd\n",
    "from nltk.corpus import stopwords\n",
    "from scipy import stats as st\n",
    "import seaborn as sns\n",
    "from matplotlib import pyplot as plt\n",
    "from sklearn.model_selection import train_test_split\n",
    "from statsmodels.stats.multicomp import pairwise_tukeyhsd\n",
    "import numpy as np"
   ],
   "metadata": {
    "collapsed": false,
    "pycharm": {
     "name": "#%%\n"
    }
   }
  },
  {
   "cell_type": "markdown",
   "source": [
    "\n",
    "## Задание 2"
   ],
   "metadata": {
    "collapsed": false
   }
  },
  {
   "cell_type": "markdown",
   "source": [
    "Реализуйте базовую модель логистической регрессии для классификации текстовых сообщений (используемые данные [здесь](https://github.com/obulygin/pyda_homeworks/blob/master/stat_case_study/spam.csv)) по признаку спама. Для этого:\n",
    "\n",
    "1) Привидите весь текст к нижнему регистру;\n",
    "2) Удалите мусорные символы;\n",
    "3) Удалите стоп-слова;\n",
    "4) Привидите все слова к нормальной форме;\n",
    "5) Преобразуйте все сообщения в вектора TF-IDF. Вам поможет следующий код:\n",
    "\n",
    "```\n",
    "from sklearn.feature_extraction.text import TfidfVectorizer\n",
    "\n",
    "tfidf = TfidfVectorizer()\n",
    "tfidf_matrix = tfidf.fit_transform(df.Message)\n",
    "names = tfidf.get_feature_names()\n",
    "tfidf_matrix = pd.DataFrame(tfidf_matrix.toarray(), columns=cname)\n",
    "```\n",
    "\n",
    "Можете поэкспериментировать с параметрами [TfidfVectorizer](https://scikit-learn.org/stable/modules/generated/sklearn.feature_extraction.text.TfidfVectorizer.html);\n",
    "6) Разделите данные на тестовые и тренировочные в соотношении 30/70, укажите `random_state=42`. Используйте [train_test_split](https://scikit-learn.org/stable/modules/generated/sklearn.model_selection.train_test_split.html);\n",
    "7) Постройте модель [логистической регрессии](https://scikit-learn.org/stable/modules/generated/sklearn.linear_model.LogisticRegression.html), укажите `random_state=42`, оцените ее точность на тестовых данных;\n",
    "8) Опишите результаты при помощи [confusion_matrix](https://scikit-learn.org/stable/modules/generated/sklearn.metrics.confusion_matrix.html?highlight=confusion_matrix#sklearn.metrics.confusion_matrix);\n",
    "9) Постройте датафрейм, который будет содержать все исходные тексты сообщений, классифицированные неправильно (с указанием фактического и предсказанного).\n"
   ],
   "metadata": {
    "collapsed": false
   }
  },
  {
   "cell_type": "code",
   "execution_count": 28,
   "outputs": [
    {
     "name": "stderr",
     "output_type": "stream",
     "text": [
      "[nltk_data] Downloading package stopwords to\n",
      "[nltk_data]     C:\\Users\\ivnat\\AppData\\Roaming\\nltk_data...\n",
      "[nltk_data]   Package stopwords is already up-to-date!\n",
      "[nltk_data] Downloading package wordnet to\n",
      "[nltk_data]     C:\\Users\\ivnat\\AppData\\Roaming\\nltk_data...\n",
      "[nltk_data]   Package wordnet is already up-to-date!\n"
     ]
    }
   ],
   "source": [
    "import sklearn\n",
    "import re\n",
    "from sklearn.feature_extraction.text import TfidfVectorizer\n",
    "import nltk\n",
    "nltk.download('stopwords')\n",
    "nltk.download('wordnet')\n",
    "from nltk.stem import WordNetLemmatizer\n",
    "from nltk.corpus import stopwords\n",
    "from sklearn.model_selection import train_test_split\n",
    "from sklearn.linear_model import LogisticRegression\n",
    "from sklearn.metrics import confusion_matrix"
   ],
   "metadata": {
    "collapsed": false,
    "pycharm": {
     "name": "#%%\n"
    }
   }
  },
  {
   "cell_type": "code",
   "execution_count": 29,
   "outputs": [
    {
     "data": {
      "text/plain": "     Category                                            Message\n0         ham  Go until jurong point, crazy.. Available only ...\n1         ham                      Ok lar... Joking wif u oni...\n2        spam  Free entry in 2 a wkly comp to win FA Cup fina...\n3         ham  U dun say so early hor... U c already then say...\n4         ham  Nah I don't think he goes to usf, he lives aro...\n...       ...                                                ...\n5567     spam  This is the 2nd time we have tried 2 contact u...\n5568      ham               Will ü b going to esplanade fr home?\n5569      ham  Pity, * was in mood for that. So...any other s...\n5570      ham  The guy did some bitching but I acted like i'd...\n5571      ham                         Rofl. Its true to its name\n\n[5572 rows x 2 columns]",
      "text/html": "<div>\n<style scoped>\n    .dataframe tbody tr th:only-of-type {\n        vertical-align: middle;\n    }\n\n    .dataframe tbody tr th {\n        vertical-align: top;\n    }\n\n    .dataframe thead th {\n        text-align: right;\n    }\n</style>\n<table border=\"1\" class=\"dataframe\">\n  <thead>\n    <tr style=\"text-align: right;\">\n      <th></th>\n      <th>Category</th>\n      <th>Message</th>\n    </tr>\n  </thead>\n  <tbody>\n    <tr>\n      <th>0</th>\n      <td>ham</td>\n      <td>Go until jurong point, crazy.. Available only ...</td>\n    </tr>\n    <tr>\n      <th>1</th>\n      <td>ham</td>\n      <td>Ok lar... Joking wif u oni...</td>\n    </tr>\n    <tr>\n      <th>2</th>\n      <td>spam</td>\n      <td>Free entry in 2 a wkly comp to win FA Cup fina...</td>\n    </tr>\n    <tr>\n      <th>3</th>\n      <td>ham</td>\n      <td>U dun say so early hor... U c already then say...</td>\n    </tr>\n    <tr>\n      <th>4</th>\n      <td>ham</td>\n      <td>Nah I don't think he goes to usf, he lives aro...</td>\n    </tr>\n    <tr>\n      <th>...</th>\n      <td>...</td>\n      <td>...</td>\n    </tr>\n    <tr>\n      <th>5567</th>\n      <td>spam</td>\n      <td>This is the 2nd time we have tried 2 contact u...</td>\n    </tr>\n    <tr>\n      <th>5568</th>\n      <td>ham</td>\n      <td>Will ü b going to esplanade fr home?</td>\n    </tr>\n    <tr>\n      <th>5569</th>\n      <td>ham</td>\n      <td>Pity, * was in mood for that. So...any other s...</td>\n    </tr>\n    <tr>\n      <th>5570</th>\n      <td>ham</td>\n      <td>The guy did some bitching but I acted like i'd...</td>\n    </tr>\n    <tr>\n      <th>5571</th>\n      <td>ham</td>\n      <td>Rofl. Its true to its name</td>\n    </tr>\n  </tbody>\n</table>\n<p>5572 rows × 2 columns</p>\n</div>"
     },
     "execution_count": 29,
     "metadata": {},
     "output_type": "execute_result"
    }
   ],
   "source": [
    "#чтение файла\n",
    "text = pd.read_csv('spam.csv')\n",
    "text"
   ],
   "metadata": {
    "collapsed": false,
    "pycharm": {
     "name": "#%%\n"
    }
   }
  },
  {
   "cell_type": "code",
   "execution_count": 30,
   "outputs": [
    {
     "data": {
      "text/plain": "     Category                                            Message\n0         ham  go until jurong point, crazy.. available only ...\n1         ham                      ok lar... joking wif u oni...\n2        spam  free entry in 2 a wkly comp to win fa cup fina...\n3         ham  u dun say so early hor... u c already then say...\n4         ham  nah i don't think he goes to usf, he lives aro...\n...       ...                                                ...\n5567     spam  this is the 2nd time we have tried 2 contact u...\n5568      ham               will ü b going to esplanade fr home?\n5569      ham  pity, * was in mood for that. so...any other s...\n5570      ham  the guy did some bitching but i acted like i'd...\n5571      ham                         rofl. its true to its name\n\n[5572 rows x 2 columns]",
      "text/html": "<div>\n<style scoped>\n    .dataframe tbody tr th:only-of-type {\n        vertical-align: middle;\n    }\n\n    .dataframe tbody tr th {\n        vertical-align: top;\n    }\n\n    .dataframe thead th {\n        text-align: right;\n    }\n</style>\n<table border=\"1\" class=\"dataframe\">\n  <thead>\n    <tr style=\"text-align: right;\">\n      <th></th>\n      <th>Category</th>\n      <th>Message</th>\n    </tr>\n  </thead>\n  <tbody>\n    <tr>\n      <th>0</th>\n      <td>ham</td>\n      <td>go until jurong point, crazy.. available only ...</td>\n    </tr>\n    <tr>\n      <th>1</th>\n      <td>ham</td>\n      <td>ok lar... joking wif u oni...</td>\n    </tr>\n    <tr>\n      <th>2</th>\n      <td>spam</td>\n      <td>free entry in 2 a wkly comp to win fa cup fina...</td>\n    </tr>\n    <tr>\n      <th>3</th>\n      <td>ham</td>\n      <td>u dun say so early hor... u c already then say...</td>\n    </tr>\n    <tr>\n      <th>4</th>\n      <td>ham</td>\n      <td>nah i don't think he goes to usf, he lives aro...</td>\n    </tr>\n    <tr>\n      <th>...</th>\n      <td>...</td>\n      <td>...</td>\n    </tr>\n    <tr>\n      <th>5567</th>\n      <td>spam</td>\n      <td>this is the 2nd time we have tried 2 contact u...</td>\n    </tr>\n    <tr>\n      <th>5568</th>\n      <td>ham</td>\n      <td>will ü b going to esplanade fr home?</td>\n    </tr>\n    <tr>\n      <th>5569</th>\n      <td>ham</td>\n      <td>pity, * was in mood for that. so...any other s...</td>\n    </tr>\n    <tr>\n      <th>5570</th>\n      <td>ham</td>\n      <td>the guy did some bitching but i acted like i'd...</td>\n    </tr>\n    <tr>\n      <th>5571</th>\n      <td>ham</td>\n      <td>rofl. its true to its name</td>\n    </tr>\n  </tbody>\n</table>\n<p>5572 rows × 2 columns</p>\n</div>"
     },
     "execution_count": 30,
     "metadata": {},
     "output_type": "execute_result"
    }
   ],
   "source": [
    "#приведение текста к нижнему регистру\n",
    "text_lower_case = text.copy()\n",
    "text_lower_case['Message'] = text_lower_case['Message'].str.lower()\n",
    "text_lower_case"
   ],
   "metadata": {
    "collapsed": false,
    "pycharm": {
     "name": "#%%\n"
    }
   }
  },
  {
   "cell_type": "code",
   "execution_count": 31,
   "outputs": [
    {
     "data": {
      "text/plain": "     Category                                            Message\n0         ham  go until jurong point crazy available only in ...\n1         ham                           ok lar joking wif u oni \n2        spam  free entry in 2 a wkly comp to win fa cup fina...\n3         ham       u dun say so early hor u c already then say \n4         ham  nah i don t think he goes to usf he lives arou...\n...       ...                                                ...\n5567     spam  this is the 2nd time we have tried 2 contact u...\n5568      ham               will ü b going to esplanade fr home \n5569      ham  pity was in mood for that so any other suggest...\n5570      ham  the guy did some bitching but i acted like i d...\n5571      ham                          rofl its true to its name\n\n[5572 rows x 2 columns]",
      "text/html": "<div>\n<style scoped>\n    .dataframe tbody tr th:only-of-type {\n        vertical-align: middle;\n    }\n\n    .dataframe tbody tr th {\n        vertical-align: top;\n    }\n\n    .dataframe thead th {\n        text-align: right;\n    }\n</style>\n<table border=\"1\" class=\"dataframe\">\n  <thead>\n    <tr style=\"text-align: right;\">\n      <th></th>\n      <th>Category</th>\n      <th>Message</th>\n    </tr>\n  </thead>\n  <tbody>\n    <tr>\n      <th>0</th>\n      <td>ham</td>\n      <td>go until jurong point crazy available only in ...</td>\n    </tr>\n    <tr>\n      <th>1</th>\n      <td>ham</td>\n      <td>ok lar joking wif u oni</td>\n    </tr>\n    <tr>\n      <th>2</th>\n      <td>spam</td>\n      <td>free entry in 2 a wkly comp to win fa cup fina...</td>\n    </tr>\n    <tr>\n      <th>3</th>\n      <td>ham</td>\n      <td>u dun say so early hor u c already then say</td>\n    </tr>\n    <tr>\n      <th>4</th>\n      <td>ham</td>\n      <td>nah i don t think he goes to usf he lives arou...</td>\n    </tr>\n    <tr>\n      <th>...</th>\n      <td>...</td>\n      <td>...</td>\n    </tr>\n    <tr>\n      <th>5567</th>\n      <td>spam</td>\n      <td>this is the 2nd time we have tried 2 contact u...</td>\n    </tr>\n    <tr>\n      <th>5568</th>\n      <td>ham</td>\n      <td>will ü b going to esplanade fr home</td>\n    </tr>\n    <tr>\n      <th>5569</th>\n      <td>ham</td>\n      <td>pity was in mood for that so any other suggest...</td>\n    </tr>\n    <tr>\n      <th>5570</th>\n      <td>ham</td>\n      <td>the guy did some bitching but i acted like i d...</td>\n    </tr>\n    <tr>\n      <th>5571</th>\n      <td>ham</td>\n      <td>rofl its true to its name</td>\n    </tr>\n  </tbody>\n</table>\n<p>5572 rows × 2 columns</p>\n</div>"
     },
     "execution_count": 31,
     "metadata": {},
     "output_type": "execute_result"
    }
   ],
   "source": [
    "#убираем мусорные символы\n",
    "\n",
    "text_words_only = text_lower_case.copy()\n",
    "text_words_only['Message'] = text_words_only['Message'].str.replace('[\\W_]+',' ', regex=True)\n",
    "text_words_only"
   ],
   "metadata": {
    "collapsed": false,
    "pycharm": {
     "name": "#%%\n"
    }
   }
  },
  {
   "cell_type": "code",
   "execution_count": 32,
   "outputs": [
    {
     "data": {
      "text/plain": "     Category                                            Message\n0         ham  [go, until, jurong, point, crazy, available, o...\n1         ham                     [ok, lar, joking, wif, u, oni]\n2        spam  [free, entry, in, 2, a, wkly, comp, to, win, f...\n3         ham  [u, dun, say, so, early, hor, u, c, already, t...\n4         ham  [nah, i, don, t, think, he, goes, to, usf, he,...\n...       ...                                                ...\n5567     spam  [this, is, the, 2nd, time, we, have, tried, 2,...\n5568      ham       [will, ü, b, going, to, esplanade, fr, home]\n5569      ham  [pity, was, in, mood, for, that, so, any, othe...\n5570      ham  [the, guy, did, some, bitching, but, i, acted,...\n5571      ham                   [rofl, its, true, to, its, name]\n\n[5572 rows x 2 columns]",
      "text/html": "<div>\n<style scoped>\n    .dataframe tbody tr th:only-of-type {\n        vertical-align: middle;\n    }\n\n    .dataframe tbody tr th {\n        vertical-align: top;\n    }\n\n    .dataframe thead th {\n        text-align: right;\n    }\n</style>\n<table border=\"1\" class=\"dataframe\">\n  <thead>\n    <tr style=\"text-align: right;\">\n      <th></th>\n      <th>Category</th>\n      <th>Message</th>\n    </tr>\n  </thead>\n  <tbody>\n    <tr>\n      <th>0</th>\n      <td>ham</td>\n      <td>[go, until, jurong, point, crazy, available, o...</td>\n    </tr>\n    <tr>\n      <th>1</th>\n      <td>ham</td>\n      <td>[ok, lar, joking, wif, u, oni]</td>\n    </tr>\n    <tr>\n      <th>2</th>\n      <td>spam</td>\n      <td>[free, entry, in, 2, a, wkly, comp, to, win, f...</td>\n    </tr>\n    <tr>\n      <th>3</th>\n      <td>ham</td>\n      <td>[u, dun, say, so, early, hor, u, c, already, t...</td>\n    </tr>\n    <tr>\n      <th>4</th>\n      <td>ham</td>\n      <td>[nah, i, don, t, think, he, goes, to, usf, he,...</td>\n    </tr>\n    <tr>\n      <th>...</th>\n      <td>...</td>\n      <td>...</td>\n    </tr>\n    <tr>\n      <th>5567</th>\n      <td>spam</td>\n      <td>[this, is, the, 2nd, time, we, have, tried, 2,...</td>\n    </tr>\n    <tr>\n      <th>5568</th>\n      <td>ham</td>\n      <td>[will, ü, b, going, to, esplanade, fr, home]</td>\n    </tr>\n    <tr>\n      <th>5569</th>\n      <td>ham</td>\n      <td>[pity, was, in, mood, for, that, so, any, othe...</td>\n    </tr>\n    <tr>\n      <th>5570</th>\n      <td>ham</td>\n      <td>[the, guy, did, some, bitching, but, i, acted,...</td>\n    </tr>\n    <tr>\n      <th>5571</th>\n      <td>ham</td>\n      <td>[rofl, its, true, to, its, name]</td>\n    </tr>\n  </tbody>\n</table>\n<p>5572 rows × 2 columns</p>\n</div>"
     },
     "execution_count": 32,
     "metadata": {},
     "output_type": "execute_result"
    }
   ],
   "source": [
    "#получаем список слов для каждого сообщения\n",
    "texts_words_lists = text_words_only.copy()\n",
    "texts_words_lists['Message'] = texts_words_lists['Message'].str.split()\n",
    "texts_words_lists"
   ],
   "metadata": {
    "collapsed": false,
    "pycharm": {
     "name": "#%%\n"
    }
   }
  },
  {
   "cell_type": "code",
   "execution_count": 33,
   "outputs": [],
   "source": [
    "#удаляем стоп-слова\n",
    "def delete_stop_words(line):\n",
    "    new_line = []\n",
    "    for word in line:\n",
    "        if word not in stopwords_set:\n",
    "            new_line.append(word)\n",
    "    return new_line"
   ],
   "metadata": {
    "collapsed": false,
    "pycharm": {
     "name": "#%%\n"
    }
   }
  },
  {
   "cell_type": "code",
   "execution_count": 34,
   "outputs": [
    {
     "data": {
      "text/plain": "     Category                                            Message\n0         ham  [go, jurong, point, crazy, available, bugis, n...\n1         ham                     [ok, lar, joking, wif, u, oni]\n2        spam  [free, entry, 2, wkly, comp, win, fa, cup, fin...\n3         ham      [u, dun, say, early, hor, u, c, already, say]\n4         ham     [nah, think, goes, usf, lives, around, though]\n...       ...                                                ...\n5567     spam  [2nd, time, tried, 2, contact, u, u, 750, poun...\n5568      ham                 [ü, b, going, esplanade, fr, home]\n5569      ham                          [pity, mood, suggestions]\n5570      ham  [guy, bitching, acted, like, interested, buyin...\n5571      ham                                 [rofl, true, name]\n\n[5572 rows x 2 columns]",
      "text/html": "<div>\n<style scoped>\n    .dataframe tbody tr th:only-of-type {\n        vertical-align: middle;\n    }\n\n    .dataframe tbody tr th {\n        vertical-align: top;\n    }\n\n    .dataframe thead th {\n        text-align: right;\n    }\n</style>\n<table border=\"1\" class=\"dataframe\">\n  <thead>\n    <tr style=\"text-align: right;\">\n      <th></th>\n      <th>Category</th>\n      <th>Message</th>\n    </tr>\n  </thead>\n  <tbody>\n    <tr>\n      <th>0</th>\n      <td>ham</td>\n      <td>[go, jurong, point, crazy, available, bugis, n...</td>\n    </tr>\n    <tr>\n      <th>1</th>\n      <td>ham</td>\n      <td>[ok, lar, joking, wif, u, oni]</td>\n    </tr>\n    <tr>\n      <th>2</th>\n      <td>spam</td>\n      <td>[free, entry, 2, wkly, comp, win, fa, cup, fin...</td>\n    </tr>\n    <tr>\n      <th>3</th>\n      <td>ham</td>\n      <td>[u, dun, say, early, hor, u, c, already, say]</td>\n    </tr>\n    <tr>\n      <th>4</th>\n      <td>ham</td>\n      <td>[nah, think, goes, usf, lives, around, though]</td>\n    </tr>\n    <tr>\n      <th>...</th>\n      <td>...</td>\n      <td>...</td>\n    </tr>\n    <tr>\n      <th>5567</th>\n      <td>spam</td>\n      <td>[2nd, time, tried, 2, contact, u, u, 750, poun...</td>\n    </tr>\n    <tr>\n      <th>5568</th>\n      <td>ham</td>\n      <td>[ü, b, going, esplanade, fr, home]</td>\n    </tr>\n    <tr>\n      <th>5569</th>\n      <td>ham</td>\n      <td>[pity, mood, suggestions]</td>\n    </tr>\n    <tr>\n      <th>5570</th>\n      <td>ham</td>\n      <td>[guy, bitching, acted, like, interested, buyin...</td>\n    </tr>\n    <tr>\n      <th>5571</th>\n      <td>ham</td>\n      <td>[rofl, true, name]</td>\n    </tr>\n  </tbody>\n</table>\n<p>5572 rows × 2 columns</p>\n</div>"
     },
     "execution_count": 34,
     "metadata": {},
     "output_type": "execute_result"
    }
   ],
   "source": [
    "stopwords_set = set(stopwords.words('english'))\n",
    "texts_no_stopwords = texts_words_lists.copy()\n",
    "texts_no_stopwords['Message'] = texts_no_stopwords['Message'].apply(delete_stop_words)\n",
    "texts_no_stopwords"
   ],
   "metadata": {
    "collapsed": false,
    "pycharm": {
     "name": "#%%\n"
    }
   }
  },
  {
   "cell_type": "code",
   "execution_count": 35,
   "outputs": [],
   "source": [
    "#производим лемматизацию\n",
    "wordnet_lemmatizer = nltk.WordNetLemmatizer()\n",
    "lemmatized_text = texts_no_stopwords.copy()\n",
    "lemmatized_text['Message'] = lemmatized_text['Message']\\\n",
    "    .apply(lambda row: [wordnet_lemmatizer.lemmatize(w) for w in row])"
   ],
   "metadata": {
    "collapsed": false,
    "pycharm": {
     "name": "#%%\n"
    }
   }
  },
  {
   "cell_type": "code",
   "execution_count": 36,
   "outputs": [
    {
     "data": {
      "text/plain": "     Category                                            Message\n0         ham  go,jurong,point,crazy,available,bugis,n,great,...\n1         ham                            ok,lar,joking,wif,u,oni\n2        spam  free,entry,2,wkly,comp,win,fa,cup,final,tkts,2...\n3         ham                u,dun,say,early,hor,u,c,already,say\n4         ham                nah,think,go,usf,life,around,though\n...       ...                                                ...\n5567     spam  2nd,time,tried,2,contact,u,u,750,pound,prize,2...\n5568      ham                        ü,b,going,esplanade,fr,home\n5569      ham                               pity,mood,suggestion\n5570      ham  guy,bitching,acted,like,interested,buying,some...\n5571      ham                                     rofl,true,name\n\n[5572 rows x 2 columns]",
      "text/html": "<div>\n<style scoped>\n    .dataframe tbody tr th:only-of-type {\n        vertical-align: middle;\n    }\n\n    .dataframe tbody tr th {\n        vertical-align: top;\n    }\n\n    .dataframe thead th {\n        text-align: right;\n    }\n</style>\n<table border=\"1\" class=\"dataframe\">\n  <thead>\n    <tr style=\"text-align: right;\">\n      <th></th>\n      <th>Category</th>\n      <th>Message</th>\n    </tr>\n  </thead>\n  <tbody>\n    <tr>\n      <th>0</th>\n      <td>ham</td>\n      <td>go,jurong,point,crazy,available,bugis,n,great,...</td>\n    </tr>\n    <tr>\n      <th>1</th>\n      <td>ham</td>\n      <td>ok,lar,joking,wif,u,oni</td>\n    </tr>\n    <tr>\n      <th>2</th>\n      <td>spam</td>\n      <td>free,entry,2,wkly,comp,win,fa,cup,final,tkts,2...</td>\n    </tr>\n    <tr>\n      <th>3</th>\n      <td>ham</td>\n      <td>u,dun,say,early,hor,u,c,already,say</td>\n    </tr>\n    <tr>\n      <th>4</th>\n      <td>ham</td>\n      <td>nah,think,go,usf,life,around,though</td>\n    </tr>\n    <tr>\n      <th>...</th>\n      <td>...</td>\n      <td>...</td>\n    </tr>\n    <tr>\n      <th>5567</th>\n      <td>spam</td>\n      <td>2nd,time,tried,2,contact,u,u,750,pound,prize,2...</td>\n    </tr>\n    <tr>\n      <th>5568</th>\n      <td>ham</td>\n      <td>ü,b,going,esplanade,fr,home</td>\n    </tr>\n    <tr>\n      <th>5569</th>\n      <td>ham</td>\n      <td>pity,mood,suggestion</td>\n    </tr>\n    <tr>\n      <th>5570</th>\n      <td>ham</td>\n      <td>guy,bitching,acted,like,interested,buying,some...</td>\n    </tr>\n    <tr>\n      <th>5571</th>\n      <td>ham</td>\n      <td>rofl,true,name</td>\n    </tr>\n  </tbody>\n</table>\n<p>5572 rows × 2 columns</p>\n</div>"
     },
     "execution_count": 36,
     "metadata": {},
     "output_type": "execute_result"
    }
   ],
   "source": [
    "lemmatized_text['Message'] = lemmatized_text['Message'].apply(lambda x: ','.join(map(str, x)))\n",
    "lemmatized_text"
   ],
   "metadata": {
    "collapsed": false,
    "pycharm": {
     "name": "#%%\n"
    }
   }
  },
  {
   "cell_type": "code",
   "execution_count": 37,
   "outputs": [
    {
     "data": {
      "text/plain": "       00  000  000pes  008704050406  0089  0121  01223585236  01223585334  \\\n0     0.0  0.0     0.0           0.0   0.0   0.0          0.0          0.0   \n1     0.0  0.0     0.0           0.0   0.0   0.0          0.0          0.0   \n2     0.0  0.0     0.0           0.0   0.0   0.0          0.0          0.0   \n3     0.0  0.0     0.0           0.0   0.0   0.0          0.0          0.0   \n4     0.0  0.0     0.0           0.0   0.0   0.0          0.0          0.0   \n...   ...  ...     ...           ...   ...   ...          ...          ...   \n5567  0.0  0.0     0.0           0.0   0.0   0.0          0.0          0.0   \n5568  0.0  0.0     0.0           0.0   0.0   0.0          0.0          0.0   \n5569  0.0  0.0     0.0           0.0   0.0   0.0          0.0          0.0   \n5570  0.0  0.0     0.0           0.0   0.0   0.0          0.0          0.0   \n5571  0.0  0.0     0.0           0.0   0.0   0.0          0.0          0.0   \n\n      0125698789   02  ...  zhong  zindgi  zoe  zogtorius  zoom  zouk  zyada  \\\n0            0.0  0.0  ...    0.0     0.0  0.0        0.0   0.0   0.0    0.0   \n1            0.0  0.0  ...    0.0     0.0  0.0        0.0   0.0   0.0    0.0   \n2            0.0  0.0  ...    0.0     0.0  0.0        0.0   0.0   0.0    0.0   \n3            0.0  0.0  ...    0.0     0.0  0.0        0.0   0.0   0.0    0.0   \n4            0.0  0.0  ...    0.0     0.0  0.0        0.0   0.0   0.0    0.0   \n...          ...  ...  ...    ...     ...  ...        ...   ...   ...    ...   \n5567         0.0  0.0  ...    0.0     0.0  0.0        0.0   0.0   0.0    0.0   \n5568         0.0  0.0  ...    0.0     0.0  0.0        0.0   0.0   0.0    0.0   \n5569         0.0  0.0  ...    0.0     0.0  0.0        0.0   0.0   0.0    0.0   \n5570         0.0  0.0  ...    0.0     0.0  0.0        0.0   0.0   0.0    0.0   \n5571         0.0  0.0  ...    0.0     0.0  0.0        0.0   0.0   0.0    0.0   \n\n       èn   ú1  〨ud  \n0     0.0  0.0  0.0  \n1     0.0  0.0  0.0  \n2     0.0  0.0  0.0  \n3     0.0  0.0  0.0  \n4     0.0  0.0  0.0  \n...   ...  ...  ...  \n5567  0.0  0.0  0.0  \n5568  0.0  0.0  0.0  \n5569  0.0  0.0  0.0  \n5570  0.0  0.0  0.0  \n5571  0.0  0.0  0.0  \n\n[5572 rows x 8048 columns]",
      "text/html": "<div>\n<style scoped>\n    .dataframe tbody tr th:only-of-type {\n        vertical-align: middle;\n    }\n\n    .dataframe tbody tr th {\n        vertical-align: top;\n    }\n\n    .dataframe thead th {\n        text-align: right;\n    }\n</style>\n<table border=\"1\" class=\"dataframe\">\n  <thead>\n    <tr style=\"text-align: right;\">\n      <th></th>\n      <th>00</th>\n      <th>000</th>\n      <th>000pes</th>\n      <th>008704050406</th>\n      <th>0089</th>\n      <th>0121</th>\n      <th>01223585236</th>\n      <th>01223585334</th>\n      <th>0125698789</th>\n      <th>02</th>\n      <th>...</th>\n      <th>zhong</th>\n      <th>zindgi</th>\n      <th>zoe</th>\n      <th>zogtorius</th>\n      <th>zoom</th>\n      <th>zouk</th>\n      <th>zyada</th>\n      <th>èn</th>\n      <th>ú1</th>\n      <th>〨ud</th>\n    </tr>\n  </thead>\n  <tbody>\n    <tr>\n      <th>0</th>\n      <td>0.0</td>\n      <td>0.0</td>\n      <td>0.0</td>\n      <td>0.0</td>\n      <td>0.0</td>\n      <td>0.0</td>\n      <td>0.0</td>\n      <td>0.0</td>\n      <td>0.0</td>\n      <td>0.0</td>\n      <td>...</td>\n      <td>0.0</td>\n      <td>0.0</td>\n      <td>0.0</td>\n      <td>0.0</td>\n      <td>0.0</td>\n      <td>0.0</td>\n      <td>0.0</td>\n      <td>0.0</td>\n      <td>0.0</td>\n      <td>0.0</td>\n    </tr>\n    <tr>\n      <th>1</th>\n      <td>0.0</td>\n      <td>0.0</td>\n      <td>0.0</td>\n      <td>0.0</td>\n      <td>0.0</td>\n      <td>0.0</td>\n      <td>0.0</td>\n      <td>0.0</td>\n      <td>0.0</td>\n      <td>0.0</td>\n      <td>...</td>\n      <td>0.0</td>\n      <td>0.0</td>\n      <td>0.0</td>\n      <td>0.0</td>\n      <td>0.0</td>\n      <td>0.0</td>\n      <td>0.0</td>\n      <td>0.0</td>\n      <td>0.0</td>\n      <td>0.0</td>\n    </tr>\n    <tr>\n      <th>2</th>\n      <td>0.0</td>\n      <td>0.0</td>\n      <td>0.0</td>\n      <td>0.0</td>\n      <td>0.0</td>\n      <td>0.0</td>\n      <td>0.0</td>\n      <td>0.0</td>\n      <td>0.0</td>\n      <td>0.0</td>\n      <td>...</td>\n      <td>0.0</td>\n      <td>0.0</td>\n      <td>0.0</td>\n      <td>0.0</td>\n      <td>0.0</td>\n      <td>0.0</td>\n      <td>0.0</td>\n      <td>0.0</td>\n      <td>0.0</td>\n      <td>0.0</td>\n    </tr>\n    <tr>\n      <th>3</th>\n      <td>0.0</td>\n      <td>0.0</td>\n      <td>0.0</td>\n      <td>0.0</td>\n      <td>0.0</td>\n      <td>0.0</td>\n      <td>0.0</td>\n      <td>0.0</td>\n      <td>0.0</td>\n      <td>0.0</td>\n      <td>...</td>\n      <td>0.0</td>\n      <td>0.0</td>\n      <td>0.0</td>\n      <td>0.0</td>\n      <td>0.0</td>\n      <td>0.0</td>\n      <td>0.0</td>\n      <td>0.0</td>\n      <td>0.0</td>\n      <td>0.0</td>\n    </tr>\n    <tr>\n      <th>4</th>\n      <td>0.0</td>\n      <td>0.0</td>\n      <td>0.0</td>\n      <td>0.0</td>\n      <td>0.0</td>\n      <td>0.0</td>\n      <td>0.0</td>\n      <td>0.0</td>\n      <td>0.0</td>\n      <td>0.0</td>\n      <td>...</td>\n      <td>0.0</td>\n      <td>0.0</td>\n      <td>0.0</td>\n      <td>0.0</td>\n      <td>0.0</td>\n      <td>0.0</td>\n      <td>0.0</td>\n      <td>0.0</td>\n      <td>0.0</td>\n      <td>0.0</td>\n    </tr>\n    <tr>\n      <th>...</th>\n      <td>...</td>\n      <td>...</td>\n      <td>...</td>\n      <td>...</td>\n      <td>...</td>\n      <td>...</td>\n      <td>...</td>\n      <td>...</td>\n      <td>...</td>\n      <td>...</td>\n      <td>...</td>\n      <td>...</td>\n      <td>...</td>\n      <td>...</td>\n      <td>...</td>\n      <td>...</td>\n      <td>...</td>\n      <td>...</td>\n      <td>...</td>\n      <td>...</td>\n      <td>...</td>\n    </tr>\n    <tr>\n      <th>5567</th>\n      <td>0.0</td>\n      <td>0.0</td>\n      <td>0.0</td>\n      <td>0.0</td>\n      <td>0.0</td>\n      <td>0.0</td>\n      <td>0.0</td>\n      <td>0.0</td>\n      <td>0.0</td>\n      <td>0.0</td>\n      <td>...</td>\n      <td>0.0</td>\n      <td>0.0</td>\n      <td>0.0</td>\n      <td>0.0</td>\n      <td>0.0</td>\n      <td>0.0</td>\n      <td>0.0</td>\n      <td>0.0</td>\n      <td>0.0</td>\n      <td>0.0</td>\n    </tr>\n    <tr>\n      <th>5568</th>\n      <td>0.0</td>\n      <td>0.0</td>\n      <td>0.0</td>\n      <td>0.0</td>\n      <td>0.0</td>\n      <td>0.0</td>\n      <td>0.0</td>\n      <td>0.0</td>\n      <td>0.0</td>\n      <td>0.0</td>\n      <td>...</td>\n      <td>0.0</td>\n      <td>0.0</td>\n      <td>0.0</td>\n      <td>0.0</td>\n      <td>0.0</td>\n      <td>0.0</td>\n      <td>0.0</td>\n      <td>0.0</td>\n      <td>0.0</td>\n      <td>0.0</td>\n    </tr>\n    <tr>\n      <th>5569</th>\n      <td>0.0</td>\n      <td>0.0</td>\n      <td>0.0</td>\n      <td>0.0</td>\n      <td>0.0</td>\n      <td>0.0</td>\n      <td>0.0</td>\n      <td>0.0</td>\n      <td>0.0</td>\n      <td>0.0</td>\n      <td>...</td>\n      <td>0.0</td>\n      <td>0.0</td>\n      <td>0.0</td>\n      <td>0.0</td>\n      <td>0.0</td>\n      <td>0.0</td>\n      <td>0.0</td>\n      <td>0.0</td>\n      <td>0.0</td>\n      <td>0.0</td>\n    </tr>\n    <tr>\n      <th>5570</th>\n      <td>0.0</td>\n      <td>0.0</td>\n      <td>0.0</td>\n      <td>0.0</td>\n      <td>0.0</td>\n      <td>0.0</td>\n      <td>0.0</td>\n      <td>0.0</td>\n      <td>0.0</td>\n      <td>0.0</td>\n      <td>...</td>\n      <td>0.0</td>\n      <td>0.0</td>\n      <td>0.0</td>\n      <td>0.0</td>\n      <td>0.0</td>\n      <td>0.0</td>\n      <td>0.0</td>\n      <td>0.0</td>\n      <td>0.0</td>\n      <td>0.0</td>\n    </tr>\n    <tr>\n      <th>5571</th>\n      <td>0.0</td>\n      <td>0.0</td>\n      <td>0.0</td>\n      <td>0.0</td>\n      <td>0.0</td>\n      <td>0.0</td>\n      <td>0.0</td>\n      <td>0.0</td>\n      <td>0.0</td>\n      <td>0.0</td>\n      <td>...</td>\n      <td>0.0</td>\n      <td>0.0</td>\n      <td>0.0</td>\n      <td>0.0</td>\n      <td>0.0</td>\n      <td>0.0</td>\n      <td>0.0</td>\n      <td>0.0</td>\n      <td>0.0</td>\n      <td>0.0</td>\n    </tr>\n  </tbody>\n</table>\n<p>5572 rows × 8048 columns</p>\n</div>"
     },
     "execution_count": 37,
     "metadata": {},
     "output_type": "execute_result"
    }
   ],
   "source": [
    "#Преобразуйте все сообщения в вектора TF-IDF\n",
    "\n",
    "from sklearn.feature_extraction.text import TfidfVectorizer\n",
    "\n",
    "tfidf = TfidfVectorizer()\n",
    "tfidf_matrix = tfidf.fit_transform(lemmatized_text.Message)\n",
    "names = tfidf.get_feature_names()\n",
    "tfidf_matrix = pd.DataFrame(tfidf_matrix.toarray(), columns=names)\n",
    "tfidf_matrix"
   ],
   "metadata": {
    "collapsed": false,
    "pycharm": {
     "name": "#%%\n"
    }
   }
  },
  {
   "cell_type": "code",
   "execution_count": 38,
   "outputs": [],
   "source": [
    "# смэтчим индексы с реальными словами"
   ],
   "metadata": {
    "collapsed": false,
    "pycharm": {
     "name": "#%%\n"
    }
   }
  },
  {
   "cell_type": "code",
   "execution_count": 39,
   "outputs": [],
   "source": [
    "#Разделить данные на тестовые и тренировочные\n",
    "X = tfidf_matrix\n",
    "y = lemmatized_text['Category']\n",
    "\n",
    "X_train, X_test, y_train, y_test = train_test_split( X, y, test_size=0.3, random_state=42)"
   ],
   "metadata": {
    "collapsed": false,
    "pycharm": {
     "name": "#%%\n"
    }
   }
  },
  {
   "cell_type": "code",
   "execution_count": 40,
   "outputs": [],
   "source": [
    "#Обучаем модель\n",
    "clf = LogisticRegression(random_state=42).fit(X_train, y_train,)"
   ],
   "metadata": {
    "collapsed": false,
    "pycharm": {
     "name": "#%%\n"
    }
   }
  },
  {
   "cell_type": "code",
   "execution_count": 41,
   "outputs": [
    {
     "data": {
      "text/plain": "array(['ham', 'ham', 'ham', ..., 'ham', 'spam', 'ham'], dtype=object)"
     },
     "execution_count": 41,
     "metadata": {},
     "output_type": "execute_result"
    }
   ],
   "source": [
    "#Делаем предсказание\n",
    "clf.predict(X_test)"
   ],
   "metadata": {
    "collapsed": false,
    "pycharm": {
     "name": "#%%\n"
    }
   }
  },
  {
   "cell_type": "code",
   "execution_count": 42,
   "outputs": [
    {
     "data": {
      "text/plain": "0.958732057416268"
     },
     "execution_count": 42,
     "metadata": {},
     "output_type": "execute_result"
    }
   ],
   "source": [
    "#Оцениваем качество работы модели\n",
    "clf.score(X_test, y_test)"
   ],
   "metadata": {
    "collapsed": false,
    "pycharm": {
     "name": "#%%\n"
    }
   }
  },
  {
   "cell_type": "code",
   "execution_count": 43,
   "outputs": [
    {
     "data": {
      "text/plain": "           spam_pred  ham_pred\nspam_true        158        66\nham_true           3      1445",
      "text/html": "<div>\n<style scoped>\n    .dataframe tbody tr th:only-of-type {\n        vertical-align: middle;\n    }\n\n    .dataframe tbody tr th {\n        vertical-align: top;\n    }\n\n    .dataframe thead th {\n        text-align: right;\n    }\n</style>\n<table border=\"1\" class=\"dataframe\">\n  <thead>\n    <tr style=\"text-align: right;\">\n      <th></th>\n      <th>spam_pred</th>\n      <th>ham_pred</th>\n    </tr>\n  </thead>\n  <tbody>\n    <tr>\n      <th>spam_true</th>\n      <td>158</td>\n      <td>66</td>\n    </tr>\n    <tr>\n      <th>ham_true</th>\n      <td>3</td>\n      <td>1445</td>\n    </tr>\n  </tbody>\n</table>\n</div>"
     },
     "execution_count": 43,
     "metadata": {},
     "output_type": "execute_result"
    }
   ],
   "source": [
    "#Строим confusion_matrix\n",
    "\n",
    "y_pred = clf.predict(X_test)\n",
    "\n",
    "confusion_matrix = confusion_matrix(y_test, y_pred, labels=['spam', 'ham'])\n",
    "confusion_matrix = pd.DataFrame(confusion_matrix)\n",
    "confusion_matrix.columns = ['spam_pred', 'ham_pred']\n",
    "confusion_matrix.index = ['spam_true', 'ham_true']\n",
    "confusion_matrix"
   ],
   "metadata": {
    "collapsed": false,
    "pycharm": {
     "name": "#%%\n"
    }
   }
  },
  {
   "cell_type": "code",
   "execution_count": 44,
   "outputs": [
    {
     "name": "stdout",
     "output_type": "stream",
     "text": [
      "Верно распознанный спам:158 \n",
      "Верно распознанное обычное сообщение:1445 \n",
      "Неверно распознанный спам (спам отметили как обычное сообщение):66 \n",
      "Неверно распознанное обычное сообщение (отметили как спам):3 \n",
      "\n"
     ]
    }
   ],
   "source": [
    "print(\n",
    "    f'Верно распознанный спам:{confusion_matrix[\"spam_pred\"][\"spam_true\"]} \\n'\n",
    "    f'Верно распознанное обычное сообщение:{confusion_matrix[\"ham_pred\"][\"ham_true\"]} \\n'\n",
    "    f'Неверно распознанный спам (спам отметили как обычное сообщение):{confusion_matrix[\"ham_pred\"][\"spam_true\"]} \\n'\n",
    "    f'Неверно распознанное обычное сообщение (отметили как спам):{confusion_matrix[\"spam_pred\"][\"ham_true\"]} \\n'\n",
    ")"
   ],
   "metadata": {
    "collapsed": false,
    "pycharm": {
     "name": "#%%\n"
    }
   }
  },
  {
   "cell_type": "code",
   "execution_count": 45,
   "outputs": [
    {
     "data": {
      "text/plain": "     Category  pred\n3245      ham   ham\n944       ham   ham\n1044      ham   ham\n2484      ham   ham\n812       ham   ham\n...       ...   ...\n2505      ham   ham\n2525     spam  spam\n4975      ham   ham\n650      spam  spam\n4463      ham   ham\n\n[1672 rows x 2 columns]",
      "text/html": "<div>\n<style scoped>\n    .dataframe tbody tr th:only-of-type {\n        vertical-align: middle;\n    }\n\n    .dataframe tbody tr th {\n        vertical-align: top;\n    }\n\n    .dataframe thead th {\n        text-align: right;\n    }\n</style>\n<table border=\"1\" class=\"dataframe\">\n  <thead>\n    <tr style=\"text-align: right;\">\n      <th></th>\n      <th>Category</th>\n      <th>pred</th>\n    </tr>\n  </thead>\n  <tbody>\n    <tr>\n      <th>3245</th>\n      <td>ham</td>\n      <td>ham</td>\n    </tr>\n    <tr>\n      <th>944</th>\n      <td>ham</td>\n      <td>ham</td>\n    </tr>\n    <tr>\n      <th>1044</th>\n      <td>ham</td>\n      <td>ham</td>\n    </tr>\n    <tr>\n      <th>2484</th>\n      <td>ham</td>\n      <td>ham</td>\n    </tr>\n    <tr>\n      <th>812</th>\n      <td>ham</td>\n      <td>ham</td>\n    </tr>\n    <tr>\n      <th>...</th>\n      <td>...</td>\n      <td>...</td>\n    </tr>\n    <tr>\n      <th>2505</th>\n      <td>ham</td>\n      <td>ham</td>\n    </tr>\n    <tr>\n      <th>2525</th>\n      <td>spam</td>\n      <td>spam</td>\n    </tr>\n    <tr>\n      <th>4975</th>\n      <td>ham</td>\n      <td>ham</td>\n    </tr>\n    <tr>\n      <th>650</th>\n      <td>spam</td>\n      <td>spam</td>\n    </tr>\n    <tr>\n      <th>4463</th>\n      <td>ham</td>\n      <td>ham</td>\n    </tr>\n  </tbody>\n</table>\n<p>1672 rows × 2 columns</p>\n</div>"
     },
     "execution_count": 45,
     "metadata": {},
     "output_type": "execute_result"
    }
   ],
   "source": [
    "#Объединяем тестовые данные в датафрейм содержащий категорию и предсказание\n",
    "tested_df = pd.DataFrame(y_test)\n",
    "tested_df['pred'] = y_pred\n",
    "tested_df"
   ],
   "metadata": {
    "collapsed": false,
    "pycharm": {
     "name": "#%%\n"
    }
   }
  },
  {
   "cell_type": "code",
   "execution_count": 46,
   "outputs": [
    {
     "data": {
      "text/plain": "1672"
     },
     "execution_count": 46,
     "metadata": {},
     "output_type": "execute_result"
    }
   ],
   "source": [
    "#Получаем индексы текстового дф для последующей фильтрации\n",
    "y_test = y_test.sort_index()\n",
    "tested_idx_list = y_test.index.to_list()\n",
    "len(tested_idx_list)"
   ],
   "metadata": {
    "collapsed": false,
    "pycharm": {
     "name": "#%%\n"
    }
   }
  },
  {
   "cell_type": "code",
   "execution_count": 47,
   "outputs": [
    {
     "data": {
      "text/plain": "     Category                                            Message\n8        spam  WINNER!! As a valued network customer you have...\n12       spam  URGENT! You have won a 1 week FREE membership ...\n15       spam  XXXMobileMovieClub: To use your credit, click ...\n17        ham  Eh u remember how 2 spell his name... Yes i di...\n19       spam  England v Macedonia - dont miss the goals/team...\n...       ...                                                ...\n5558      ham                             Sorry, I'll call later\n5561      ham  Get me out of this dump heap. My mom decided t...\n5565      ham                                       Huh y lei...\n5567     spam  This is the 2nd time we have tried 2 contact u...\n5569      ham  Pity, * was in mood for that. So...any other s...\n\n[1672 rows x 2 columns]",
      "text/html": "<div>\n<style scoped>\n    .dataframe tbody tr th:only-of-type {\n        vertical-align: middle;\n    }\n\n    .dataframe tbody tr th {\n        vertical-align: top;\n    }\n\n    .dataframe thead th {\n        text-align: right;\n    }\n</style>\n<table border=\"1\" class=\"dataframe\">\n  <thead>\n    <tr style=\"text-align: right;\">\n      <th></th>\n      <th>Category</th>\n      <th>Message</th>\n    </tr>\n  </thead>\n  <tbody>\n    <tr>\n      <th>8</th>\n      <td>spam</td>\n      <td>WINNER!! As a valued network customer you have...</td>\n    </tr>\n    <tr>\n      <th>12</th>\n      <td>spam</td>\n      <td>URGENT! You have won a 1 week FREE membership ...</td>\n    </tr>\n    <tr>\n      <th>15</th>\n      <td>spam</td>\n      <td>XXXMobileMovieClub: To use your credit, click ...</td>\n    </tr>\n    <tr>\n      <th>17</th>\n      <td>ham</td>\n      <td>Eh u remember how 2 spell his name... Yes i di...</td>\n    </tr>\n    <tr>\n      <th>19</th>\n      <td>spam</td>\n      <td>England v Macedonia - dont miss the goals/team...</td>\n    </tr>\n    <tr>\n      <th>...</th>\n      <td>...</td>\n      <td>...</td>\n    </tr>\n    <tr>\n      <th>5558</th>\n      <td>ham</td>\n      <td>Sorry, I'll call later</td>\n    </tr>\n    <tr>\n      <th>5561</th>\n      <td>ham</td>\n      <td>Get me out of this dump heap. My mom decided t...</td>\n    </tr>\n    <tr>\n      <th>5565</th>\n      <td>ham</td>\n      <td>Huh y lei...</td>\n    </tr>\n    <tr>\n      <th>5567</th>\n      <td>spam</td>\n      <td>This is the 2nd time we have tried 2 contact u...</td>\n    </tr>\n    <tr>\n      <th>5569</th>\n      <td>ham</td>\n      <td>Pity, * was in mood for that. So...any other s...</td>\n    </tr>\n  </tbody>\n</table>\n<p>1672 rows × 2 columns</p>\n</div>"
     },
     "execution_count": 47,
     "metadata": {},
     "output_type": "execute_result"
    }
   ],
   "source": [
    "#Фильтруем изначальный дф\n",
    "filtered_text_df  = text[text.index.isin(tested_idx_list)]\n",
    "filtered_text_df"
   ],
   "metadata": {
    "collapsed": false,
    "pycharm": {
     "name": "#%%\n"
    }
   }
  },
  {
   "cell_type": "code",
   "execution_count": 48,
   "outputs": [
    {
     "data": {
      "text/plain": "     Category  pred                                            Message\n8        spam  spam  WINNER!! As a valued network customer you have...\n12       spam  spam  URGENT! You have won a 1 week FREE membership ...\n15       spam   ham  XXXMobileMovieClub: To use your credit, click ...\n17        ham   ham  Eh u remember how 2 spell his name... Yes i di...\n19       spam   ham  England v Macedonia - dont miss the goals/team...\n...       ...   ...                                                ...\n5558      ham   ham                             Sorry, I'll call later\n5561      ham   ham  Get me out of this dump heap. My mom decided t...\n5565      ham   ham                                       Huh y lei...\n5567     spam  spam  This is the 2nd time we have tried 2 contact u...\n5569      ham   ham  Pity, * was in mood for that. So...any other s...\n\n[1672 rows x 3 columns]",
      "text/html": "<div>\n<style scoped>\n    .dataframe tbody tr th:only-of-type {\n        vertical-align: middle;\n    }\n\n    .dataframe tbody tr th {\n        vertical-align: top;\n    }\n\n    .dataframe thead th {\n        text-align: right;\n    }\n</style>\n<table border=\"1\" class=\"dataframe\">\n  <thead>\n    <tr style=\"text-align: right;\">\n      <th></th>\n      <th>Category</th>\n      <th>pred</th>\n      <th>Message</th>\n    </tr>\n  </thead>\n  <tbody>\n    <tr>\n      <th>8</th>\n      <td>spam</td>\n      <td>spam</td>\n      <td>WINNER!! As a valued network customer you have...</td>\n    </tr>\n    <tr>\n      <th>12</th>\n      <td>spam</td>\n      <td>spam</td>\n      <td>URGENT! You have won a 1 week FREE membership ...</td>\n    </tr>\n    <tr>\n      <th>15</th>\n      <td>spam</td>\n      <td>ham</td>\n      <td>XXXMobileMovieClub: To use your credit, click ...</td>\n    </tr>\n    <tr>\n      <th>17</th>\n      <td>ham</td>\n      <td>ham</td>\n      <td>Eh u remember how 2 spell his name... Yes i di...</td>\n    </tr>\n    <tr>\n      <th>19</th>\n      <td>spam</td>\n      <td>ham</td>\n      <td>England v Macedonia - dont miss the goals/team...</td>\n    </tr>\n    <tr>\n      <th>...</th>\n      <td>...</td>\n      <td>...</td>\n      <td>...</td>\n    </tr>\n    <tr>\n      <th>5558</th>\n      <td>ham</td>\n      <td>ham</td>\n      <td>Sorry, I'll call later</td>\n    </tr>\n    <tr>\n      <th>5561</th>\n      <td>ham</td>\n      <td>ham</td>\n      <td>Get me out of this dump heap. My mom decided t...</td>\n    </tr>\n    <tr>\n      <th>5565</th>\n      <td>ham</td>\n      <td>ham</td>\n      <td>Huh y lei...</td>\n    </tr>\n    <tr>\n      <th>5567</th>\n      <td>spam</td>\n      <td>spam</td>\n      <td>This is the 2nd time we have tried 2 contact u...</td>\n    </tr>\n    <tr>\n      <th>5569</th>\n      <td>ham</td>\n      <td>ham</td>\n      <td>Pity, * was in mood for that. So...any other s...</td>\n    </tr>\n  </tbody>\n</table>\n<p>1672 rows × 3 columns</p>\n</div>"
     },
     "execution_count": 48,
     "metadata": {},
     "output_type": "execute_result"
    }
   ],
   "source": [
    "#Объединяем сообщения, категории и предсказания\n",
    "tested_df = tested_df.sort_index()\n",
    "tested_df['Message'] = filtered_text_df['Message']\n",
    "tested_df"
   ],
   "metadata": {
    "collapsed": false,
    "pycharm": {
     "name": "#%%\n"
    }
   }
  },
  {
   "cell_type": "code",
   "execution_count": 49,
   "outputs": [
    {
     "data": {
      "text/plain": "     Category pred                                            Message\n15       spam  ham  XXXMobileMovieClub: To use your credit, click ...\n19       spam  ham  England v Macedonia - dont miss the goals/team...\n68       spam  ham  Did you hear about the new \"Divorce Barbie\"? I...\n95       spam  ham  Your free ringtone is waiting to be collected....\n135      spam  ham  Want 2 get laid tonight? Want real Dogging loc...\n...       ...  ...                                                ...\n4652     spam  ham  A £400 XMAS REWARD IS WAITING FOR YOU! Our com...\n5037     spam  ham  You won't believe it but it's true. It's Incre...\n5120     spam  ham       PRIVATE! Your 2003 Account Statement for 078\n5366     spam  ham  A £400 XMAS REWARD IS WAITING FOR YOU! Our com...\n5377     spam  ham  The current leading bid is 151. To pause this ...\n\n[69 rows x 3 columns]",
      "text/html": "<div>\n<style scoped>\n    .dataframe tbody tr th:only-of-type {\n        vertical-align: middle;\n    }\n\n    .dataframe tbody tr th {\n        vertical-align: top;\n    }\n\n    .dataframe thead th {\n        text-align: right;\n    }\n</style>\n<table border=\"1\" class=\"dataframe\">\n  <thead>\n    <tr style=\"text-align: right;\">\n      <th></th>\n      <th>Category</th>\n      <th>pred</th>\n      <th>Message</th>\n    </tr>\n  </thead>\n  <tbody>\n    <tr>\n      <th>15</th>\n      <td>spam</td>\n      <td>ham</td>\n      <td>XXXMobileMovieClub: To use your credit, click ...</td>\n    </tr>\n    <tr>\n      <th>19</th>\n      <td>spam</td>\n      <td>ham</td>\n      <td>England v Macedonia - dont miss the goals/team...</td>\n    </tr>\n    <tr>\n      <th>68</th>\n      <td>spam</td>\n      <td>ham</td>\n      <td>Did you hear about the new \"Divorce Barbie\"? I...</td>\n    </tr>\n    <tr>\n      <th>95</th>\n      <td>spam</td>\n      <td>ham</td>\n      <td>Your free ringtone is waiting to be collected....</td>\n    </tr>\n    <tr>\n      <th>135</th>\n      <td>spam</td>\n      <td>ham</td>\n      <td>Want 2 get laid tonight? Want real Dogging loc...</td>\n    </tr>\n    <tr>\n      <th>...</th>\n      <td>...</td>\n      <td>...</td>\n      <td>...</td>\n    </tr>\n    <tr>\n      <th>4652</th>\n      <td>spam</td>\n      <td>ham</td>\n      <td>A £400 XMAS REWARD IS WAITING FOR YOU! Our com...</td>\n    </tr>\n    <tr>\n      <th>5037</th>\n      <td>spam</td>\n      <td>ham</td>\n      <td>You won't believe it but it's true. It's Incre...</td>\n    </tr>\n    <tr>\n      <th>5120</th>\n      <td>spam</td>\n      <td>ham</td>\n      <td>PRIVATE! Your 2003 Account Statement for 078</td>\n    </tr>\n    <tr>\n      <th>5366</th>\n      <td>spam</td>\n      <td>ham</td>\n      <td>A £400 XMAS REWARD IS WAITING FOR YOU! Our com...</td>\n    </tr>\n    <tr>\n      <th>5377</th>\n      <td>spam</td>\n      <td>ham</td>\n      <td>The current leading bid is 151. To pause this ...</td>\n    </tr>\n  </tbody>\n</table>\n<p>69 rows × 3 columns</p>\n</div>"
     },
     "execution_count": 49,
     "metadata": {},
     "output_type": "execute_result"
    }
   ],
   "source": [
    "#Получаем датафрейм, который содержит все исходные тексты сообщений, классифицированные неправильно\n",
    "text_mistakes = tested_df[ tested_df['Category'] != tested_df['pred'] ]\n",
    "text_mistakes\n",
    "\n",
    "\n",
    "\n"
   ],
   "metadata": {
    "collapsed": false,
    "pycharm": {
     "name": "#%%\n"
    }
   }
  }
 ],
 "metadata": {
  "kernelspec": {
   "name": "python3",
   "language": "python",
   "display_name": "Python 3"
  },
  "language_info": {
   "codemirror_mode": {
    "name": "ipython",
    "version": 2
   },
   "file_extension": ".py",
   "mimetype": "text/x-python",
   "name": "python",
   "nbconvert_exporter": "python",
   "pygments_lexer": "ipython2",
   "version": "2.7.6"
  }
 },
 "nbformat": 4,
 "nbformat_minor": 0
}