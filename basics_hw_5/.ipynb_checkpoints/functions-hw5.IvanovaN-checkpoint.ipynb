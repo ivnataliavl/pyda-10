{
 "cells": [
  {
   "cell_type": "markdown",
   "metadata": {},
   "source": [
    "Вы работаете секретарем и вам постоянно приходят различные документы. Вы должны быть очень внимательны, чтобы не потерять ни один документ. Каталог документов хранится в следующем виде:"
   ]
  },
  {
   "cell_type": "code",
   "execution_count": 1,
   "metadata": {},
   "outputs": [],
   "source": [
    "documents = [\n",
    "    {'type': 'passport', 'number': '2207 876234', 'name': 'Василий Гупкин'},\n",
    "    {'type': 'invoice', 'number': '11-2', 'name': 'Геннадий Покемонов'},\n",
    "    {'type': 'insurance', 'number': '10006', 'name': 'Аристарх Павлов'}\n",
    "]"
   ]
  },
  {
   "cell_type": "markdown",
   "metadata": {},
   "source": [
    "Перечень полок, на которых находятся документы хранится в следующем виде:"
   ]
  },
  {
   "cell_type": "code",
   "execution_count": 2,
   "metadata": {},
   "outputs": [],
   "source": [
    "directories = {\n",
    "    '1': ['2207 876234', '11-2'],\n",
    "    '2': ['10006'],\n",
    "    '3': []\n",
    "}"
   ]
  },
  {
   "cell_type": "markdown",
   "metadata": {},
   "source": [
    "Необходимо реализовать пользовательские команды (внимание! это не название функций, которые должны быть выразительными, а команды, которые вводит пользователь, чтобы получить необходимый результат):\n",
    "  \n",
    "- p – people – команда, которая спросит номер документа и выведет имя человека, которому он принадлежит;  \n",
    "- s – shelf – команда, которая спросит номер документа и выведет номер полки, на которой он находится  \n",
    "*Правильно обработайте ситуации, когда пользователь будет вводить несуществующий документ*.\n",
    "- l – list – команда, которая выведет список всех документов в формате   \n",
    "**passport \"2207 876234\" \"Василий Гупкин\"**  \n",
    "- as – add shelf – команда, которая спросит номер новой полки и добавит ее в перечень. *Предусмотрите случай, когда пользователь добавляет полку, которая уже существует*.\n",
    "- d – delete – команда, которая спросит номер документа и удалит его из каталога и из перечня полок. *Предусмотрите сценарий, когда пользователь вводит несуществующий документ*;  \n",
    "- m – move – команда, которая спросит номер документа и целевую полку и переместит его с текущей полки на целевую. *Корректно обработайте кейсы, когда пользователь пытается переместить несуществующий документ или переместить документ на несуществующую полку*;  \n",
    "- a – add – команда, которая добавит новый документ в каталог и в перечень полок, спросив его номер, тип, имя владельца и номер полки, на котором он будет храниться. *Корректно обработайте ситуацию, когда пользователь будет пытаться добавить документ на несуществующую полку*."
   ]
  },
  {
   "cell_type": "code",
   "execution_count": 3,
   "metadata": {},
   "outputs": [],
   "source": [
    "# Общие функции\n",
    "\n",
    "# Получение пользовательского ввода номера документа\n",
    "def request_document_num():\n",
    "    doc_number = input('Введите номер документа: ')\n",
    "    return doc_number\n",
    "\n",
    "\n",
    "# Получение документа по номеру\n",
    "def get_document_by_number(doc_number):\n",
    "    for doc in documents:\n",
    "        if doc_number == doc['number']:\n",
    "            document = doc\n",
    "            return document\n",
    "    return None\n",
    "    \n",
    "\n",
    "# Получение пользовательского ввода номера полки\n",
    "def request_directory():\n",
    "    dir_name = input('Введите название полки: ')\n",
    "    return dir_name                       \n",
    "            \n",
    "\n",
    "# Получение полки по имени\n",
    "def get_directory_by_name(dir_name):\n",
    "    for dir in directories.keys():\n",
    "         if dir_name == dir:\n",
    "            return dir_name\n",
    "    return None\n",
    "\n",
    "\n",
    "# Удаление документа из каталога\n",
    "def delete_doc_from_documents(doc_number):   \n",
    "    for doc in documents:\n",
    "        if doc_number == doc['number']:\n",
    "            doc_index = documents.index(doc)\n",
    "            popped = documents.pop(doc_index)\n",
    "            return popped\n",
    "            \n",
    "\n",
    "# Удаление документа из полки            \n",
    "def delete_doc_from_directory(doc_number):  \n",
    "    for docs in directories.values():\n",
    "        for doc in docs:\n",
    "            if doc_number == doc:\n",
    "                doc_index = docs.index(doc_number)\n",
    "                popped = docs.pop(doc_index)\n",
    "                return popped\n",
    "\n",
    "# Получение пользовательского ввода типа документа\n",
    "def request_doc_type():\n",
    "    doc_type = input('Введите тип документа: ')\n",
    "    return doc_type\n",
    "\n",
    "# Получение пользовательского ввода имени владеьца документа\n",
    "def request_doc_name():\n",
    "    doc_name = input('Введите имя владеьца документа: ')\n",
    "    return doc_name\n",
    "\n",
    "# Получение пользовательского ввода команды основного меню\n",
    "def request_command():\n",
    "    command_name = input('Введите название команды из списка: ')\n",
    "    return command_name\n",
    "\n",
    "# Поиск комманды по названию               \n",
    "# def get_command_by_name(command_name):\n",
    "#     commands = {'p':get_person(documents),'s': get_shelf(directories),'l': get_all_docs(documents),'as': add_new_directory(directories),'d': delete_document(directories, documents),'m': move_document(directories),'a': add_document(documents)} \n",
    "# #     command = commands.get('command_name', None)\n",
    "#     for command, func in commands.items():\n",
    "#         if command_name == command:\n",
    "#             function = func\n",
    "#             return function\n",
    "#     return None"
   ]
  },
  {
   "cell_type": "code",
   "execution_count": 4,
   "metadata": {},
   "outputs": [],
   "source": [
    "# p – people – команда, которая спросит номер документа и выведет имя человека, которому он принадлежит;\n",
    "# Получение имени человека по номеру документа\n",
    "\n",
    "def get_person():\n",
    "    document = {}\n",
    "    while not document:\n",
    "        document = get_document_by_number(request_document_num())\n",
    "        if not document: print(f'Документа с таким номером  не существует.')\n",
    "    return 'Ваш результат: ' + document['name']"
   ]
  },
  {
   "cell_type": "code",
   "execution_count": 5,
   "metadata": {
    "scrolled": true
   },
   "outputs": [],
   "source": [
    "# get_person(documents)"
   ]
  },
  {
   "cell_type": "code",
   "execution_count": 6,
   "metadata": {},
   "outputs": [],
   "source": [
    "# s – shelf – команда, которая спросит номер документа и выведет номер полки, на которой он находится\n",
    "# Правильно обработайте ситуации, когда пользователь будет вводить несуществующий документ.\n",
    "\n",
    "def get_shelf():\n",
    "    document = {}\n",
    "    while not document:\n",
    "        document = get_document_by_number(request_document_num())\n",
    "        if not document: print(f'Документа с таким номером  не существует.')\n",
    "    doc_number = document['number']\n",
    "    \n",
    "    for shelf, docs in directories.items():\n",
    "        for doc in docs:\n",
    "            if doc_number == doc:\n",
    "                print ('Документ на полке: '+ shelf)\n"
   ]
  },
  {
   "cell_type": "code",
   "execution_count": 7,
   "metadata": {},
   "outputs": [],
   "source": [
    "# get_shelf(directories)"
   ]
  },
  {
   "cell_type": "code",
   "execution_count": 8,
   "metadata": {},
   "outputs": [],
   "source": [
    "# l – list – команда, которая выведет список всех документов в формате\n",
    "# passport \"2207 876234\" \"Василий Гупкин\"\n",
    "\n",
    "def get_all_docs():\n",
    "    for doc in documents:\n",
    "        print(f\"{doc['type']} - {doc['number']} - {doc['name']}\")"
   ]
  },
  {
   "cell_type": "code",
   "execution_count": 9,
   "metadata": {},
   "outputs": [],
   "source": [
    "# get_all_docs(documents)"
   ]
  },
  {
   "cell_type": "code",
   "execution_count": 10,
   "metadata": {},
   "outputs": [],
   "source": [
    "# as – add shelf – команда, которая спросит номер новой полки и добавит ее в перечень. \n",
    "# Предусмотрите случай, когда пользователь добавляет полку, которая уже существует.\n",
    "\n",
    "def add_new_directory():\n",
    "    new_directory = request_directory()\n",
    "    while new_directory == get_directory_by_name(new_directory):\n",
    "        print(f'Полка с названием {new_directory} уже существует')\n",
    "        new_directory = request_directory()\n",
    "        \n",
    "    print(f'Вы добавили новую полку с названием {new_directory}')\n",
    "    directories.update({new_directory:[]})"
   ]
  },
  {
   "cell_type": "code",
   "execution_count": 11,
   "metadata": {},
   "outputs": [],
   "source": [
    "# add_new_directory(directories)"
   ]
  },
  {
   "cell_type": "code",
   "execution_count": 12,
   "metadata": {},
   "outputs": [],
   "source": [
    "# d – delete – команда, которая спросит номер документа и удалит его из каталога и из перечня полок. \n",
    "# Предусмотрите сценарий, когда пользователь вводит несуществующий документ;\n",
    "\n",
    "def delete_document():\n",
    "    document = {}\n",
    "    while not document:\n",
    "        document = get_document_by_number(request_document_num())\n",
    "        if not document: print(f'Документа с таким номером  не существует.')   \n",
    "\n",
    "    popped = delete_doc_from_documents(document['number'])\n",
    "    print(f\"Вы удалили документ: \\\"{popped['type']} - {popped['number']} - {popped['name']}\\\" из каталога\")\n",
    "    popped = delete_doc_from_directory(document['number'])\n",
    "    print(f\"Вы удалили документ с номером {popped} из полки\")\n"
   ]
  },
  {
   "cell_type": "code",
   "execution_count": 13,
   "metadata": {},
   "outputs": [],
   "source": [
    "# delete_document(directories, documents)"
   ]
  },
  {
   "cell_type": "code",
   "execution_count": 14,
   "metadata": {},
   "outputs": [],
   "source": [
    "# m – move – команда, которая спросит номер документа и целевую полку и переместит его с текущей полки на целевую. \n",
    "# Корректно обработайте кейсы, когда пользователь пытается переместить несуществующий документ или переместить документ на несуществующую полку;\n",
    "\n",
    "def move_document():\n",
    "    document = {}\n",
    "    while not document:\n",
    "        document = get_document_by_number(request_document_num())\n",
    "        if not document: print(f'Документа с таким номером  не существует.')\n",
    "    doc_number = document['number']\n",
    "    \n",
    "    destination_directory = ''\n",
    "    while not destination_directory:\n",
    "        destination_directory = get_directory_by_name(request_directory())\n",
    "        if not destination_directory: print(f'Полка с таким номером  не существует.')\n",
    "    \n",
    "    popped = delete_doc_from_directory(doc_number)    # Отдает popped - номер удаленного документа\n",
    "  \n",
    "    for directory, docs in directories.items():\n",
    "        if destination_directory == directory:\n",
    "            docs.append(popped)\n",
    "            print(f'Вы перенсли документ {popped} на полку {directory}')\n",
    "    "
   ]
  },
  {
   "cell_type": "code",
   "execution_count": 15,
   "metadata": {},
   "outputs": [],
   "source": [
    "# move_document(directories)"
   ]
  },
  {
   "cell_type": "code",
   "execution_count": 16,
   "metadata": {},
   "outputs": [],
   "source": [
    "# a – add – команда, которая добавит новый документ в каталог и в перечень полок, спросив его номер, тип, имя владельца и номер полки, на котором он будет храниться. \n",
    "# Корректно обработайте ситуацию, когда пользователь будет пытаться добавить документ на несуществующую полку.\n",
    "\n",
    "def add_document():\n",
    "    new_doc_num = request_document_num()\n",
    "    while not get_document_by_number(new_doc_num):\n",
    "        print(f'Документ с номером {new_doc_num} уже существует')\n",
    "        new_doc_num = request_document_num()\n",
    "        \n",
    "    doc_type = request_doc_type()\n",
    "    doc_name = request_doc_name()\n",
    "    \n",
    "    documents.append({'type': doc_type, 'number': new_doc_num, 'name': doc_name})\n",
    "    print(f'Вы добавили новый документ \"{doc_type} - {new_doc_num} - {doc_name}\" в каталог')\n",
    "    \n",
    "    print('На какую полку поместить документ?')\n",
    "    destination_directory = ''\n",
    "    while not destination_directory:\n",
    "        destination_directory = get_directory_by_name(request_directory())\n",
    "        if not destination_directory: print(f'Полка с таким номером  не существует.')\n",
    "    \n",
    "    for directory, docs in directories.items():\n",
    "        if destination_directory == directory:\n",
    "            docs.append(new_doc_num)\n",
    "    \n",
    "    print(f'Вы добавили документ \"{doc_type} - {new_doc_num} - {doc_name}\" на полку {destination_directory}')"
   ]
  },
  {
   "cell_type": "code",
   "execution_count": 29,
   "metadata": {},
   "outputs": [],
   "source": [
    "# общее меню вызова функций\n",
    "def main():\n",
    "    print(\"Доступные команды: 'p' – 'people' – команда, которая спросит номер документа и выведет имя человека, которому он принадлежит; 's' – 'shelf' – команда, которая спросит номер документа и выведет номер полки, на которой он находится'l' – 'list' – команда, которая выведет список всех документов в формате'as' – 'add shelf' – команда, которая спросит номер новой полки и добавит ее в перечень. 'd' – 'delete' – команда, которая спросит номер документа и удалит его из каталога и из перечня полок.'m' – 'move' – команда, которая спросит номер документа и целевую полку и переместит его с текущей полки на целевую'a' – 'add' – команда, которая добавит новый документ в каталог и в перечень полок\")\n",
    "    command_name = request_command()\n",
    "    commands = {\n",
    "        'p':get_person,\n",
    "        's': get_shelf,\n",
    "        'l': get_all_docs,\n",
    "        'as': add_new_directory,\n",
    "        'd': delete_document,\n",
    "        'm': move_document,\n",
    "        'a': add_document} \n",
    "    \n",
    "    command = commands.get(command_name, None)\n",
    "    command()\n",
    "#     while not command:\n",
    "#         print(f'Команды {command_name} не существует')\n",
    "#         command_name = request_command()\n",
    "#     command()\n",
    "  \n"
   ]
  },
  {
   "cell_type": "code",
   "execution_count": 27,
   "metadata": {},
   "outputs": [
    {
     "name": "stdout",
     "output_type": "stream",
     "text": [
      "Доступные команды: 'p' – 'people' – команда, которая спросит номер документа и выведет имя человека, которому он принадлежит; 's' – 'shelf' – команда, которая спросит номер документа и выведет номер полки, на которой он находится'l' – 'list' – команда, которая выведет список всех документов в формате'as' – 'add shelf' – команда, которая спросит номер новой полки и добавит ее в перечень. 'd' – 'delete' – команда, которая спросит номер документа и удалит его из каталога и из перечня полок.'m' – 'move' – команда, которая спросит номер документа и целевую полку и переместит его с текущей полки на целевую'a' – 'add' – команда, которая добавит новый документ в каталог и в перечень полок\n",
      "Введите название команды из списка: 7\n"
     ]
    },
    {
     "ename": "TypeError",
     "evalue": "'NoneType' object is not callable",
     "output_type": "error",
     "traceback": [
      "\u001b[1;31m---------------------------------------------------------------------------\u001b[0m",
      "\u001b[1;31mTypeError\u001b[0m                                 Traceback (most recent call last)",
      "\u001b[1;32m<ipython-input-27-263240bbee7e>\u001b[0m in \u001b[0;36m<module>\u001b[1;34m\u001b[0m\n\u001b[1;32m----> 1\u001b[1;33m \u001b[0mmain\u001b[0m\u001b[1;33m(\u001b[0m\u001b[1;33m)\u001b[0m\u001b[1;33m\u001b[0m\u001b[1;33m\u001b[0m\u001b[0m\n\u001b[0m",
      "\u001b[1;32m<ipython-input-24-ae9826fd6070>\u001b[0m in \u001b[0;36mmain\u001b[1;34m()\u001b[0m\n\u001b[0;32m      5\u001b[0m     \u001b[0mcommands\u001b[0m \u001b[1;33m=\u001b[0m \u001b[1;33m{\u001b[0m\u001b[1;34m'p'\u001b[0m\u001b[1;33m:\u001b[0m\u001b[0mget_person\u001b[0m\u001b[1;33m,\u001b[0m\u001b[1;34m's'\u001b[0m\u001b[1;33m:\u001b[0m \u001b[0mget_shelf\u001b[0m\u001b[1;33m,\u001b[0m\u001b[1;34m'l'\u001b[0m\u001b[1;33m:\u001b[0m \u001b[0mget_all_docs\u001b[0m\u001b[1;33m,\u001b[0m\u001b[1;34m'as'\u001b[0m\u001b[1;33m:\u001b[0m \u001b[0madd_new_directory\u001b[0m\u001b[1;33m,\u001b[0m\u001b[1;34m'd'\u001b[0m\u001b[1;33m:\u001b[0m \u001b[0mdelete_document\u001b[0m\u001b[1;33m,\u001b[0m\u001b[1;34m'm'\u001b[0m\u001b[1;33m:\u001b[0m \u001b[0mmove_document\u001b[0m\u001b[1;33m,\u001b[0m\u001b[1;34m'a'\u001b[0m\u001b[1;33m:\u001b[0m \u001b[0madd_document\u001b[0m\u001b[1;33m}\u001b[0m\u001b[1;33m\u001b[0m\u001b[1;33m\u001b[0m\u001b[0m\n\u001b[0;32m      6\u001b[0m \u001b[1;33m\u001b[0m\u001b[0m\n\u001b[1;32m----> 7\u001b[1;33m     \u001b[0mcommand\u001b[0m \u001b[1;33m=\u001b[0m \u001b[0mcommands\u001b[0m\u001b[1;33m.\u001b[0m\u001b[0mget\u001b[0m\u001b[1;33m(\u001b[0m\u001b[0mcommand_name\u001b[0m\u001b[1;33m,\u001b[0m \u001b[1;32mNone\u001b[0m\u001b[1;33m)\u001b[0m\u001b[1;33m(\u001b[0m\u001b[1;33m)\u001b[0m\u001b[1;33m\u001b[0m\u001b[1;33m\u001b[0m\u001b[0m\n\u001b[0m\u001b[0;32m      8\u001b[0m     \u001b[0mprint\u001b[0m\u001b[1;33m(\u001b[0m\u001b[0mcommand\u001b[0m\u001b[1;33m)\u001b[0m\u001b[1;33m\u001b[0m\u001b[1;33m\u001b[0m\u001b[0m\n\u001b[0;32m      9\u001b[0m \u001b[1;31m#     while not command:\u001b[0m\u001b[1;33m\u001b[0m\u001b[1;33m\u001b[0m\u001b[1;33m\u001b[0m\u001b[0m\n",
      "\u001b[1;31mTypeError\u001b[0m: 'NoneType' object is not callable"
     ]
    }
   ],
   "source": [
    "main()"
   ]
  },
  {
   "cell_type": "code",
   "execution_count": 19,
   "metadata": {},
   "outputs": [],
   "source": [
    "# # Error handling:\n",
    "# ? Проверки на наличие и отсутствие документов и полок\n",
    "# ? Проводить после импутов\n",
    "\n",
    "# - пользователь будет вводить несуществующий документ\n",
    "# - пользователь добавляет полку, которая уже существует\n",
    "# - когда пользователь пытается переместить несуществующий документ или переместить документ на несуществующую полку;\n",
    "# - будет пытаться добавить документ на несуществующую полку."
   ]
  }
 ],
 "metadata": {
  "kernelspec": {
   "display_name": "Python 3",
   "language": "python",
   "name": "python3"
  },
  "language_info": {
   "codemirror_mode": {
    "name": "ipython",
    "version": 3
   },
   "file_extension": ".py",
   "mimetype": "text/x-python",
   "name": "python",
   "nbconvert_exporter": "python",
   "pygments_lexer": "ipython3",
   "version": "3.7.6"
  }
 },
 "nbformat": 4,
 "nbformat_minor": 2
}
