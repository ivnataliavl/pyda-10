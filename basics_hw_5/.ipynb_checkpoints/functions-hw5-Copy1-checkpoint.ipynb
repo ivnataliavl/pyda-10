{
 "cells": [
  {
   "cell_type": "markdown",
   "metadata": {},
   "source": [
    "Вы работаете секретарем и вам постоянно приходят различные документы. Вы должны быть очень внимательны, чтобы не потерять ни один документ. Каталог документов хранится в следующем виде:"
   ]
  },
  {
   "cell_type": "code",
   "execution_count": 1,
   "metadata": {},
   "outputs": [],
   "source": [
    "documents = [\n",
    "    {'type': 'passport', 'number': '2207 876234', 'name': 'Василий Гупкин'},\n",
    "    {'type': 'invoice', 'number': '11-2', 'name': 'Геннадий Покемонов'},\n",
    "    {'type': 'insurance', 'number': '10006', 'name': 'Аристарх Павлов'}\n",
    "]"
   ]
  },
  {
   "cell_type": "markdown",
   "metadata": {},
   "source": [
    "Перечень полок, на которых находятся документы хранится в следующем виде:"
   ]
  },
  {
   "cell_type": "code",
   "execution_count": 2,
   "metadata": {},
   "outputs": [],
   "source": [
    "directories = {\n",
    "    '1': ['2207 876234', '11-2'],\n",
    "    '2': ['10006'],\n",
    "    '3': []\n",
    "}"
   ]
  },
  {
   "cell_type": "markdown",
   "metadata": {},
   "source": [
    "Необходимо реализовать пользовательские команды (внимание! это не название функций, которые должны быть выразительными, а команды, которые вводит пользователь, чтобы получить необходимый результат):\n",
    "  \n",
    "- p – people – команда, которая спросит номер документа и выведет имя человека, которому он принадлежит;  \n",
    "- s – shelf – команда, которая спросит номер документа и выведет номер полки, на которой он находится  \n",
    "*Правильно обработайте ситуации, когда пользователь будет вводить несуществующий документ*.\n",
    "- l – list – команда, которая выведет список всех документов в формате   \n",
    "**passport \"2207 876234\" \"Василий Гупкин\"**  \n",
    "- as – add shelf – команда, которая спросит номер новой полки и добавит ее в перечень. *Предусмотрите случай, когда пользователь добавляет полку, которая уже существует*.\n",
    "- d – delete – команда, которая спросит номер документа и удалит его из каталога и из перечня полок. *Предусмотрите сценарий, когда пользователь вводит несуществующий документ*;  \n",
    "- m – move – команда, которая спросит номер документа и целевую полку и переместит его с текущей полки на целевую. *Корректно обработайте кейсы, когда пользователь пытается переместить несуществующий документ или переместить документ на несуществующую полку*;  \n",
    "- a – add – команда, которая добавит новый документ в каталог и в перечень полок, спросив его номер, тип, имя владельца и номер полки, на котором он будет храниться. *Корректно обработайте ситуацию, когда пользователь будет пытаться добавить документ на несуществующую полку*."
   ]
  },
  {
   "cell_type": "code",
   "execution_count": 17,
   "metadata": {},
   "outputs": [],
   "source": [
    "# Общие функции\n",
    "\n",
    "# Проверка наличия документа\n",
    "def get_document_by_number(doc_number):\n",
    "    for doc in documents:\n",
    "         if doc_number == doc['number']:\n",
    "            return doc['number']\n",
    "    print(f'Документа с номером {doc_number} не существует.')\n",
    "    return request_document()\n",
    "\n",
    "\n",
    "# Получение пользовательского ввода номера документа\n",
    "def request_document():\n",
    "    doc_number = input('Введите номер документа: ')\n",
    "    return get_document_by_number(doc_number)\n",
    "\n",
    "\n",
    "# Поиск полки по номеру\n",
    "def check_directory_by_name(dir_name):\n",
    "    for dir in directories.keys():\n",
    "        if dir_name == dir:\n",
    "            print ('Полка с таким именем уже существует, выберите дургое название.')\n",
    "            return request_directory()\n",
    "    return dir_name\n",
    "\n",
    "\n",
    "# Получение пользовательского ввода номера полки\n",
    "def request_directory():\n",
    "    dir_name = input('Введите название для новой полки: ')\n",
    "    return check_directory_by_name(dir_name)\n",
    "\n",
    "\n",
    "# Удаление документа из каталога\n",
    "def delete_doc_from_documents(doc_number):  \n",
    "#     doc_number = request_document() \n",
    "    \n",
    "    for doc in documents:\n",
    "        if doc_number == doc['number']:\n",
    "            doc_index = documents.index(doc)\n",
    "            popped = documents.pop(doc_index)\n",
    "            print(f\"Вы удалили документ: {popped['type']} - {popped['number']} - {popped['name']} из каталога\")\n",
    "            \n",
    "\n",
    "# Удаление документа из полки            \n",
    "def delete_doc_from_directory(doc_number):  \n",
    "#     doc_number = request_document()\n",
    "    \n",
    "    for docs in directories.values():\n",
    "        for doc in docs:\n",
    "            if doc_number == doc:\n",
    "                doc_index = docs.index(doc_number)\n",
    "                popped = docs.pop(doc_index)\n",
    "                print(f\"Вы удалили документ с номером {popped} из полки\")\n",
    "\n",
    "# Поиск комманды по названию               \n",
    "# def get_command_by_name():\n",
    "#     commands = {'p':get_person(documents),'s': ,'l': ,'as': ,'d': ,'m': ,'a': }\n",
    "#     for shortcut, function in commands.items():\n",
    "#         if shortcut == command:\n",
    "#             return function\n",
    "#     print(f'Такой команды нет')\n",
    "#     return request_command()                \n",
    "                \n",
    "                \n",
    "# Получение пользовательского ввода команды               \n",
    "def request_command():    \n",
    "    command = input('Введите вашу команду')\n",
    "    return get_command_by_name(command)"
   ]
  },
  {
   "cell_type": "code",
   "execution_count": 4,
   "metadata": {},
   "outputs": [],
   "source": [
    "# p – people – команда, которая спросит номер документа и выведет имя человека, которому он принадлежит;\n",
    "# Получение имени человека по номеру документа\n",
    "def get_person(documents):\n",
    "    doc_number = request_document()\n",
    "    for doc in documents:\n",
    "        if doc_number == doc['number']:\n",
    "            return 'Ваш результат: ' + doc['name']"
   ]
  },
  {
   "cell_type": "code",
   "execution_count": null,
   "metadata": {},
   "outputs": [],
   "source": [
    "get_person(documents)"
   ]
  },
  {
   "cell_type": "code",
   "execution_count": 5,
   "metadata": {},
   "outputs": [],
   "source": [
    "# s – shelf – команда, которая спросит номер документа и выведет номер полки, на которой он находится\n",
    "# Правильно обработайте ситуации, когда пользователь будет вводить несуществующий документ.\n",
    "\n",
    "def get_shelf(directories):\n",
    "    doc_number = request_document()\n",
    "    for shelf, docs in directories.items():\n",
    "        for doc in docs:\n",
    "            if doc_number == doc:\n",
    "                print ('Документ на полке: '+ shelf)"
   ]
  },
  {
   "cell_type": "code",
   "execution_count": null,
   "metadata": {},
   "outputs": [],
   "source": [
    "get_shelf(directories)"
   ]
  },
  {
   "cell_type": "code",
   "execution_count": 6,
   "metadata": {},
   "outputs": [],
   "source": [
    "# l – list – команда, которая выведет список всех документов в формате\n",
    "# passport \"2207 876234\" \"Василий Гупкин\"\n",
    "\n",
    "def get_all_docs(documents):\n",
    "    for doc in documents:\n",
    "        print(f\"{doc['type']} - {doc['number']} - {doc['name']}\")\n",
    "        "
   ]
  },
  {
   "cell_type": "code",
   "execution_count": null,
   "metadata": {},
   "outputs": [],
   "source": [
    "get_all_docs(documents)"
   ]
  },
  {
   "cell_type": "code",
   "execution_count": 7,
   "metadata": {},
   "outputs": [],
   "source": [
    "# as – add shelf – команда, которая спросит номер новой полки и добавит ее в перечень. \n",
    "# Предусмотрите случай, когда пользователь добавляет полку, которая уже существует.\n",
    "def add_new_directory(directories):\n",
    "    new_directory = request_directory()\n",
    "    print(f'Вы добавили новую полку с названием {new_directory}')\n",
    "    return directories.update({new_directory:[]})"
   ]
  },
  {
   "cell_type": "code",
   "execution_count": null,
   "metadata": {},
   "outputs": [],
   "source": [
    "add_new_directory(directories)"
   ]
  },
  {
   "cell_type": "code",
   "execution_count": 18,
   "metadata": {},
   "outputs": [],
   "source": [
    "# d – delete – команда, которая спросит номер документа и удалит его из каталога и из перечня полок. \n",
    "# Предусмотрите сценарий, когда пользователь вводит несуществующий документ;\n",
    "\n",
    "def delete_document(directories, documents):\n",
    "    doc_number = request_document() \n",
    "    \n",
    "    delete_doc_from_documents(doc_number)\n",
    "    delete_doc_from_directory(doc_number)"
   ]
  },
  {
   "cell_type": "code",
   "execution_count": 19,
   "metadata": {},
   "outputs": [
    {
     "name": "stdout",
     "output_type": "stream",
     "text": [
      "Введите номер документа: 11-2\n",
      "Вы удалили документ: invoice - 11-2 - Геннадий Покемонов из каталога\n",
      "Вы удалили документ с номером 11-2 из полки\n"
     ]
    }
   ],
   "source": [
    "delete_document(directories, documents)"
   ]
  },
  {
   "cell_type": "code",
   "execution_count": null,
   "metadata": {},
   "outputs": [],
   "source": [
    "# m – move – команда, которая спросит номер документа и целевую полку и переместит его с текущей полки на целевую. \n",
    "# Корректно обработайте кейсы, когда пользователь пытается переместить несуществующий документ или переместить документ на несуществующую полку;\n",
    "def move_document():\n",
    "    doc_number = request_document()\n",
    "    \n",
    "    \n",
    "    delete_doc_from_directory(doc_number)\n",
    "    \n",
    "    "
   ]
  },
  {
   "cell_type": "code",
   "execution_count": null,
   "metadata": {},
   "outputs": [],
   "source": [
    "# a – add – команда, которая добавит новый документ в каталог и в перечень полок, спросив его номер, тип, имя владельца и номер полки, на котором он будет храниться. \n",
    "# Корректно обработайте ситуацию, когда пользователь будет пытаться добавить документ на несуществующую полку.\n",
    "\n",
    "def add_document():"
   ]
  },
  {
   "cell_type": "code",
   "execution_count": null,
   "metadata": {},
   "outputs": [],
   "source": [
    "# общее меню вызова функций\n",
    "def main():\n",
    "    print('Доступные команды:\n",
    "          'p' – 'people' – команда, которая спросит номер документа и выведет имя человека, которому он принадлежит;\n",
    "          's' – 'shelf' – команда, которая спросит номер документа и выведет номер полки, на которой он находится\n",
    "          'l' – 'list' – команда, которая выведет список всех документов в формате\n",
    "          'as' – 'add shelf' – команда, которая спросит номер новой полки и добавит ее в перечень. \n",
    "          'd' – 'delete' – команда, которая спросит номер документа и удалит его из каталога и из перечня полок.\n",
    "          'm' – 'move' – команда, которая спросит номер документа и целевую полку и переместит его с текущей полки на целевую\n",
    "          'a' – 'add' – команда, которая добавит новый документ в каталог и в перечень полок)\n",
    "    request_command()\n",
    "    \n"
   ]
  },
  {
   "cell_type": "code",
   "execution_count": null,
   "metadata": {},
   "outputs": [],
   "source": [
    "# Error handling:\n",
    "? Проверки на наличие и отсутствие документов и полок\n",
    "? Проводить после импутов\n",
    "\n",
    "- пользователь будет вводить несуществующий документ\n",
    "- пользователь добавляет полку, которая уже существует\n",
    "- когда пользователь пытается переместить несуществующий документ или переместить документ на несуществующую полку;\n",
    "- будет пытаться добавить документ на несуществующую полку."
   ]
  }
 ],
 "metadata": {
  "kernelspec": {
   "display_name": "Python 3",
   "language": "python",
   "name": "python3"
  },
  "language_info": {
   "codemirror_mode": {
    "name": "ipython",
    "version": 3
   },
   "file_extension": ".py",
   "mimetype": "text/x-python",
   "name": "python",
   "nbconvert_exporter": "python",
   "pygments_lexer": "ipython3",
   "version": "3.7.6"
  }
 },
 "nbformat": 4,
 "nbformat_minor": 2
}
