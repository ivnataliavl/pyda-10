{
 "cells": [
  {
   "cell_type": "code",
   "execution_count": 133,
   "outputs": [],
   "source": [
    "# 1 Задача\n",
    "# ответить на вопрос есть ли связь между жёсткостью воды и средней годовой смертностью?\n",
    "#\n",
    "# Построить точечный график\n",
    "# Рассчитать коэффициенты корреляции Пирсона и Спирмена\n",
    "# Построить модель линейной регрессии\n",
    "# Рассчитать коэффициент детерминации\n",
    "# Вывести график остатков\n",
    "#\n",
    "#\n",
    "# 2 Задание.\n",
    "# Сохраняется ли аналогичная зависимость для северных и южных городов по отдельности?\n",
    "#\n",
    "# Разделить данные на 2 группы\n",
    "# Повторить аналогичные шаги из пункта 1 для каждой группы по отдельности\n"
   ],
   "metadata": {
    "collapsed": false,
    "pycharm": {
     "name": "#%%md\n"
    }
   }
  },
  {
   "cell_type": "code",
   "execution_count": 134,
   "outputs": [],
   "source": [
    "import pandas as pd\n",
    "import matplotlib.pyplot as plt\n",
    "from sklearn.linear_model import LinearRegression\n",
    "import statsmodels.api as sm\n",
    "from statsmodels.sandbox.regression.predstd import wls_prediction_std"
   ],
   "metadata": {
    "collapsed": false,
    "pycharm": {
     "name": "#%%\n"
    }
   }
  },
  {
   "cell_type": "code",
   "execution_count": 135,
   "outputs": [],
   "source": [
    "water_df = pd.read_csv(r'C:\\users\\ivnat\\projects\\netology\\pyda-10\\statistics_python_hw_3\\water.csv')"
   ],
   "metadata": {
    "collapsed": false,
    "pycharm": {
     "name": "#%%\n"
    }
   }
  },
  {
   "cell_type": "code",
   "execution_count": 136,
   "outputs": [
    {
     "name": "stdout",
     "output_type": "stream",
     "text": [
      "<class 'pandas.core.frame.DataFrame'>\n",
      "RangeIndex: 61 entries, 0 to 60\n",
      "Data columns (total 5 columns):\n",
      " #   Column      Non-Null Count  Dtype \n",
      "---  ------      --------------  ----- \n",
      " 0   Unnamed: 0  61 non-null     int64 \n",
      " 1   location    61 non-null     object\n",
      " 2   town        61 non-null     object\n",
      " 3   mortality   61 non-null     int64 \n",
      " 4   hardness    61 non-null     int64 \n",
      "dtypes: int64(3), object(2)\n",
      "memory usage: 2.0+ KB\n"
     ]
    }
   ],
   "source": [
    "water_df.info()\n",
    "\n",
    "# пропусков в данных нет"
   ],
   "metadata": {
    "collapsed": false,
    "pycharm": {
     "name": "#%%\n"
    }
   }
  },
  {
   "cell_type": "code",
   "execution_count": 137,
   "outputs": [
    {
     "data": {
      "text/plain": "<Figure size 432x288 with 1 Axes>",
      "image/png": "[encoded data removed]"
     },
     "metadata": {
      "needs_background": "light"
     },
     "output_type": "display_data"
    }
   ],
   "source": [
    "# Построить точечный график\n",
    "\n",
    "x = water_df.hardness\n",
    "y = water_df.mortality\n",
    "\n",
    "plt.scatter(x, y)\n",
    "plt.show()\n",
    "\n",
    "# на графике прослеживается отрицательная корреляция - чем ниже жесткость, тем выше смертность\n",
    "# Связь линейна"
   ],
   "metadata": {
    "collapsed": false,
    "pycharm": {
     "name": "#%%\n"
    }
   }
  },
  {
   "cell_type": "code",
   "execution_count": 138,
   "outputs": [
    {
     "name": "stdout",
     "output_type": "stream",
     "text": [
      "           hardness  mortality\n",
      "hardness   1.000000  -0.654849\n",
      "mortality -0.654849   1.000000\n"
     ]
    }
   ],
   "source": [
    "# Коэффициент корреляции\n",
    "\n",
    "water_corr = water_df[['hardness', 'mortality']].corr()\n",
    "print(water_corr)"
   ],
   "metadata": {
    "collapsed": false,
    "pycharm": {
     "name": "#%%\n"
    }
   }
  },
  {
   "cell_type": "code",
   "execution_count": 139,
   "outputs": [
    {
     "name": "stdout",
     "output_type": "stream",
     "text": [
      "           hardness  mortality\n",
      "hardness   1.000000  -0.631665\n",
      "mortality -0.631665   1.000000\n"
     ]
    }
   ],
   "source": [
    "# Коэффициент корреляции Спирмана\n",
    "\n",
    "water_corr_sp = water_df[['hardness', 'mortality']].corr(method='spearman')\n",
    "print(water_corr_sp)"
   ],
   "metadata": {
    "collapsed": false,
    "pycharm": {
     "name": "#%%\n"
    }
   }
  },
  {
   "cell_type": "code",
   "execution_count": 140,
   "outputs": [
    {
     "name": "stdout",
     "output_type": "stream",
     "text": [
      "           hardness  mortality\n",
      "hardness   1.000000  -0.654849\n",
      "mortality -0.654849   1.000000\n"
     ]
    }
   ],
   "source": [
    "# Коэффициент корреляции Пирсона\n",
    "\n",
    "water_corr_pe = water_df[['hardness', 'mortality']].corr(method='pearson')\n",
    "print(water_corr_pe)\n",
    "\n",
    "# Силу корреляции можно оценить как среднюю"
   ],
   "metadata": {
    "collapsed": false,
    "pycharm": {
     "name": "#%%\n"
    }
   }
  },
  {
   "cell_type": "code",
   "execution_count": 141,
   "outputs": [
    {
     "data": {
      "text/plain": "LinearRegression()"
     },
     "execution_count": 141,
     "metadata": {},
     "output_type": "execute_result"
    }
   ],
   "source": [
    "# Построить модель линейной регрессии\n",
    "\n",
    "X = water_df[['hardness']]\n",
    "Y = water_df[['mortality']]\n",
    "model = LinearRegression()\n",
    "model.fit(X, Y)"
   ],
   "metadata": {
    "collapsed": false,
    "pycharm": {
     "name": "#%%\n"
    }
   }
  },
  {
   "cell_type": "code",
   "execution_count": 142,
   "outputs": [
    {
     "data": {
      "text/plain": "0.4288267193124974"
     },
     "execution_count": 142,
     "metadata": {},
     "output_type": "execute_result"
    }
   ],
   "source": [
    "# Рассчитать коэффициент детерминации\n",
    "model.score(X, Y)\n",
    "\n",
    "# коэффициент детерминации не превышает 50%, модель дает не очень хорошее предсказание,"
   ],
   "metadata": {
    "collapsed": false,
    "pycharm": {
     "name": "#%%\n"
    }
   }
  },
  {
   "cell_type": "code",
   "execution_count": 143,
   "outputs": [
    {
     "name": "stdout",
     "output_type": "stream",
     "text": [
      "Коэффициент: [[-3.22609161]], независимая константа: [1676.3556007]\n"
     ]
    }
   ],
   "source": [
    "print(f\"Коэффициент: {model.coef_}, независимая константа: {model.intercept_}\")"
   ],
   "metadata": {
    "collapsed": false,
    "pycharm": {
     "name": "#%%\n"
    }
   }
  },
  {
   "cell_type": "code",
   "execution_count": 144,
   "outputs": [
    {
     "data": {
      "text/plain": "<Figure size 432x288 with 1 Axes>",
      "image/png": "[encoded data removed]"
     },
     "metadata": {
      "needs_background": "light"
     },
     "output_type": "display_data"
    }
   ],
   "source": [
    "plt.scatter(water_df['hardness'], water_df['mortality'])\n",
    "plt.plot(water_df['hardness'], model.predict(water_df[['hardness']]), c='r')\n",
    "plt.show()"
   ],
   "metadata": {
    "collapsed": false,
    "pycharm": {
     "name": "#%%\n"
    }
   }
  },
  {
   "cell_type": "code",
   "execution_count": 145,
   "outputs": [],
   "source": [
    "# Вывести график остатков\n",
    "X = sm.add_constant(X)"
   ],
   "metadata": {
    "collapsed": false,
    "pycharm": {
     "name": "#%%\n"
    }
   }
  },
  {
   "cell_type": "code",
   "execution_count": 146,
   "outputs": [
    {
     "name": "stdout",
     "output_type": "stream",
     "text": [
      "                            OLS Regression Results                            \n",
      "==============================================================================\n",
      "Dep. Variable:              mortality   R-squared:                       0.429\n",
      "Model:                            OLS   Adj. R-squared:                  0.419\n",
      "Method:                 Least Squares   F-statistic:                     44.30\n",
      "Date:                Fri, 13 Nov 2020   Prob (F-statistic):           1.03e-08\n",
      "Time:                        16:43:45   Log-Likelihood:                -388.28\n",
      "No. Observations:                  61   AIC:                             780.6\n",
      "Df Residuals:                      59   BIC:                             784.8\n",
      "Df Model:                           1                                         \n",
      "Covariance Type:            nonrobust                                         \n",
      "==============================================================================\n",
      "                 coef    std err          t      P>|t|      [0.025      0.975]\n",
      "------------------------------------------------------------------------------\n",
      "const       1676.3556     29.298     57.217      0.000    1617.730    1734.981\n",
      "hardness      -3.2261      0.485     -6.656      0.000      -4.196      -2.256\n",
      "==============================================================================\n",
      "Omnibus:                        0.570   Durbin-Watson:                   2.197\n",
      "Prob(Omnibus):                  0.752   Jarque-Bera (JB):                0.694\n",
      "Skew:                           0.112   Prob(JB):                        0.707\n",
      "Kurtosis:                       2.528   Cond. No.                         96.7\n",
      "==============================================================================\n",
      "\n",
      "Notes:\n",
      "[1] Standard Errors assume that the covariance matrix of the errors is correctly specified.\n"
     ]
    }
   ],
   "source": [
    "model = sm.OLS(Y, X)\n",
    "results = model.fit()\n",
    "print(results.summary())"
   ],
   "metadata": {
    "collapsed": false,
    "pycharm": {
     "name": "#%%\n"
    }
   }
  },
  {
   "cell_type": "code",
   "execution_count": 147,
   "outputs": [
    {
     "data": {
      "text/plain": "<Figure size 576x432 with 1 Axes>",
      "image/png": "[encoded data removed]"
     },
     "metadata": {
      "needs_background": "light"
     },
     "output_type": "display_data"
    }
   ],
   "source": [
    "prstd, iv_l, iv_u = wls_prediction_std(results)\n",
    "\n",
    "fig, ax = plt.subplots(figsize=(8,6))\n",
    "\n",
    "ax.plot(X.iloc[:,1], Y, 'o', label=\"data\")\n",
    "ax.plot(X.iloc[:,1], results.fittedvalues, 'r--.', label=\"OLS\")\n",
    "ax.plot(X.iloc[:,1], iv_u, 'g--')\n",
    "ax.plot(X.iloc[:,1], iv_l, 'g--')\n",
    "ax.legend(loc='best');\n",
    "plt.show()"
   ],
   "metadata": {
    "collapsed": false,
    "pycharm": {
     "name": "#%%\n"
    }
   }
  },
  {
   "cell_type": "code",
   "execution_count": 186,
   "outputs": [
    {
     "data": {
      "text/plain": "<Figure size 432x288 with 1 Axes>",
      "image/png": "[encoded data removed]"
     },
     "metadata": {
      "needs_background": "light"
     },
     "output_type": "display_data"
    }
   ],
   "source": [
    "# График остатков\n",
    "\n",
    "plt.scatter(X.iloc[:, 1], results.resid)\n",
    "plt.show()\n",
    "\n",
    "# закономерность не прослеживается, распределение значений выглядит случайно,\n",
    "# значит линейная модель выбрана верно"
   ],
   "metadata": {
    "collapsed": false,
    "pycharm": {
     "name": "#%%\n"
    }
   }
  },
  {
   "cell_type": "code",
   "execution_count": 149,
   "outputs": [
    {
     "data": {
      "text/plain": "<Figure size 432x288 with 1 Axes>",
      "image/png": "[encoded data removed]"
     },
     "metadata": {
      "needs_background": "light"
     },
     "output_type": "display_data"
    }
   ],
   "source": [
    "plt.hist(results.resid)\n",
    "plt.show()\n",
    "\n",
    "# распределение напоминает нормальное, нет перекосов,\n",
    "# скопление значений посередине скорее говорит о качестве предсказания модели, небольшой выборке,\n",
    "# большой рассеянности значений, чем о неправильности выбора модели"
   ],
   "metadata": {
    "collapsed": false,
    "pycharm": {
     "name": "#%%\n"
    }
   }
  },
  {
   "cell_type": "code",
   "execution_count": 150,
   "outputs": [],
   "source": [
    "### 2 Задание.\n",
    "# Сохраняется ли аналогичная зависимость для северных и южных городов по отдельности?\n",
    "#\n",
    "# Разделить данные на 2 группы\n",
    "# Повторить аналогичные шаги из пункта 1 для каждой группы по отдельности"
   ],
   "metadata": {
    "collapsed": false,
    "pycharm": {
     "name": "#%%md\n"
    }
   }
  },
  {
   "cell_type": "code",
   "execution_count": 151,
   "outputs": [],
   "source": [
    "north_water_df = water_df[ water_df['location']=='North' ]\n",
    "south_water_df = water_df[ water_df['location']=='South' ]"
   ],
   "metadata": {
    "collapsed": false,
    "pycharm": {
     "name": "#%%\n"
    }
   }
  },
  {
   "cell_type": "code",
   "execution_count": 152,
   "outputs": [
    {
     "name": "stdout",
     "output_type": "stream",
     "text": [
      "<class 'pandas.core.frame.DataFrame'>\n",
      "Int64Index: 35 entries, 1 to 60\n",
      "Data columns (total 5 columns):\n",
      " #   Column      Non-Null Count  Dtype \n",
      "---  ------      --------------  ----- \n",
      " 0   Unnamed: 0  35 non-null     int64 \n",
      " 1   location    35 non-null     object\n",
      " 2   town        35 non-null     object\n",
      " 3   mortality   35 non-null     int64 \n",
      " 4   hardness    35 non-null     int64 \n",
      "dtypes: int64(3), object(2)\n",
      "memory usage: 1.4+ KB\n"
     ]
    }
   ],
   "source": [
    "# Север\n",
    "\n",
    "north_water_df.info()"
   ],
   "metadata": {
    "collapsed": false,
    "pycharm": {
     "name": "#%%\n"
    }
   }
  },
  {
   "cell_type": "code",
   "execution_count": 153,
   "outputs": [
    {
     "data": {
      "text/plain": "<Figure size 432x288 with 1 Axes>",
      "image/png": "[encoded data removed]"
     },
     "metadata": {
      "needs_background": "light"
     },
     "output_type": "display_data"
    }
   ],
   "source": [
    "# Построить точечный график\n",
    "\n",
    "x = north_water_df.hardness\n",
    "y = north_water_df.mortality\n",
    "\n",
    "plt.scatter(x, y)\n",
    "plt.show()\n",
    "\n",
    "# В отличие от неразделенных данных, зависимость проследивается очень слабо.\n",
    "# Скорее отрицательная корреляция"
   ],
   "metadata": {
    "collapsed": false,
    "pycharm": {
     "name": "#%%\n"
    }
   }
  },
  {
   "cell_type": "code",
   "execution_count": 154,
   "outputs": [
    {
     "name": "stdout",
     "output_type": "stream",
     "text": [
      "           hardness  mortality\n",
      "hardness   1.000000  -0.368598\n",
      "mortality -0.368598   1.000000\n"
     ]
    }
   ],
   "source": [
    "# Коэффициент корреляции\n",
    "\n",
    "north_water_corr = north_water_df[['hardness', 'mortality']].corr()\n",
    "print(north_water_corr)"
   ],
   "metadata": {
    "collapsed": false,
    "pycharm": {
     "name": "#%%\n"
    }
   }
  },
  {
   "cell_type": "code",
   "execution_count": 155,
   "outputs": [
    {
     "name": "stdout",
     "output_type": "stream",
     "text": [
      "           hardness  mortality\n",
      "hardness   1.000000  -0.404208\n",
      "mortality -0.404208   1.000000\n"
     ]
    }
   ],
   "source": [
    "# Коэффициент корреляции Спирмана\n",
    "\n",
    "north_water_corr_sp = north_water_df[['hardness', 'mortality']].corr(method='spearman')\n",
    "print(north_water_corr_sp)"
   ],
   "metadata": {
    "collapsed": false,
    "pycharm": {
     "name": "#%%\n"
    }
   }
  },
  {
   "cell_type": "code",
   "execution_count": 156,
   "outputs": [
    {
     "name": "stdout",
     "output_type": "stream",
     "text": [
      "           hardness  mortality\n",
      "hardness   1.000000  -0.368598\n",
      "mortality -0.368598   1.000000\n"
     ]
    }
   ],
   "source": [
    "# Коэффициент корреляции Пирсона\n",
    "\n",
    "north_water_corr_pe = north_water_df[['hardness', 'mortality']].corr(method='pearson')\n",
    "print(north_water_corr_pe)\n",
    "\n",
    "# коэффициенты корреляции подтверждают предыдущий вывод - корреляция слабая"
   ],
   "metadata": {
    "collapsed": false,
    "pycharm": {
     "name": "#%%\n"
    }
   }
  },
  {
   "cell_type": "code",
   "execution_count": 157,
   "outputs": [],
   "source": [
    "# Построить модель линейной регрессии\n",
    "\n",
    "X = north_water_df[['hardness']]\n",
    "Y = north_water_df[['mortality']]\n"
   ],
   "metadata": {
    "collapsed": false,
    "pycharm": {
     "name": "#%%\n"
    }
   }
  },
  {
   "cell_type": "code",
   "execution_count": 158,
   "outputs": [
    {
     "data": {
      "text/plain": "LinearRegression()"
     },
     "execution_count": 158,
     "metadata": {},
     "output_type": "execute_result"
    }
   ],
   "source": [
    "model = LinearRegression()\n",
    "model.fit(X, Y)"
   ],
   "metadata": {
    "collapsed": false,
    "pycharm": {
     "name": "#%%\n"
    }
   }
  },
  {
   "cell_type": "code",
   "execution_count": 159,
   "outputs": [
    {
     "data": {
      "text/plain": "0.1358643664207173"
     },
     "execution_count": 159,
     "metadata": {},
     "output_type": "execute_result"
    }
   ],
   "source": [
    "# Рассчитать коэффициент детерминации\n",
    "model.score(X, Y)\n",
    "\n",
    "# качество предсказания очень низкое"
   ],
   "metadata": {
    "collapsed": false,
    "pycharm": {
     "name": "#%%\n"
    }
   }
  },
  {
   "cell_type": "code",
   "execution_count": 160,
   "outputs": [
    {
     "data": {
      "text/plain": "array([[-1.93134215]])"
     },
     "execution_count": 160,
     "metadata": {},
     "output_type": "execute_result"
    }
   ],
   "source": [
    "model.coef_"
   ],
   "metadata": {
    "collapsed": false,
    "pycharm": {
     "name": "#%%\n"
    }
   }
  },
  {
   "cell_type": "code",
   "execution_count": 161,
   "outputs": [
    {
     "data": {
      "text/plain": "array([1692.31280143])"
     },
     "execution_count": 161,
     "metadata": {},
     "output_type": "execute_result"
    }
   ],
   "source": [
    "model.intercept_"
   ],
   "metadata": {
    "collapsed": false,
    "pycharm": {
     "name": "#%%\n"
    }
   }
  },
  {
   "cell_type": "code",
   "execution_count": 162,
   "outputs": [
    {
     "data": {
      "text/plain": "<Figure size 432x288 with 1 Axes>",
      "image/png": "[encoded data removed]"
     },
     "metadata": {
      "needs_background": "light"
     },
     "output_type": "display_data"
    }
   ],
   "source": [
    "plt.scatter(north_water_df['hardness'], north_water_df['mortality'])\n",
    "plt.plot(north_water_df['hardness'], model.predict(north_water_df[['hardness']]), c='r')\n",
    "plt.show()"
   ],
   "metadata": {
    "collapsed": false,
    "pycharm": {
     "name": "#%%\n"
    }
   }
  },
  {
   "cell_type": "code",
   "execution_count": 163,
   "outputs": [],
   "source": [
    "# Вывести график остатков\n",
    "X = sm.add_constant(X)"
   ],
   "metadata": {
    "collapsed": false,
    "pycharm": {
     "name": "#%%\n"
    }
   }
  },
  {
   "cell_type": "code",
   "execution_count": 164,
   "outputs": [
    {
     "name": "stdout",
     "output_type": "stream",
     "text": [
      "                            OLS Regression Results                            \n",
      "==============================================================================\n",
      "Dep. Variable:              mortality   R-squared:                       0.136\n",
      "Model:                            OLS   Adj. R-squared:                  0.110\n",
      "Method:                 Least Squares   F-statistic:                     5.188\n",
      "Date:                Fri, 13 Nov 2020   Prob (F-statistic):             0.0293\n",
      "Time:                        16:43:49   Log-Likelihood:                -218.78\n",
      "No. Observations:                  35   AIC:                             441.6\n",
      "Df Residuals:                      33   BIC:                             444.7\n",
      "Df Model:                           1                                         \n",
      "Covariance Type:            nonrobust                                         \n",
      "==============================================================================\n",
      "                 coef    std err          t      P>|t|      [0.025      0.975]\n",
      "------------------------------------------------------------------------------\n",
      "const       1692.3128     33.785     50.091      0.000    1623.578    1761.048\n",
      "hardness      -1.9313      0.848     -2.278      0.029      -3.656      -0.206\n",
      "==============================================================================\n",
      "Omnibus:                        0.252   Durbin-Watson:                   2.523\n",
      "Prob(Omnibus):                  0.882   Jarque-Bera (JB):                0.447\n",
      "Skew:                           0.038   Prob(JB):                        0.800\n",
      "Kurtosis:                       2.452   Cond. No.                         61.7\n",
      "==============================================================================\n",
      "\n",
      "Notes:\n",
      "[1] Standard Errors assume that the covariance matrix of the errors is correctly specified.\n"
     ]
    }
   ],
   "source": [
    "model = sm.OLS(Y, X)\n",
    "results = model.fit()\n",
    "print(results.summary())"
   ],
   "metadata": {
    "collapsed": false,
    "pycharm": {
     "name": "#%%\n"
    }
   }
  },
  {
   "cell_type": "code",
   "execution_count": 165,
   "outputs": [
    {
     "data": {
      "text/plain": "<Figure size 576x432 with 1 Axes>",
      "image/png": "[encoded data removed]"
     },
     "metadata": {
      "needs_background": "light"
     },
     "output_type": "display_data"
    }
   ],
   "source": [
    "prstd, iv_l, iv_u = wls_prediction_std(results)\n",
    "\n",
    "fig, ax = plt.subplots(figsize=(8,6))\n",
    "\n",
    "ax.plot(X.iloc[:,1], Y, 'o', label=\"data\")\n",
    "ax.plot(X.iloc[:,1], results.fittedvalues, 'r--.', label=\"OLS\")\n",
    "ax.plot(X.iloc[:,1], iv_u, 'g--')\n",
    "ax.plot(X.iloc[:,1], iv_l, 'g--')\n",
    "ax.legend(loc='best');\n",
    "plt.show()"
   ],
   "metadata": {
    "collapsed": false,
    "pycharm": {
     "name": "#%%\n"
    }
   }
  },
  {
   "cell_type": "code",
   "execution_count": 166,
   "outputs": [
    {
     "data": {
      "text/plain": "<Figure size 432x288 with 1 Axes>",
      "image/png": "[encoded data removed]"
     },
     "metadata": {
      "needs_background": "light"
     },
     "output_type": "display_data"
    }
   ],
   "source": [
    "# График остатков\n",
    "\n",
    "plt.scatter(X.iloc[:, 1], results.resid)\n",
    "plt.show()\n",
    "\n",
    "# по графику видно скопление значений в левой части"
   ],
   "metadata": {
    "collapsed": false,
    "pycharm": {
     "name": "#%%\n"
    }
   }
  },
  {
   "cell_type": "code",
   "execution_count": 167,
   "outputs": [
    {
     "data": {
      "text/plain": "<Figure size 432x288 with 1 Axes>",
      "image/png": "[encoded data removed]"
     },
     "metadata": {
      "needs_background": "light"
     },
     "output_type": "display_data"
    }
   ],
   "source": [
    "plt.hist(results.resid)\n",
    "plt.show()\n"
   ],
   "metadata": {
    "collapsed": false,
    "pycharm": {
     "name": "#%%\n"
    }
   }
  },
  {
   "cell_type": "code",
   "execution_count": 168,
   "outputs": [
    {
     "name": "stdout",
     "output_type": "stream",
     "text": [
      "<class 'pandas.core.frame.DataFrame'>\n",
      "Int64Index: 26 entries, 0 to 59\n",
      "Data columns (total 5 columns):\n",
      " #   Column      Non-Null Count  Dtype \n",
      "---  ------      --------------  ----- \n",
      " 0   Unnamed: 0  26 non-null     int64 \n",
      " 1   location    26 non-null     object\n",
      " 2   town        26 non-null     object\n",
      " 3   mortality   26 non-null     int64 \n",
      " 4   hardness    26 non-null     int64 \n",
      "dtypes: int64(3), object(2)\n",
      "memory usage: 1.0+ KB\n"
     ]
    }
   ],
   "source": [
    "# Юг\n",
    "\n",
    "south_water_df.info()"
   ],
   "metadata": {
    "collapsed": false,
    "pycharm": {
     "name": "#%%\n"
    }
   }
  },
  {
   "cell_type": "code",
   "execution_count": 169,
   "outputs": [
    {
     "data": {
      "text/plain": "<Figure size 432x288 with 1 Axes>",
      "image/png": "[encoded data removed]"
     },
     "metadata": {
      "needs_background": "light"
     },
     "output_type": "display_data"
    }
   ],
   "source": [
    "# Построить точечный график\n",
    "\n",
    "x = south_water_df.hardness\n",
    "y = south_water_df.mortality\n",
    "\n",
    "plt.scatter(x, y)\n",
    "plt.show()\n",
    "\n",
    "# Разброс значений большой, но зависимость прослеживется явно - отрицательная корреляция"
   ],
   "metadata": {
    "collapsed": false,
    "pycharm": {
     "name": "#%%\n"
    }
   }
  },
  {
   "cell_type": "code",
   "execution_count": 170,
   "outputs": [
    {
     "name": "stdout",
     "output_type": "stream",
     "text": [
      "           hardness  mortality\n",
      "hardness   1.000000  -0.602153\n",
      "mortality -0.602153   1.000000\n"
     ]
    }
   ],
   "source": [
    "# Коэффициент корреляции\n",
    "\n",
    "south_water_corr = south_water_df[['hardness', 'mortality']].corr()\n",
    "print(south_water_corr)"
   ],
   "metadata": {
    "collapsed": false,
    "pycharm": {
     "name": "#%%\n"
    }
   }
  },
  {
   "cell_type": "code",
   "execution_count": 171,
   "outputs": [
    {
     "name": "stdout",
     "output_type": "stream",
     "text": [
      "           hardness  mortality\n",
      "hardness   1.000000  -0.595723\n",
      "mortality -0.595723   1.000000\n"
     ]
    }
   ],
   "source": [
    "# Коэффициент корреляции Спирмана\n",
    "\n",
    "south_water_corr_sp = south_water_df[['hardness', 'mortality']].corr(method='spearman')\n",
    "print(south_water_corr_sp)"
   ],
   "metadata": {
    "collapsed": false,
    "pycharm": {
     "name": "#%%\n"
    }
   }
  },
  {
   "cell_type": "code",
   "execution_count": 172,
   "outputs": [
    {
     "name": "stdout",
     "output_type": "stream",
     "text": [
      "           hardness  mortality\n",
      "hardness   1.000000  -0.602153\n",
      "mortality -0.602153   1.000000\n"
     ]
    }
   ],
   "source": [
    "# Коэффициент корреляции Пирсона\n",
    "\n",
    "south_water_corr_pe = south_water_df[['hardness', 'mortality']].corr(method='pearson')\n",
    "print(south_water_corr_pe)\n",
    "\n",
    "# Коэффициенты корреляции так же подтверждают предыдущий вывод. Сила корреляции - средняя."
   ],
   "metadata": {
    "collapsed": false,
    "pycharm": {
     "name": "#%%\n"
    }
   }
  },
  {
   "cell_type": "code",
   "execution_count": 173,
   "outputs": [],
   "source": [
    "# Построить модель линейной регрессии\n",
    "\n",
    "X = south_water_df[['hardness']]\n",
    "Y = south_water_df[['mortality']]\n",
    "model = LinearRegression()\n",
    "model.fit(X, Y)"
   ],
   "metadata": {
    "collapsed": false,
    "pycharm": {
     "name": "#%%\n"
    }
   }
  },
  {
   "cell_type": "code",
   "execution_count": 175,
   "outputs": [
    {
     "data": {
      "text/plain": "0.3625885624364604"
     },
     "execution_count": 175,
     "metadata": {},
     "output_type": "execute_result"
    }
   ],
   "source": [
    "# Рассчитать коэффициент детерминации\n",
    "model.score(X, Y)\n",
    "\n",
    "# коэффициент детерминации так же не высокий, точность предсказаний низкая"
   ],
   "metadata": {
    "collapsed": false,
    "pycharm": {
     "name": "#%%\n"
    }
   }
  },
  {
   "cell_type": "code",
   "execution_count": 176,
   "outputs": [
    {
     "data": {
      "text/plain": "array([[-2.09271845]])"
     },
     "execution_count": 176,
     "metadata": {},
     "output_type": "execute_result"
    }
   ],
   "source": [
    "model.coef_"
   ],
   "metadata": {
    "collapsed": false,
    "pycharm": {
     "name": "#%%\n"
    }
   }
  },
  {
   "cell_type": "code",
   "execution_count": 177,
   "outputs": [
    {
     "data": {
      "text/plain": "array([1522.81504854])"
     },
     "execution_count": 177,
     "metadata": {},
     "output_type": "execute_result"
    }
   ],
   "source": [
    "model.intercept_"
   ],
   "metadata": {
    "collapsed": false,
    "pycharm": {
     "name": "#%%\n"
    }
   }
  },
  {
   "cell_type": "code",
   "execution_count": 178,
   "outputs": [
    {
     "data": {
      "text/plain": "<Figure size 432x288 with 1 Axes>",
      "image/png": "[encoded data removed]"
     },
     "metadata": {
      "needs_background": "light"
     },
     "output_type": "display_data"
    }
   ],
   "source": [
    "plt.scatter(south_water_df['hardness'], south_water_df['mortality'])\n",
    "plt.plot(south_water_df['hardness'], model.predict(south_water_df[['hardness']]), c='r')\n",
    "plt.show()"
   ],
   "metadata": {
    "collapsed": false,
    "pycharm": {
     "name": "#%%\n"
    }
   }
  },
  {
   "cell_type": "code",
   "execution_count": 179,
   "outputs": [],
   "source": [
    "# Вывести график остатков\n",
    "X = sm.add_constant(X)"
   ],
   "metadata": {
    "collapsed": false,
    "pycharm": {
     "name": "#%%\n"
    }
   }
  },
  {
   "cell_type": "code",
   "execution_count": 180,
   "outputs": [
    {
     "name": "stdout",
     "output_type": "stream",
     "text": [
      "                            OLS Regression Results                            \n",
      "==============================================================================\n",
      "Dep. Variable:              mortality   R-squared:                       0.363\n",
      "Model:                            OLS   Adj. R-squared:                  0.336\n",
      "Method:                 Least Squares   F-statistic:                     13.65\n",
      "Date:                Fri, 13 Nov 2020   Prob (F-statistic):            0.00113\n",
      "Time:                        16:43:52   Log-Likelihood:                -159.06\n",
      "No. Observations:                  26   AIC:                             322.1\n",
      "Df Residuals:                      24   BIC:                             324.6\n",
      "Df Model:                           1                                         \n",
      "Covariance Type:            nonrobust                                         \n",
      "==============================================================================\n",
      "                 coef    std err          t      P>|t|      [0.025      0.975]\n",
      "------------------------------------------------------------------------------\n",
      "const       1522.8150     45.431     33.519      0.000    1429.050    1616.580\n",
      "hardness      -2.0927      0.566     -3.695      0.001      -3.262      -0.924\n",
      "==============================================================================\n",
      "Omnibus:                        0.442   Durbin-Watson:                   1.249\n",
      "Prob(Omnibus):                  0.802   Jarque-Bera (JB):                0.566\n",
      "Skew:                           0.240   Prob(JB):                        0.753\n",
      "Kurtosis:                       2.459   Cond. No.                         163.\n",
      "==============================================================================\n",
      "\n",
      "Notes:\n",
      "[1] Standard Errors assume that the covariance matrix of the errors is correctly specified.\n"
     ]
    }
   ],
   "source": [
    "model = sm.OLS(Y, X)\n",
    "results = model.fit()\n",
    "print(results.summary())"
   ],
   "metadata": {
    "collapsed": false,
    "pycharm": {
     "name": "#%%\n"
    }
   }
  },
  {
   "cell_type": "code",
   "execution_count": 181,
   "outputs": [
    {
     "data": {
      "text/plain": "<Figure size 576x432 with 1 Axes>",
      "image/png": "[encoded data removed]"
     },
     "metadata": {
      "needs_background": "light"
     },
     "output_type": "display_data"
    }
   ],
   "source": [
    "prstd, iv_l, iv_u = wls_prediction_std(results)\n",
    "\n",
    "fig, ax = plt.subplots(figsize=(8,6))\n",
    "\n",
    "ax.plot(X.iloc[:,1], Y, 'o', label=\"data\")\n",
    "ax.plot(X.iloc[:,1], results.fittedvalues, 'r--.', label=\"OLS\")\n",
    "ax.plot(X.iloc[:,1], iv_u, 'g--')\n",
    "ax.plot(X.iloc[:,1], iv_l, 'g--')\n",
    "ax.legend(loc='best');\n",
    "plt.show()"
   ],
   "metadata": {
    "collapsed": false,
    "pycharm": {
     "name": "#%%\n"
    }
   }
  },
  {
   "cell_type": "code",
   "execution_count": 182,
   "outputs": [
    {
     "data": {
      "text/plain": "<Figure size 432x288 with 1 Axes>",
      "image/png": "[encoded data removed]"
     },
     "metadata": {
      "needs_background": "light"
     },
     "output_type": "display_data"
    }
   ],
   "source": [
    "# График остатков\n",
    "\n",
    "plt.scatter(X.iloc[:, 1], results.resid)\n",
    "plt.show()\n"
   ],
   "metadata": {
    "collapsed": false,
    "pycharm": {
     "name": "#%%\n"
    }
   }
  },
  {
   "cell_type": "code",
   "execution_count": 183,
   "outputs": [
    {
     "data": {
      "text/plain": "<Figure size 432x288 with 1 Axes>",
      "image/png": "[encoded data removed]"
     },
     "metadata": {
      "needs_background": "light"
     },
     "output_type": "display_data"
    }
   ],
   "source": [
    "plt.hist(results.resid)\n",
    "plt.show()\n",
    "# Для данных по югу, распределение остатков выглядит более случайным, чем для данных по северу"
   ],
   "metadata": {
    "collapsed": false,
    "pycharm": {
     "name": "#%%\n"
    }
   }
  },
  {
   "cell_type": "markdown",
   "source": [
    "Выводы:\n",
    "\n",
    "Не совсем корректно использование абсолютных значений смертности,\n",
    "т.к. показатель может быть связан с размером населения,\n",
    "возможно результаты были бы лучше при использовании относительных значений\n",
    "\n",
    "Небольшой размер выборки и большой разброс значений не позволяет выбрать линейную модель с высокой точностью предсказания.\n",
    "\n",
    "Для все выборки прослеживается средняя отрицательная корреляция между жесткостью воды и смертностью.\n",
    "Но при разделении выборки по географическому принципу, корреляция для одной группы (юг) снижается,а для другой (север)\n",
    "практически имчезает. Это можно объяснить 3 способами:\n",
    "1. Проблема в данных: маленький размер выборки, абсолютные значения вместо относительных\n",
    "2. Корреляция случайна, между этими явлениями на самом деле нет прямой взаимосвязи,\n",
    "т.к. при наличии такой взаимосвязи обе группы показывали бы эту взаимосвязь\n",
    "3. На смертность влияет большее колличество факторов,\n",
    "поэтому корреляция не носит стабильного характера и меняется при разделении по территориальному признаку\n",
    "(чтобы сделать более однозначные выводы нужно исключить влиянию прочих факторов)\n",
    "\n",
    "Лучше всего поведение данных, по моему мнению, объясняют 1 и 3 варианты."
   ],
   "metadata": {
    "collapsed": false,
    "pycharm": {
     "name": "#%% md\n"
    }
   }
  }
 ],
 "metadata": {
  "kernelspec": {
   "display_name": "Python 3",
   "language": "python",
   "name": "python3"
  },
  "language_info": {
   "codemirror_mode": {
    "name": "ipython",
    "version": 2
   },
   "file_extension": ".py",
   "mimetype": "text/x-python",
   "name": "python",
   "nbconvert_exporter": "python",
   "pygments_lexer": "ipython2",
   "version": "2.7.6"
  }
 },
 "nbformat": 4,
 "nbformat_minor": 0
}